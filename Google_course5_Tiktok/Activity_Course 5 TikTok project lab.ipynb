{
 "cells": [
  {
   "cell_type": "markdown",
   "metadata": {
    "id": "DtNBZFHO3M7n"
   },
   "source": [
    "# **TikTok Project**\n",
    "**Course 5 - Regression Analysis: Simplify complex data relationships**"
   ]
  },
  {
   "cell_type": "markdown",
   "metadata": {
    "id": "Gd59VyT2NhgK"
   },
   "source": [
    "You are a data professional at TikTok. The data team is working towards building a machine learning model that can be used to determine whether a video contains a claim or whether it offers an opinion. With a successful prediction model, TikTok can reduce the backlog of user reports and prioritize them more efficiently.\n",
    "\n",
    "The team is getting closer to completing the project, having completed an initial plan of action, initial Python coding work, EDA, and hypothesis testing.\n",
    "\n",
    "The TikTok team has reviewed the results of the hypothesis testing. TikTok’s Operations Lead, Maika Abadi, is interested in how different variables are associated with whether a user is verified. Earlier, the data team observed that if a user is verified, they are much more likely to post opinions. Now, the data team has decided to explore how to predict verified status to help them understand how video characteristics relate to verified users. Therefore, you have been asked to conduct a logistic regression using verified status as the outcome variable. The results may be used to inform the final model related to predicting whether a video is a claim vs an opinion.\n",
    "\n",
    "A notebook was structured and prepared to help you in this project. Please complete the following questions."
   ]
  },
  {
   "cell_type": "markdown",
   "metadata": {
    "id": "rgSbVJvomcVa"
   },
   "source": [
    "# **Course 5 End-of-course project: Regression modeling**\n",
    "\n",
    "\n",
    "In this activity, you will build a logistic regression model in Python. As you have learned, logistic regression helps you estimate the probability of an outcome. For data science professionals, this is a useful skill because it allows you to consider more than one variable against the variable you're measuring against. This opens the door for much more thorough and flexible analysis to be completed.\n",
    "\n",
    "<br/>\n",
    "\n",
    "**The purpose** of this project is to demostrate knowledge of EDA and regression models.\n",
    "\n",
    "**The goal** is to build a logistic regression model and evaluate the model.\n",
    "<br/>\n",
    "*This activity has three parts:*\n",
    "\n",
    "**Part 1:** EDA & Checking Model Assumptions\n",
    "* What are some purposes of EDA before constructing a logistic regression model?\n",
    "\n",
    "**Part 2:** Model Building and Evaluation\n",
    "* What resources do you find yourself using as you complete this stage?\n",
    "\n",
    "**Part 3:** Interpreting Model Results\n",
    "\n",
    "* What key insights emerged from your model(s)?\n",
    "\n",
    "* What business recommendations do you propose based on the models built?\n",
    "\n",
    "Follow the instructions and answer the question below to complete the activity. Then, you will complete an executive summary using the questions listed on the PACE Strategy Document.\n",
    "\n",
    "Be sure to complete this activity before moving on. The next course item will provide you with a completed exemplar to compare to your own work.\n"
   ]
  },
  {
   "cell_type": "markdown",
   "metadata": {
    "id": "7KFOyc3JPSiN"
   },
   "source": [
    "# **Build a regression model**"
   ]
  },
  {
   "cell_type": "markdown",
   "metadata": {
    "id": "3UCHQclzQDUL"
   },
   "source": [
    "<img src=\"images/Pace.png\" width=\"100\" height=\"100\" align=left>\n",
    "\n",
    "# **PACE stages**"
   ]
  },
  {
   "cell_type": "markdown",
   "metadata": {
    "id": "VJfAWkcilRVx"
   },
   "source": [
    "Throughout these project notebooks, you'll see references to the problem-solving framework PACE. The following notebook components are labeled with the respective PACE stage: Plan, Analyze, Construct, and Execute."
   ]
  },
  {
   "cell_type": "markdown",
   "metadata": {
    "id": "F5O5cx_qQJmX"
   },
   "source": [
    "<img src=\"images/Plan.png\" width=\"100\" height=\"100\" align=left>\n",
    "\n",
    "\n",
    "## **PACE: Plan**\n",
    "Consider the questions in your PACE Strategy Document to reflect on the Plan stage."
   ]
  },
  {
   "cell_type": "markdown",
   "metadata": {
    "id": "D8qYlvkLQsf2"
   },
   "source": [
    "### **Task 1. Imports and loading**\n",
    "Import the data and packages that you've learned are needed for building regression models."
   ]
  },
  {
   "cell_type": "code",
   "execution_count": 1,
   "metadata": {
    "id": "tCni9wAGphb0"
   },
   "outputs": [],
   "source": [
    "# Import packages for data manipulation\n",
    "### YOUR CODE HERE ###\n",
    "import pandas as pd\n",
    "import numpy as np\n",
    "\n",
    "# Import packages for data visualization\n",
    "### YOUR CODE HERE ###\n",
    "import seaborn as sns\n",
    "import matplotlib.pyplot as plt\n",
    "\n",
    "# Import packages for data preprocessing\n",
    "### YOUR CODE HERE ###\n",
    "from sklearn.preprocessing import StandardScaler, OneHotEncoder\n",
    "from sklearn.utils import resample\n",
    "\n",
    "# Import packages for data modeling\n",
    "### YOUR CODE HERE ###\n",
    "from sklearn.model_selection import train_test_split\n",
    "from sklearn.linear_model import LogisticRegression\n",
    "from sklearn.metrics import confusion_matrix, ConfusionMatrixDisplay, classification_report"
   ]
  },
  {
   "cell_type": "markdown",
   "metadata": {
    "id": "LjljvyG32kqe"
   },
   "source": [
    "Load the TikTok dataset.\n",
    "\n",
    "**Note:** As shown in this cell, the dataset has been automatically loaded in for you. You do not need to download the .csv file, or provide more code, in order to access the dataset and proceed with this lab. Please continue with this activity by completing the following instructions."
   ]
  },
  {
   "cell_type": "code",
   "execution_count": 2,
   "metadata": {
    "id": "C9ODhaOppqlw"
   },
   "outputs": [],
   "source": [
    "# Load dataset into dataframe\n",
    "data = pd.read_csv(\"tiktok_dataset.csv\")"
   ]
  },
  {
   "cell_type": "markdown",
   "metadata": {
    "id": "OnrvCSfHUWPv"
   },
   "source": [
    "<img src=\"images/Analyze.png\" width=\"100\" height=\"100\" align=left>\n",
    "\n",
    "## **PACE: Analyze**\n",
    "\n",
    "Consider the questions in your PACE Strategy Document to reflect on the Analyze stage.\n",
    "\n",
    "In this stage, consider the following question where applicable to complete your code response:\n",
    "\n",
    "* What are some purposes of EDA before constructing a logistic regression model?\n"
   ]
  },
  {
   "cell_type": "markdown",
   "metadata": {
    "id": "FZA0zpCSpYIL"
   },
   "source": [
    "==> ENTER YOUR RESPONSE HERE"
   ]
  },
  {
   "cell_type": "markdown",
   "metadata": {
    "id": "rIcDG2e66wt9"
   },
   "source": [
    "### **Task 2a. Explore data with EDA**\n",
    "\n",
    "Analyze the data and check for and handle missing values and duplicates."
   ]
  },
  {
   "cell_type": "markdown",
   "metadata": {
    "id": "JBHl90JIRuXk"
   },
   "source": [
    "Inspect the first five rows of the dataframe."
   ]
  },
  {
   "cell_type": "code",
   "execution_count": 3,
   "metadata": {
    "id": "2rfk95MLp4a_"
   },
   "outputs": [
    {
     "data": {
      "text/plain": "   # claim_status    video_id  video_duration_sec  \\\n0  1        claim  7017666017                  59   \n1  2        claim  4014381136                  32   \n2  3        claim  9859838091                  31   \n3  4        claim  1866847991                  25   \n4  5        claim  7105231098                  19   \n\n                            video_transcription_text verified_status  \\\n0  someone shared with me that drone deliveries a...    not verified   \n1  someone shared with me that there are more mic...    not verified   \n2  someone shared with me that american industria...    not verified   \n3  someone shared with me that the metro of st. p...    not verified   \n4  someone shared with me that the number of busi...    not verified   \n\n  author_ban_status  video_view_count  video_like_count  video_share_count  \\\n0      under review          343296.0           19425.0              241.0   \n1            active          140877.0           77355.0            19034.0   \n2            active          902185.0           97690.0             2858.0   \n3            active          437506.0          239954.0            34812.0   \n4            active           56167.0           34987.0             4110.0   \n\n   video_download_count  video_comment_count  \n0                   1.0                  0.0  \n1                1161.0                684.0  \n2                 833.0                329.0  \n3                1234.0                584.0  \n4                 547.0                152.0  ",
      "text/html": "<div>\n<style scoped>\n    .dataframe tbody tr th:only-of-type {\n        vertical-align: middle;\n    }\n\n    .dataframe tbody tr th {\n        vertical-align: top;\n    }\n\n    .dataframe thead th {\n        text-align: right;\n    }\n</style>\n<table border=\"1\" class=\"dataframe\">\n  <thead>\n    <tr style=\"text-align: right;\">\n      <th></th>\n      <th>#</th>\n      <th>claim_status</th>\n      <th>video_id</th>\n      <th>video_duration_sec</th>\n      <th>video_transcription_text</th>\n      <th>verified_status</th>\n      <th>author_ban_status</th>\n      <th>video_view_count</th>\n      <th>video_like_count</th>\n      <th>video_share_count</th>\n      <th>video_download_count</th>\n      <th>video_comment_count</th>\n    </tr>\n  </thead>\n  <tbody>\n    <tr>\n      <th>0</th>\n      <td>1</td>\n      <td>claim</td>\n      <td>7017666017</td>\n      <td>59</td>\n      <td>someone shared with me that drone deliveries a...</td>\n      <td>not verified</td>\n      <td>under review</td>\n      <td>343296.0</td>\n      <td>19425.0</td>\n      <td>241.0</td>\n      <td>1.0</td>\n      <td>0.0</td>\n    </tr>\n    <tr>\n      <th>1</th>\n      <td>2</td>\n      <td>claim</td>\n      <td>4014381136</td>\n      <td>32</td>\n      <td>someone shared with me that there are more mic...</td>\n      <td>not verified</td>\n      <td>active</td>\n      <td>140877.0</td>\n      <td>77355.0</td>\n      <td>19034.0</td>\n      <td>1161.0</td>\n      <td>684.0</td>\n    </tr>\n    <tr>\n      <th>2</th>\n      <td>3</td>\n      <td>claim</td>\n      <td>9859838091</td>\n      <td>31</td>\n      <td>someone shared with me that american industria...</td>\n      <td>not verified</td>\n      <td>active</td>\n      <td>902185.0</td>\n      <td>97690.0</td>\n      <td>2858.0</td>\n      <td>833.0</td>\n      <td>329.0</td>\n    </tr>\n    <tr>\n      <th>3</th>\n      <td>4</td>\n      <td>claim</td>\n      <td>1866847991</td>\n      <td>25</td>\n      <td>someone shared with me that the metro of st. p...</td>\n      <td>not verified</td>\n      <td>active</td>\n      <td>437506.0</td>\n      <td>239954.0</td>\n      <td>34812.0</td>\n      <td>1234.0</td>\n      <td>584.0</td>\n    </tr>\n    <tr>\n      <th>4</th>\n      <td>5</td>\n      <td>claim</td>\n      <td>7105231098</td>\n      <td>19</td>\n      <td>someone shared with me that the number of busi...</td>\n      <td>not verified</td>\n      <td>active</td>\n      <td>56167.0</td>\n      <td>34987.0</td>\n      <td>4110.0</td>\n      <td>547.0</td>\n      <td>152.0</td>\n    </tr>\n  </tbody>\n</table>\n</div>"
     },
     "execution_count": 3,
     "metadata": {},
     "output_type": "execute_result"
    }
   ],
   "source": [
    "# Display first few rows\n",
    "### YOUR CODE HERE ###\n",
    "data.head()"
   ]
  },
  {
   "cell_type": "markdown",
   "metadata": {
    "id": "66KOxKCx977b"
   },
   "source": [
    "Get the number of rows and columns in the dataset."
   ]
  },
  {
   "cell_type": "code",
   "execution_count": 4,
   "metadata": {
    "id": "kYwW-G1WqX3R"
   },
   "outputs": [
    {
     "data": {
      "text/plain": "(19382, 12)"
     },
     "execution_count": 4,
     "metadata": {},
     "output_type": "execute_result"
    }
   ],
   "source": [
    "# Get number of rows and columns\n",
    "### YOUR CODE HERE ###\n",
    "data.shape"
   ]
  },
  {
   "cell_type": "markdown",
   "metadata": {
    "id": "aP-NbEGdEio8"
   },
   "source": [
    "Get the data types of the columns."
   ]
  },
  {
   "cell_type": "code",
   "execution_count": 5,
   "metadata": {
    "id": "rbpDgrXfEoVj"
   },
   "outputs": [
    {
     "data": {
      "text/plain": "#                             int64\nclaim_status                 object\nvideo_id                      int64\nvideo_duration_sec            int64\nvideo_transcription_text     object\nverified_status              object\nauthor_ban_status            object\nvideo_view_count            float64\nvideo_like_count            float64\nvideo_share_count           float64\nvideo_download_count        float64\nvideo_comment_count         float64\ndtype: object"
     },
     "execution_count": 5,
     "metadata": {},
     "output_type": "execute_result"
    }
   ],
   "source": [
    "# Get data types of columns\n",
    "### YOUR CODE HERE ###\n",
    "data.dtypes"
   ]
  },
  {
   "cell_type": "markdown",
   "metadata": {
    "id": "URuRVjUZ_Axg"
   },
   "source": [
    "Get basic information about the dataset."
   ]
  },
  {
   "cell_type": "code",
   "execution_count": 6,
   "metadata": {
    "id": "zyyKCGzCp7SS"
   },
   "outputs": [
    {
     "name": "stdout",
     "output_type": "stream",
     "text": [
      "<class 'pandas.core.frame.DataFrame'>\n",
      "RangeIndex: 19382 entries, 0 to 19381\n",
      "Data columns (total 12 columns):\n",
      " #   Column                    Non-Null Count  Dtype  \n",
      "---  ------                    --------------  -----  \n",
      " 0   #                         19382 non-null  int64  \n",
      " 1   claim_status              19084 non-null  object \n",
      " 2   video_id                  19382 non-null  int64  \n",
      " 3   video_duration_sec        19382 non-null  int64  \n",
      " 4   video_transcription_text  19084 non-null  object \n",
      " 5   verified_status           19382 non-null  object \n",
      " 6   author_ban_status         19382 non-null  object \n",
      " 7   video_view_count          19084 non-null  float64\n",
      " 8   video_like_count          19084 non-null  float64\n",
      " 9   video_share_count         19084 non-null  float64\n",
      " 10  video_download_count      19084 non-null  float64\n",
      " 11  video_comment_count       19084 non-null  float64\n",
      "dtypes: float64(5), int64(3), object(4)\n",
      "memory usage: 1.8+ MB\n"
     ]
    }
   ],
   "source": [
    "# Get basic information\n",
    "### YOUR CODE HERE ###\n",
    "data.info()"
   ]
  },
  {
   "cell_type": "markdown",
   "metadata": {
    "id": "0T5Ieb6WB61Q"
   },
   "source": [
    "Generate basic descriptive statistics about the dataset."
   ]
  },
  {
   "cell_type": "code",
   "execution_count": 7,
   "metadata": {
    "id": "HbpuAS2UqY01"
   },
   "outputs": [
    {
     "data": {
      "text/plain": "                  #      video_id  video_duration_sec  video_view_count  \\\ncount  19382.000000  1.938200e+04        19382.000000      19084.000000   \nmean    9691.500000  5.627454e+09           32.421732     254708.558688   \nstd     5595.245794  2.536440e+09           16.229967     322893.280814   \nmin        1.000000  1.234959e+09            5.000000         20.000000   \n25%     4846.250000  3.430417e+09           18.000000       4942.500000   \n50%     9691.500000  5.618664e+09           32.000000       9954.500000   \n75%    14536.750000  7.843960e+09           47.000000     504327.000000   \nmax    19382.000000  9.999873e+09           60.000000     999817.000000   \n\n       video_like_count  video_share_count  video_download_count  \\\ncount      19084.000000       19084.000000          19084.000000   \nmean       84304.636030       16735.248323           1049.429627   \nstd       133420.546814       32036.174350           2004.299894   \nmin            0.000000           0.000000              0.000000   \n25%          810.750000         115.000000              7.000000   \n50%         3403.500000         717.000000             46.000000   \n75%       125020.000000       18222.000000           1156.250000   \nmax       657830.000000      256130.000000          14994.000000   \n\n       video_comment_count  \ncount         19084.000000  \nmean            349.312146  \nstd             799.638865  \nmin               0.000000  \n25%               1.000000  \n50%               9.000000  \n75%             292.000000  \nmax            9599.000000  ",
      "text/html": "<div>\n<style scoped>\n    .dataframe tbody tr th:only-of-type {\n        vertical-align: middle;\n    }\n\n    .dataframe tbody tr th {\n        vertical-align: top;\n    }\n\n    .dataframe thead th {\n        text-align: right;\n    }\n</style>\n<table border=\"1\" class=\"dataframe\">\n  <thead>\n    <tr style=\"text-align: right;\">\n      <th></th>\n      <th>#</th>\n      <th>video_id</th>\n      <th>video_duration_sec</th>\n      <th>video_view_count</th>\n      <th>video_like_count</th>\n      <th>video_share_count</th>\n      <th>video_download_count</th>\n      <th>video_comment_count</th>\n    </tr>\n  </thead>\n  <tbody>\n    <tr>\n      <th>count</th>\n      <td>19382.000000</td>\n      <td>1.938200e+04</td>\n      <td>19382.000000</td>\n      <td>19084.000000</td>\n      <td>19084.000000</td>\n      <td>19084.000000</td>\n      <td>19084.000000</td>\n      <td>19084.000000</td>\n    </tr>\n    <tr>\n      <th>mean</th>\n      <td>9691.500000</td>\n      <td>5.627454e+09</td>\n      <td>32.421732</td>\n      <td>254708.558688</td>\n      <td>84304.636030</td>\n      <td>16735.248323</td>\n      <td>1049.429627</td>\n      <td>349.312146</td>\n    </tr>\n    <tr>\n      <th>std</th>\n      <td>5595.245794</td>\n      <td>2.536440e+09</td>\n      <td>16.229967</td>\n      <td>322893.280814</td>\n      <td>133420.546814</td>\n      <td>32036.174350</td>\n      <td>2004.299894</td>\n      <td>799.638865</td>\n    </tr>\n    <tr>\n      <th>min</th>\n      <td>1.000000</td>\n      <td>1.234959e+09</td>\n      <td>5.000000</td>\n      <td>20.000000</td>\n      <td>0.000000</td>\n      <td>0.000000</td>\n      <td>0.000000</td>\n      <td>0.000000</td>\n    </tr>\n    <tr>\n      <th>25%</th>\n      <td>4846.250000</td>\n      <td>3.430417e+09</td>\n      <td>18.000000</td>\n      <td>4942.500000</td>\n      <td>810.750000</td>\n      <td>115.000000</td>\n      <td>7.000000</td>\n      <td>1.000000</td>\n    </tr>\n    <tr>\n      <th>50%</th>\n      <td>9691.500000</td>\n      <td>5.618664e+09</td>\n      <td>32.000000</td>\n      <td>9954.500000</td>\n      <td>3403.500000</td>\n      <td>717.000000</td>\n      <td>46.000000</td>\n      <td>9.000000</td>\n    </tr>\n    <tr>\n      <th>75%</th>\n      <td>14536.750000</td>\n      <td>7.843960e+09</td>\n      <td>47.000000</td>\n      <td>504327.000000</td>\n      <td>125020.000000</td>\n      <td>18222.000000</td>\n      <td>1156.250000</td>\n      <td>292.000000</td>\n    </tr>\n    <tr>\n      <th>max</th>\n      <td>19382.000000</td>\n      <td>9.999873e+09</td>\n      <td>60.000000</td>\n      <td>999817.000000</td>\n      <td>657830.000000</td>\n      <td>256130.000000</td>\n      <td>14994.000000</td>\n      <td>9599.000000</td>\n    </tr>\n  </tbody>\n</table>\n</div>"
     },
     "execution_count": 7,
     "metadata": {},
     "output_type": "execute_result"
    }
   ],
   "source": [
    "# Generate basic descriptive stats\n",
    "### YOUR CODE HERE ###\n",
    "data.describe()"
   ]
  },
  {
   "cell_type": "markdown",
   "metadata": {
    "id": "9OpeNQDdyIT6"
   },
   "source": [
    "Check for and handle missing values."
   ]
  },
  {
   "cell_type": "code",
   "execution_count": 8,
   "metadata": {
    "id": "BrunHcfa7xnT"
   },
   "outputs": [
    {
     "data": {
      "text/plain": "#                             0\nclaim_status                298\nvideo_id                      0\nvideo_duration_sec            0\nvideo_transcription_text    298\nverified_status               0\nauthor_ban_status             0\nvideo_view_count            298\nvideo_like_count            298\nvideo_share_count           298\nvideo_download_count        298\nvideo_comment_count         298\ndtype: int64"
     },
     "execution_count": 8,
     "metadata": {},
     "output_type": "execute_result"
    }
   ],
   "source": [
    "# Check for missing values\n",
    "### YOUR CODE HERE ###\n",
    "data.isnull().sum()"
   ]
  },
  {
   "cell_type": "code",
   "execution_count": 9,
   "metadata": {
    "id": "SHSj1Hma914I"
   },
   "outputs": [
    {
     "name": "stdout",
     "output_type": "stream",
     "text": [
      "#                           0\n",
      "claim_status                0\n",
      "video_id                    0\n",
      "video_duration_sec          0\n",
      "video_transcription_text    0\n",
      "verified_status             0\n",
      "author_ban_status           0\n",
      "video_view_count            0\n",
      "video_like_count            0\n",
      "video_share_count           0\n",
      "video_download_count        0\n",
      "video_comment_count         0\n",
      "dtype: int64\n",
      "(19084, 12)\n"
     ]
    }
   ],
   "source": [
    "# Drop rows with missing values\n",
    "### YOUR CODE HERE ###\n",
    "data =data.dropna(axis=0)\n",
    "print(data.isnull().sum())\n",
    "print(data.shape)"
   ]
  },
  {
   "cell_type": "code",
   "execution_count": 10,
   "metadata": {
    "id": "ZYUF3xap9_Fa"
   },
   "outputs": [
    {
     "data": {
      "text/plain": "   # claim_status    video_id  video_duration_sec  \\\n0  1        claim  7017666017                  59   \n1  2        claim  4014381136                  32   \n2  3        claim  9859838091                  31   \n3  4        claim  1866847991                  25   \n4  5        claim  7105231098                  19   \n\n                            video_transcription_text verified_status  \\\n0  someone shared with me that drone deliveries a...    not verified   \n1  someone shared with me that there are more mic...    not verified   \n2  someone shared with me that american industria...    not verified   \n3  someone shared with me that the metro of st. p...    not verified   \n4  someone shared with me that the number of busi...    not verified   \n\n  author_ban_status  video_view_count  video_like_count  video_share_count  \\\n0      under review          343296.0           19425.0              241.0   \n1            active          140877.0           77355.0            19034.0   \n2            active          902185.0           97690.0             2858.0   \n3            active          437506.0          239954.0            34812.0   \n4            active           56167.0           34987.0             4110.0   \n\n   video_download_count  video_comment_count  \n0                   1.0                  0.0  \n1                1161.0                684.0  \n2                 833.0                329.0  \n3                1234.0                584.0  \n4                 547.0                152.0  ",
      "text/html": "<div>\n<style scoped>\n    .dataframe tbody tr th:only-of-type {\n        vertical-align: middle;\n    }\n\n    .dataframe tbody tr th {\n        vertical-align: top;\n    }\n\n    .dataframe thead th {\n        text-align: right;\n    }\n</style>\n<table border=\"1\" class=\"dataframe\">\n  <thead>\n    <tr style=\"text-align: right;\">\n      <th></th>\n      <th>#</th>\n      <th>claim_status</th>\n      <th>video_id</th>\n      <th>video_duration_sec</th>\n      <th>video_transcription_text</th>\n      <th>verified_status</th>\n      <th>author_ban_status</th>\n      <th>video_view_count</th>\n      <th>video_like_count</th>\n      <th>video_share_count</th>\n      <th>video_download_count</th>\n      <th>video_comment_count</th>\n    </tr>\n  </thead>\n  <tbody>\n    <tr>\n      <th>0</th>\n      <td>1</td>\n      <td>claim</td>\n      <td>7017666017</td>\n      <td>59</td>\n      <td>someone shared with me that drone deliveries a...</td>\n      <td>not verified</td>\n      <td>under review</td>\n      <td>343296.0</td>\n      <td>19425.0</td>\n      <td>241.0</td>\n      <td>1.0</td>\n      <td>0.0</td>\n    </tr>\n    <tr>\n      <th>1</th>\n      <td>2</td>\n      <td>claim</td>\n      <td>4014381136</td>\n      <td>32</td>\n      <td>someone shared with me that there are more mic...</td>\n      <td>not verified</td>\n      <td>active</td>\n      <td>140877.0</td>\n      <td>77355.0</td>\n      <td>19034.0</td>\n      <td>1161.0</td>\n      <td>684.0</td>\n    </tr>\n    <tr>\n      <th>2</th>\n      <td>3</td>\n      <td>claim</td>\n      <td>9859838091</td>\n      <td>31</td>\n      <td>someone shared with me that american industria...</td>\n      <td>not verified</td>\n      <td>active</td>\n      <td>902185.0</td>\n      <td>97690.0</td>\n      <td>2858.0</td>\n      <td>833.0</td>\n      <td>329.0</td>\n    </tr>\n    <tr>\n      <th>3</th>\n      <td>4</td>\n      <td>claim</td>\n      <td>1866847991</td>\n      <td>25</td>\n      <td>someone shared with me that the metro of st. p...</td>\n      <td>not verified</td>\n      <td>active</td>\n      <td>437506.0</td>\n      <td>239954.0</td>\n      <td>34812.0</td>\n      <td>1234.0</td>\n      <td>584.0</td>\n    </tr>\n    <tr>\n      <th>4</th>\n      <td>5</td>\n      <td>claim</td>\n      <td>7105231098</td>\n      <td>19</td>\n      <td>someone shared with me that the number of busi...</td>\n      <td>not verified</td>\n      <td>active</td>\n      <td>56167.0</td>\n      <td>34987.0</td>\n      <td>4110.0</td>\n      <td>547.0</td>\n      <td>152.0</td>\n    </tr>\n  </tbody>\n</table>\n</div>"
     },
     "execution_count": 10,
     "metadata": {},
     "output_type": "execute_result"
    }
   ],
   "source": [
    "# Display first few rows after handling missing values\n",
    "### YOUR CODE HERE ###\n",
    "data.head()"
   ]
  },
  {
   "cell_type": "markdown",
   "metadata": {
    "id": "XcfffpANyNiu"
   },
   "source": [
    "Check for and handle duplicates."
   ]
  },
  {
   "cell_type": "code",
   "execution_count": 11,
   "metadata": {
    "id": "IKaGnWIsiHpH"
   },
   "outputs": [
    {
     "data": {
      "text/plain": "0"
     },
     "execution_count": 11,
     "metadata": {},
     "output_type": "execute_result"
    }
   ],
   "source": [
    "# Check for duplicates\n",
    "### YOUR CODE HERE ###\n",
    "data.duplicated().sum()"
   ]
  },
  {
   "cell_type": "markdown",
   "metadata": {
    "id": "k-HcHpGc5Hn7"
   },
   "source": [
    "Check for and handle outliers."
   ]
  },
  {
   "cell_type": "code",
   "execution_count": 12,
   "metadata": {
    "id": "Ts_lcV6qUQHq"
   },
   "outputs": [
    {
     "name": "stderr",
     "output_type": "stream",
     "text": [
      "C:\\Users\\Junior\\anaconda3\\lib\\site-packages\\seaborn\\_decorators.py:36: FutureWarning: Pass the following variable as a keyword arg: x. From version 0.12, the only valid positional argument will be `data`, and passing other arguments without an explicit keyword will result in an error or misinterpretation.\n",
      "  warnings.warn(\n"
     ]
    },
    {
     "data": {
      "text/plain": "<AxesSubplot:xlabel='video_duration_sec'>"
     },
     "execution_count": 12,
     "metadata": {},
     "output_type": "execute_result"
    },
    {
     "data": {
      "text/plain": "<Figure size 1000x200 with 1 Axes>",
      "image/png": "[encoded data removed]"
     },
     "metadata": {},
     "output_type": "display_data"
    }
   ],
   "source": [
    "# Create a boxplot to visualize distribution of `video_duration_sec`\n",
    "### YOUR CODE HERE ###\n",
    "sns.set(rc={\"figure.figsize\":(10, 2)})\n",
    "sns.boxplot(data['video_duration_sec'])"
   ]
  },
  {
   "cell_type": "code",
   "execution_count": 13,
   "metadata": {
    "id": "qlUccI91a4NH"
   },
   "outputs": [
    {
     "name": "stderr",
     "output_type": "stream",
     "text": [
      "C:\\Users\\Junior\\anaconda3\\lib\\site-packages\\seaborn\\_decorators.py:36: FutureWarning: Pass the following variable as a keyword arg: x. From version 0.12, the only valid positional argument will be `data`, and passing other arguments without an explicit keyword will result in an error or misinterpretation.\n",
      "  warnings.warn(\n"
     ]
    },
    {
     "data": {
      "text/plain": "<AxesSubplot:xlabel='video_view_count'>"
     },
     "execution_count": 13,
     "metadata": {},
     "output_type": "execute_result"
    },
    {
     "data": {
      "text/plain": "<Figure size 1000x200 with 1 Axes>",
      "image/png": "[encoded data removed]"
     },
     "metadata": {},
     "output_type": "display_data"
    }
   ],
   "source": [
    "# Create a boxplot to visualize distribution of `video_view_count`\n",
    "### YOUR CODE HERE ###\n",
    "\n",
    "sns.boxplot(data['video_view_count'])"
   ]
  },
  {
   "cell_type": "code",
   "execution_count": 14,
   "metadata": {
    "id": "N0UVdeRUzEEF"
   },
   "outputs": [
    {
     "name": "stderr",
     "output_type": "stream",
     "text": [
      "C:\\Users\\Junior\\anaconda3\\lib\\site-packages\\seaborn\\_decorators.py:36: FutureWarning: Pass the following variable as a keyword arg: x. From version 0.12, the only valid positional argument will be `data`, and passing other arguments without an explicit keyword will result in an error or misinterpretation.\n",
      "  warnings.warn(\n"
     ]
    },
    {
     "data": {
      "text/plain": "<AxesSubplot:xlabel='video_like_count'>"
     },
     "execution_count": 14,
     "metadata": {},
     "output_type": "execute_result"
    },
    {
     "data": {
      "text/plain": "<Figure size 1000x200 with 1 Axes>",
      "image/png": "[encoded data removed]"
     },
     "metadata": {},
     "output_type": "display_data"
    }
   ],
   "source": [
    "# Create a boxplot to visualize distribution of `video_like_count`\n",
    "### YOUR CODE HERE ###\n",
    "\n",
    "sns.boxplot(data['video_like_count'])"
   ]
  },
  {
   "cell_type": "code",
   "execution_count": 15,
   "metadata": {
    "id": "-gE1fkGo0eG9"
   },
   "outputs": [
    {
     "name": "stderr",
     "output_type": "stream",
     "text": [
      "C:\\Users\\Junior\\anaconda3\\lib\\site-packages\\seaborn\\_decorators.py:36: FutureWarning: Pass the following variable as a keyword arg: x. From version 0.12, the only valid positional argument will be `data`, and passing other arguments without an explicit keyword will result in an error or misinterpretation.\n",
      "  warnings.warn(\n"
     ]
    },
    {
     "data": {
      "text/plain": "<AxesSubplot:xlabel='video_comment_count'>"
     },
     "execution_count": 15,
     "metadata": {},
     "output_type": "execute_result"
    },
    {
     "data": {
      "text/plain": "<Figure size 1000x200 with 1 Axes>",
      "image/png": "[encoded data removed]"
     },
     "metadata": {},
     "output_type": "display_data"
    }
   ],
   "source": [
    "# Create a boxplot to visualize distribution of `video_comment_count`\n",
    "### YOUR CODE HERE ###\n",
    "\n",
    "sns.boxplot(data['video_comment_count'])"
   ]
  },
  {
   "cell_type": "code",
   "execution_count": 16,
   "metadata": {
    "id": "85JfQprd5Kn9"
   },
   "outputs": [],
   "source": [
    "# Check for and handle outliers for video_like_count\n",
    "### YOUR CODE HERE ###\n",
    "\n",
    "percentile25 = data['video_like_count'].quantile(0.25)\n",
    "percentile75 = data['video_like_count'].quantile(0.75)\n",
    "\n",
    "iqr = percentile75 - percentile25\n",
    "upper_limit = percentile75 + 1.5 * iqr\n",
    "\n",
    "data.loc[data['video_like_count'] > upper_limit, 'video_like_count'] = upper_limit"
   ]
  },
  {
   "cell_type": "markdown",
   "metadata": {
    "id": "eDcY0ZaEJgDl"
   },
   "source": [
    "Check class balance."
   ]
  },
  {
   "cell_type": "code",
   "execution_count": 17,
   "metadata": {
    "id": "e3klRqlsJhtp"
   },
   "outputs": [
    {
     "data": {
      "text/plain": "not verified    0.93712\nverified        0.06288\nName: verified_status, dtype: float64"
     },
     "execution_count": 17,
     "metadata": {},
     "output_type": "execute_result"
    }
   ],
   "source": [
    "# Check class balance for video_comment_count\n",
    "### YOUR CODE HERE ###\n",
    "data['verified_status'].value_counts(normalize=True)"
   ]
  },
  {
   "cell_type": "markdown",
   "metadata": {
    "id": "ePYWt2p5LqlW"
   },
   "source": [
    "Approximately 94.2% of the dataset represents videos posted by unverified accounts and 5.8% represents videos posted by verified accounts. So the outcome variable is not very balanced."
   ]
  },
  {
   "cell_type": "markdown",
   "metadata": {
    "id": "zRDMuXjbA9KQ"
   },
   "source": [
    "Use resampling to create class balance in the outcome variable, if needed."
   ]
  },
  {
   "cell_type": "code",
   "execution_count": 18,
   "metadata": {
    "id": "AWhetFT3Ggyp"
   },
   "outputs": [
    {
     "data": {
      "text/plain": "not verified    17884\nverified        17884\nName: verified_status, dtype: int64"
     },
     "execution_count": 18,
     "metadata": {},
     "output_type": "execute_result"
    }
   ],
   "source": [
    "# Use resampling to create class balance in the outcome variable, if needed\n",
    "\n",
    "# Identify data points from majority and minority classes\n",
    "### YOUR CODE HERE ###\n",
    "data_majority = data[data['verified_status'] == 'not verified']\n",
    "data_minority = data[data['verified_status'] == 'verified']\n",
    "\n",
    "# Upsample the minority class (which is \"verified\")\n",
    "### YOUR CODE HERE ###\n",
    "data_minority_upsampled = resample(data_minority, replace=True, n_samples=len(data_majority), random_state=0)\n",
    "\n",
    "# Combine majority class with upsampled minority class\n",
    "### YOUR CODE HERE ###\n",
    "data_upsampled = pd.concat([data_majority, data_minority_upsampled]).reset_index(drop=True)\n",
    "\n",
    "# Display new class counts\n",
    "### YOUR CODE HERE ###\n",
    "data_upsampled['verified_status'].value_counts()"
   ]
  },
  {
   "cell_type": "markdown",
   "metadata": {
    "id": "K2RHONw6D3R6"
   },
   "source": [
    "Get the average `video_transcription_text` length for videos posted by verified accounts and the average `video_transcription_text` length for videos posted by unverified accounts.\n",
    "\n"
   ]
  },
  {
   "cell_type": "code",
   "execution_count": 19,
   "metadata": {
    "id": "w-aaFCPCD88e"
   },
   "outputs": [
    {
     "data": {
      "text/plain": "                 video_transcription_text\nverified_status                          \nnot verified                    89.401141\nverified                        84.569559",
      "text/html": "<div>\n<style scoped>\n    .dataframe tbody tr th:only-of-type {\n        vertical-align: middle;\n    }\n\n    .dataframe tbody tr th {\n        vertical-align: top;\n    }\n\n    .dataframe thead th {\n        text-align: right;\n    }\n</style>\n<table border=\"1\" class=\"dataframe\">\n  <thead>\n    <tr style=\"text-align: right;\">\n      <th></th>\n      <th>video_transcription_text</th>\n    </tr>\n    <tr>\n      <th>verified_status</th>\n      <th></th>\n    </tr>\n  </thead>\n  <tbody>\n    <tr>\n      <th>not verified</th>\n      <td>89.401141</td>\n    </tr>\n    <tr>\n      <th>verified</th>\n      <td>84.569559</td>\n    </tr>\n  </tbody>\n</table>\n</div>"
     },
     "execution_count": 19,
     "metadata": {},
     "output_type": "execute_result"
    }
   ],
   "source": [
    "# Get the average `video_transcription_text` length for claims and the average `video_transcription_text` length for opinions\n",
    "### YOUR CODE HERE ###\n",
    "\n",
    "data_upsampled[[\"verified_status\", \"video_transcription_text\"]].groupby(by=\"verified_status\")[[\"video_transcription_text\"]].agg(func=lambda array: np.mean([len(text) for text in array]))"
   ]
  },
  {
   "cell_type": "markdown",
   "metadata": {
    "id": "hb_u1c6_T1i-"
   },
   "source": [
    "Extract the length of each `video_transcription_text` and add this as a column to the dataframe, so that it can be used as a potential feature in the model."
   ]
  },
  {
   "cell_type": "code",
   "execution_count": 20,
   "metadata": {
    "id": "8Yr9hhhVHeYY"
   },
   "outputs": [],
   "source": [
    "# Extract the length of each `video_transcription_text` and add this as a column to the dataframe\n",
    "### YOUR CODE HERE ###\n",
    "data_upsampled['text_length'] = data_upsampled['video_transcription_text'].apply(lambda x: len(x))"
   ]
  },
  {
   "cell_type": "code",
   "execution_count": 21,
   "metadata": {
    "id": "Vzg0J8UEJ1wx"
   },
   "outputs": [
    {
     "data": {
      "text/plain": "   # claim_status    video_id  video_duration_sec  \\\n0  1        claim  7017666017                  59   \n1  2        claim  4014381136                  32   \n2  3        claim  9859838091                  31   \n3  4        claim  1866847991                  25   \n4  5        claim  7105231098                  19   \n\n                            video_transcription_text verified_status  \\\n0  someone shared with me that drone deliveries a...    not verified   \n1  someone shared with me that there are more mic...    not verified   \n2  someone shared with me that american industria...    not verified   \n3  someone shared with me that the metro of st. p...    not verified   \n4  someone shared with me that the number of busi...    not verified   \n\n  author_ban_status  video_view_count  video_like_count  video_share_count  \\\n0      under review          343296.0           19425.0              241.0   \n1            active          140877.0           77355.0            19034.0   \n2            active          902185.0           97690.0             2858.0   \n3            active          437506.0          239954.0            34812.0   \n4            active           56167.0           34987.0             4110.0   \n\n   video_download_count  video_comment_count  text_length  \n0                   1.0                  0.0           97  \n1                1161.0                684.0          107  \n2                 833.0                329.0          137  \n3                1234.0                584.0          131  \n4                 547.0                152.0          128  ",
      "text/html": "<div>\n<style scoped>\n    .dataframe tbody tr th:only-of-type {\n        vertical-align: middle;\n    }\n\n    .dataframe tbody tr th {\n        vertical-align: top;\n    }\n\n    .dataframe thead th {\n        text-align: right;\n    }\n</style>\n<table border=\"1\" class=\"dataframe\">\n  <thead>\n    <tr style=\"text-align: right;\">\n      <th></th>\n      <th>#</th>\n      <th>claim_status</th>\n      <th>video_id</th>\n      <th>video_duration_sec</th>\n      <th>video_transcription_text</th>\n      <th>verified_status</th>\n      <th>author_ban_status</th>\n      <th>video_view_count</th>\n      <th>video_like_count</th>\n      <th>video_share_count</th>\n      <th>video_download_count</th>\n      <th>video_comment_count</th>\n      <th>text_length</th>\n    </tr>\n  </thead>\n  <tbody>\n    <tr>\n      <th>0</th>\n      <td>1</td>\n      <td>claim</td>\n      <td>7017666017</td>\n      <td>59</td>\n      <td>someone shared with me that drone deliveries a...</td>\n      <td>not verified</td>\n      <td>under review</td>\n      <td>343296.0</td>\n      <td>19425.0</td>\n      <td>241.0</td>\n      <td>1.0</td>\n      <td>0.0</td>\n      <td>97</td>\n    </tr>\n    <tr>\n      <th>1</th>\n      <td>2</td>\n      <td>claim</td>\n      <td>4014381136</td>\n      <td>32</td>\n      <td>someone shared with me that there are more mic...</td>\n      <td>not verified</td>\n      <td>active</td>\n      <td>140877.0</td>\n      <td>77355.0</td>\n      <td>19034.0</td>\n      <td>1161.0</td>\n      <td>684.0</td>\n      <td>107</td>\n    </tr>\n    <tr>\n      <th>2</th>\n      <td>3</td>\n      <td>claim</td>\n      <td>9859838091</td>\n      <td>31</td>\n      <td>someone shared with me that american industria...</td>\n      <td>not verified</td>\n      <td>active</td>\n      <td>902185.0</td>\n      <td>97690.0</td>\n      <td>2858.0</td>\n      <td>833.0</td>\n      <td>329.0</td>\n      <td>137</td>\n    </tr>\n    <tr>\n      <th>3</th>\n      <td>4</td>\n      <td>claim</td>\n      <td>1866847991</td>\n      <td>25</td>\n      <td>someone shared with me that the metro of st. p...</td>\n      <td>not verified</td>\n      <td>active</td>\n      <td>437506.0</td>\n      <td>239954.0</td>\n      <td>34812.0</td>\n      <td>1234.0</td>\n      <td>584.0</td>\n      <td>131</td>\n    </tr>\n    <tr>\n      <th>4</th>\n      <td>5</td>\n      <td>claim</td>\n      <td>7105231098</td>\n      <td>19</td>\n      <td>someone shared with me that the number of busi...</td>\n      <td>not verified</td>\n      <td>active</td>\n      <td>56167.0</td>\n      <td>34987.0</td>\n      <td>4110.0</td>\n      <td>547.0</td>\n      <td>152.0</td>\n      <td>128</td>\n    </tr>\n  </tbody>\n</table>\n</div>"
     },
     "execution_count": 21,
     "metadata": {},
     "output_type": "execute_result"
    }
   ],
   "source": [
    "# Display first few rows of dataframe after adding new column\n",
    "### YOUR CODE HERE ###\n",
    "data_upsampled.head()"
   ]
  },
  {
   "cell_type": "markdown",
   "metadata": {
    "id": "LGu7ipi4AJmP"
   },
   "source": [
    "Visualize the distribution of `video_transcription_text` length for videos posted by verified accounts and videos posted by unverified accounts."
   ]
  },
  {
   "cell_type": "code",
   "execution_count": 22,
   "metadata": {
    "id": "MSq136S3TIYe"
   },
   "outputs": [
    {
     "data": {
      "text/plain": "<Figure size 1000x200 with 1 Axes>",
      "image/png": "[encoded data removed]"
     },
     "metadata": {},
     "output_type": "display_data"
    }
   ],
   "source": [
    "# Visualize the distribution of `video_transcription_text` length for videos posted by verified accounts and videos posted by unverified accounts\n",
    "# Create two histograms in one plot\n",
    "### YOUR CODE HERE ###\n",
    "sns.histplot(data=data_upsampled, stat='count', multiple='stack', x='text_length', kde=False, palette='pastel', \n",
    "             hue='verified_status', element='bars', legend=True)\n",
    "plt.title('Stacked Histogram')\n",
    "plt.xlabel('Video Text Length')\n",
    "plt.ylabel('Count')\n",
    "plt.title('Distribution of Video Text Length')\n",
    "plt.show()"
   ]
  },
  {
   "cell_type": "markdown",
   "metadata": {
    "id": "KlF7ZNSyW0yV"
   },
   "source": [
    "### **Task 2b. Examine correlations**"
   ]
  },
  {
   "cell_type": "markdown",
   "metadata": {
    "id": "pKkx6FvS4OpI"
   },
   "source": [
    "Next, code a correlation matrix to help determine most correlated variables."
   ]
  },
  {
   "cell_type": "code",
   "execution_count": 23,
   "metadata": {
    "id": "KCEzE-gwL5gq"
   },
   "outputs": [
    {
     "data": {
      "text/plain": "                             #  video_id  video_duration_sec  \\\n#                     1.000000 -0.000853           -0.011729   \nvideo_id             -0.000853  1.000000            0.011859   \nvideo_duration_sec   -0.011729  0.011859            1.000000   \nvideo_view_count     -0.697007  0.002554            0.013589   \nvideo_like_count     -0.626385  0.005993            0.004494   \nvideo_share_count    -0.504015  0.010515            0.002206   \nvideo_download_count -0.487096  0.008753            0.003989   \nvideo_comment_count  -0.413799  0.013983           -0.004586   \ntext_length          -0.193677 -0.007083           -0.002981   \n\n                      video_view_count  video_like_count  video_share_count  \\\n#                            -0.697007         -0.626385          -0.504015   \nvideo_id                      0.002554          0.005993           0.010515   \nvideo_duration_sec            0.013589          0.004494           0.002206   \nvideo_view_count              1.000000          0.856937           0.711313   \nvideo_like_count              0.856937          1.000000           0.832146   \nvideo_share_count             0.711313          0.832146           1.000000   \nvideo_download_count          0.690048          0.805543           0.710117   \nvideo_comment_count           0.583485          0.686647           0.620182   \ntext_length                   0.244693          0.216693           0.171651   \n\n                      video_download_count  video_comment_count  text_length  \n#                                -0.487096            -0.413799    -0.193677  \nvideo_id                          0.008753             0.013983    -0.007083  \nvideo_duration_sec                0.003989            -0.004586    -0.002981  \nvideo_view_count                  0.690048             0.583485     0.244693  \nvideo_like_count                  0.805543             0.686647     0.216693  \nvideo_share_count                 0.710117             0.620182     0.171651  \nvideo_download_count              1.000000             0.857679     0.173396  \nvideo_comment_count               0.857679             1.000000     0.149750  \ntext_length                       0.173396             0.149750     1.000000  ",
      "text/html": "<div>\n<style scoped>\n    .dataframe tbody tr th:only-of-type {\n        vertical-align: middle;\n    }\n\n    .dataframe tbody tr th {\n        vertical-align: top;\n    }\n\n    .dataframe thead th {\n        text-align: right;\n    }\n</style>\n<table border=\"1\" class=\"dataframe\">\n  <thead>\n    <tr style=\"text-align: right;\">\n      <th></th>\n      <th>#</th>\n      <th>video_id</th>\n      <th>video_duration_sec</th>\n      <th>video_view_count</th>\n      <th>video_like_count</th>\n      <th>video_share_count</th>\n      <th>video_download_count</th>\n      <th>video_comment_count</th>\n      <th>text_length</th>\n    </tr>\n  </thead>\n  <tbody>\n    <tr>\n      <th>#</th>\n      <td>1.000000</td>\n      <td>-0.000853</td>\n      <td>-0.011729</td>\n      <td>-0.697007</td>\n      <td>-0.626385</td>\n      <td>-0.504015</td>\n      <td>-0.487096</td>\n      <td>-0.413799</td>\n      <td>-0.193677</td>\n    </tr>\n    <tr>\n      <th>video_id</th>\n      <td>-0.000853</td>\n      <td>1.000000</td>\n      <td>0.011859</td>\n      <td>0.002554</td>\n      <td>0.005993</td>\n      <td>0.010515</td>\n      <td>0.008753</td>\n      <td>0.013983</td>\n      <td>-0.007083</td>\n    </tr>\n    <tr>\n      <th>video_duration_sec</th>\n      <td>-0.011729</td>\n      <td>0.011859</td>\n      <td>1.000000</td>\n      <td>0.013589</td>\n      <td>0.004494</td>\n      <td>0.002206</td>\n      <td>0.003989</td>\n      <td>-0.004586</td>\n      <td>-0.002981</td>\n    </tr>\n    <tr>\n      <th>video_view_count</th>\n      <td>-0.697007</td>\n      <td>0.002554</td>\n      <td>0.013589</td>\n      <td>1.000000</td>\n      <td>0.856937</td>\n      <td>0.711313</td>\n      <td>0.690048</td>\n      <td>0.583485</td>\n      <td>0.244693</td>\n    </tr>\n    <tr>\n      <th>video_like_count</th>\n      <td>-0.626385</td>\n      <td>0.005993</td>\n      <td>0.004494</td>\n      <td>0.856937</td>\n      <td>1.000000</td>\n      <td>0.832146</td>\n      <td>0.805543</td>\n      <td>0.686647</td>\n      <td>0.216693</td>\n    </tr>\n    <tr>\n      <th>video_share_count</th>\n      <td>-0.504015</td>\n      <td>0.010515</td>\n      <td>0.002206</td>\n      <td>0.711313</td>\n      <td>0.832146</td>\n      <td>1.000000</td>\n      <td>0.710117</td>\n      <td>0.620182</td>\n      <td>0.171651</td>\n    </tr>\n    <tr>\n      <th>video_download_count</th>\n      <td>-0.487096</td>\n      <td>0.008753</td>\n      <td>0.003989</td>\n      <td>0.690048</td>\n      <td>0.805543</td>\n      <td>0.710117</td>\n      <td>1.000000</td>\n      <td>0.857679</td>\n      <td>0.173396</td>\n    </tr>\n    <tr>\n      <th>video_comment_count</th>\n      <td>-0.413799</td>\n      <td>0.013983</td>\n      <td>-0.004586</td>\n      <td>0.583485</td>\n      <td>0.686647</td>\n      <td>0.620182</td>\n      <td>0.857679</td>\n      <td>1.000000</td>\n      <td>0.149750</td>\n    </tr>\n    <tr>\n      <th>text_length</th>\n      <td>-0.193677</td>\n      <td>-0.007083</td>\n      <td>-0.002981</td>\n      <td>0.244693</td>\n      <td>0.216693</td>\n      <td>0.171651</td>\n      <td>0.173396</td>\n      <td>0.149750</td>\n      <td>1.000000</td>\n    </tr>\n  </tbody>\n</table>\n</div>"
     },
     "execution_count": 23,
     "metadata": {},
     "output_type": "execute_result"
    }
   ],
   "source": [
    "# Code a correlation matrix to help determine most correlated variables\n",
    "### YOUR CODE HERE ###\n",
    "data_upsampled.corr()"
   ]
  },
  {
   "cell_type": "markdown",
   "metadata": {
    "id": "6Ldmks6g4ZzE"
   },
   "source": [
    "Visualize a correlation heatmap of the data."
   ]
  },
  {
   "cell_type": "code",
   "execution_count": 24,
   "metadata": {
    "id": "8Ti_MFF7tekR"
   },
   "outputs": [
    {
     "data": {
      "text/plain": "<Figure size 800x600 with 2 Axes>",
      "image/png": "[encoded data removed]"
     },
     "metadata": {},
     "output_type": "display_data"
    }
   ],
   "source": [
    "# Create a heatmap to visualize how correlated variables are\n",
    "### YOUR CODE HERE ###\n",
    "plt.figure(figsize=(8, 6))\n",
    "sns.heatmap(data_upsampled[[\"video_duration_sec\", \"claim_status\", \"author_ban_status\", \"video_view_count\", \"video_like_count\", \"video_share_count\", \"video_download_count\", \"video_comment_count\", \"text_length\"]].corr(), annot=True, cmap=\"crest\")\n",
    "plt.title(\"Heatmap of the dataset\")\n",
    "plt.show()"
   ]
  },
  {
   "cell_type": "markdown",
   "metadata": {
    "id": "zyQgcrDI00bT"
   },
   "source": [
    "One of the model assumptions for logistic regression is no severe multicollinearity among the features. Take this into consideration as you examine the heatmap and choose which features to proceed with.\n",
    "\n",
    "**Question:** What variables are shown to be correlated in the heatmap?"
   ]
  },
  {
   "cell_type": "markdown",
   "metadata": {
    "id": "lgPul2DiY6T4"
   },
   "source": [
    "<img src=\"images/Construct.png\" width=\"100\" height=\"100\" align=left>\n",
    "\n",
    "## **PACE: Construct**\n",
    "\n",
    "After analysis and deriving variables with close relationships, it is time to begin constructing the model. Consider the questions in your PACE Strategy Document to reflect on the Construct stage."
   ]
  },
  {
   "cell_type": "markdown",
   "metadata": {
    "id": "07UJJm41ajgf"
   },
   "source": [
    "### **Task 3a. Select variables**"
   ]
  },
  {
   "cell_type": "markdown",
   "metadata": {
    "id": "DxCW0RH_4m3Q"
   },
   "source": [
    "Set your Y and X variables."
   ]
  },
  {
   "cell_type": "markdown",
   "metadata": {
    "id": "WhocrccZBcwx"
   },
   "source": [
    "Select the outcome variable."
   ]
  },
  {
   "cell_type": "code",
   "execution_count": 25,
   "metadata": {
    "id": "uH6jiQECBgFn"
   },
   "outputs": [],
   "source": [
    "# Select outcome variable\n",
    "### YOUR CODE HERE ###\n",
    "y = data_upsampled['verified_status']"
   ]
  },
  {
   "cell_type": "code",
   "execution_count": 26,
   "metadata": {},
   "outputs": [
    {
     "data": {
      "text/plain": "   # claim_status    video_id  video_duration_sec  \\\n0  1        claim  7017666017                  59   \n1  2        claim  4014381136                  32   \n2  3        claim  9859838091                  31   \n3  4        claim  1866847991                  25   \n4  5        claim  7105231098                  19   \n\n                            video_transcription_text verified_status  \\\n0  someone shared with me that drone deliveries a...    not verified   \n1  someone shared with me that there are more mic...    not verified   \n2  someone shared with me that american industria...    not verified   \n3  someone shared with me that the metro of st. p...    not verified   \n4  someone shared with me that the number of busi...    not verified   \n\n  author_ban_status  video_view_count  video_like_count  video_share_count  \\\n0      under review          343296.0           19425.0              241.0   \n1            active          140877.0           77355.0            19034.0   \n2            active          902185.0           97690.0             2858.0   \n3            active          437506.0          239954.0            34812.0   \n4            active           56167.0           34987.0             4110.0   \n\n   video_download_count  video_comment_count  text_length  \n0                   1.0                  0.0           97  \n1                1161.0                684.0          107  \n2                 833.0                329.0          137  \n3                1234.0                584.0          131  \n4                 547.0                152.0          128  ",
      "text/html": "<div>\n<style scoped>\n    .dataframe tbody tr th:only-of-type {\n        vertical-align: middle;\n    }\n\n    .dataframe tbody tr th {\n        vertical-align: top;\n    }\n\n    .dataframe thead th {\n        text-align: right;\n    }\n</style>\n<table border=\"1\" class=\"dataframe\">\n  <thead>\n    <tr style=\"text-align: right;\">\n      <th></th>\n      <th>#</th>\n      <th>claim_status</th>\n      <th>video_id</th>\n      <th>video_duration_sec</th>\n      <th>video_transcription_text</th>\n      <th>verified_status</th>\n      <th>author_ban_status</th>\n      <th>video_view_count</th>\n      <th>video_like_count</th>\n      <th>video_share_count</th>\n      <th>video_download_count</th>\n      <th>video_comment_count</th>\n      <th>text_length</th>\n    </tr>\n  </thead>\n  <tbody>\n    <tr>\n      <th>0</th>\n      <td>1</td>\n      <td>claim</td>\n      <td>7017666017</td>\n      <td>59</td>\n      <td>someone shared with me that drone deliveries a...</td>\n      <td>not verified</td>\n      <td>under review</td>\n      <td>343296.0</td>\n      <td>19425.0</td>\n      <td>241.0</td>\n      <td>1.0</td>\n      <td>0.0</td>\n      <td>97</td>\n    </tr>\n    <tr>\n      <th>1</th>\n      <td>2</td>\n      <td>claim</td>\n      <td>4014381136</td>\n      <td>32</td>\n      <td>someone shared with me that there are more mic...</td>\n      <td>not verified</td>\n      <td>active</td>\n      <td>140877.0</td>\n      <td>77355.0</td>\n      <td>19034.0</td>\n      <td>1161.0</td>\n      <td>684.0</td>\n      <td>107</td>\n    </tr>\n    <tr>\n      <th>2</th>\n      <td>3</td>\n      <td>claim</td>\n      <td>9859838091</td>\n      <td>31</td>\n      <td>someone shared with me that american industria...</td>\n      <td>not verified</td>\n      <td>active</td>\n      <td>902185.0</td>\n      <td>97690.0</td>\n      <td>2858.0</td>\n      <td>833.0</td>\n      <td>329.0</td>\n      <td>137</td>\n    </tr>\n    <tr>\n      <th>3</th>\n      <td>4</td>\n      <td>claim</td>\n      <td>1866847991</td>\n      <td>25</td>\n      <td>someone shared with me that the metro of st. p...</td>\n      <td>not verified</td>\n      <td>active</td>\n      <td>437506.0</td>\n      <td>239954.0</td>\n      <td>34812.0</td>\n      <td>1234.0</td>\n      <td>584.0</td>\n      <td>131</td>\n    </tr>\n    <tr>\n      <th>4</th>\n      <td>5</td>\n      <td>claim</td>\n      <td>7105231098</td>\n      <td>19</td>\n      <td>someone shared with me that the number of busi...</td>\n      <td>not verified</td>\n      <td>active</td>\n      <td>56167.0</td>\n      <td>34987.0</td>\n      <td>4110.0</td>\n      <td>547.0</td>\n      <td>152.0</td>\n      <td>128</td>\n    </tr>\n  </tbody>\n</table>\n</div>"
     },
     "execution_count": 26,
     "metadata": {},
     "output_type": "execute_result"
    }
   ],
   "source": [
    "data_upsampled.head()"
   ]
  },
  {
   "cell_type": "markdown",
   "metadata": {
    "id": "WPxEovpUBZfk"
   },
   "source": [
    "Select the features."
   ]
  },
  {
   "cell_type": "code",
   "execution_count": 27,
   "metadata": {
    "id": "iJ5C6M5zCP3k"
   },
   "outputs": [
    {
     "data": {
      "text/plain": "   # claim_status  video_duration_sec author_ban_status  video_view_count  \\\n0  1        claim                  59      under review          343296.0   \n1  2        claim                  32            active          140877.0   \n2  3        claim                  31            active          902185.0   \n3  4        claim                  25            active          437506.0   \n4  5        claim                  19            active           56167.0   \n\n   video_share_count  video_download_count  video_comment_count  \n0              241.0                   1.0                  0.0  \n1            19034.0                1161.0                684.0  \n2             2858.0                 833.0                329.0  \n3            34812.0                1234.0                584.0  \n4             4110.0                 547.0                152.0  ",
      "text/html": "<div>\n<style scoped>\n    .dataframe tbody tr th:only-of-type {\n        vertical-align: middle;\n    }\n\n    .dataframe tbody tr th {\n        vertical-align: top;\n    }\n\n    .dataframe thead th {\n        text-align: right;\n    }\n</style>\n<table border=\"1\" class=\"dataframe\">\n  <thead>\n    <tr style=\"text-align: right;\">\n      <th></th>\n      <th>#</th>\n      <th>claim_status</th>\n      <th>video_duration_sec</th>\n      <th>author_ban_status</th>\n      <th>video_view_count</th>\n      <th>video_share_count</th>\n      <th>video_download_count</th>\n      <th>video_comment_count</th>\n    </tr>\n  </thead>\n  <tbody>\n    <tr>\n      <th>0</th>\n      <td>1</td>\n      <td>claim</td>\n      <td>59</td>\n      <td>under review</td>\n      <td>343296.0</td>\n      <td>241.0</td>\n      <td>1.0</td>\n      <td>0.0</td>\n    </tr>\n    <tr>\n      <th>1</th>\n      <td>2</td>\n      <td>claim</td>\n      <td>32</td>\n      <td>active</td>\n      <td>140877.0</td>\n      <td>19034.0</td>\n      <td>1161.0</td>\n      <td>684.0</td>\n    </tr>\n    <tr>\n      <th>2</th>\n      <td>3</td>\n      <td>claim</td>\n      <td>31</td>\n      <td>active</td>\n      <td>902185.0</td>\n      <td>2858.0</td>\n      <td>833.0</td>\n      <td>329.0</td>\n    </tr>\n    <tr>\n      <th>3</th>\n      <td>4</td>\n      <td>claim</td>\n      <td>25</td>\n      <td>active</td>\n      <td>437506.0</td>\n      <td>34812.0</td>\n      <td>1234.0</td>\n      <td>584.0</td>\n    </tr>\n    <tr>\n      <th>4</th>\n      <td>5</td>\n      <td>claim</td>\n      <td>19</td>\n      <td>active</td>\n      <td>56167.0</td>\n      <td>4110.0</td>\n      <td>547.0</td>\n      <td>152.0</td>\n    </tr>\n  </tbody>\n</table>\n</div>"
     },
     "execution_count": 27,
     "metadata": {},
     "output_type": "execute_result"
    }
   ],
   "source": [
    "# Select features\n",
    "### YOUR CODE HERE ###\n",
    "X = data_upsampled.drop(columns=['video_id', 'video_transcription_text', 'verified_status', 'video_like_count', 'text_length'],\n",
    "                       axis=1)\n",
    "\n",
    "# Display first few rows of features dataframe\n",
    "### YOUR CODE HERE ###\n",
    "X.head()"
   ]
  },
  {
   "cell_type": "markdown",
   "metadata": {
    "id": "gPIBz0-HDEqd"
   },
   "source": [
    "### **Task 3b. Train-test split**"
   ]
  },
  {
   "cell_type": "markdown",
   "metadata": {
    "id": "5tNw9_y9jmY1"
   },
   "source": [
    "Split the data into training and testing sets."
   ]
  },
  {
   "cell_type": "code",
   "execution_count": 28,
   "metadata": {
    "id": "jKgrew0V6o_3"
   },
   "outputs": [],
   "source": [
    "# Split the data into training and testing sets\n",
    "### YOUR CODE HERE ###\n",
    "X_train, X_test, y_train, y_test = train_test_split(X, y, test_size=0.2, random_state=0)"
   ]
  },
  {
   "cell_type": "markdown",
   "metadata": {
    "id": "5VlklzoujrAR"
   },
   "source": [
    "Confirm that the dimensions of the training and testing sets are in alignment."
   ]
  },
  {
   "cell_type": "code",
   "execution_count": 29,
   "metadata": {
    "id": "xgbB1NCtfxcc"
   },
   "outputs": [
    {
     "name": "stdout",
     "output_type": "stream",
     "text": [
      "(7154, 8)\n",
      "(7154,)\n",
      "(28614, 8)\n",
      "(28614,)\n"
     ]
    }
   ],
   "source": [
    "# Get shape of each training and testing set\n",
    "### YOUR CODE HERE ###\n",
    "print(X_test.shape)\n",
    "print(y_test.shape)\n",
    "print(X_train.shape)\n",
    "print(y_train.shape)"
   ]
  },
  {
   "cell_type": "markdown",
   "metadata": {
    "id": "V7PjlXFuDRp_"
   },
   "source": [
    "### **Task 3c. Encode variables**"
   ]
  },
  {
   "cell_type": "markdown",
   "metadata": {
    "id": "rbpnEjop82zL"
   },
   "source": [
    "Check the data types of the features."
   ]
  },
  {
   "cell_type": "code",
   "execution_count": 30,
   "metadata": {
    "id": "TefBRXUu8zWR"
   },
   "outputs": [
    {
     "data": {
      "text/plain": "#                         int64\nclaim_status             object\nvideo_duration_sec        int64\nauthor_ban_status        object\nvideo_view_count        float64\nvideo_share_count       float64\nvideo_download_count    float64\nvideo_comment_count     float64\ndtype: object"
     },
     "execution_count": 30,
     "metadata": {},
     "output_type": "execute_result"
    }
   ],
   "source": [
    "# Check data types\n",
    "### YOUR CODE HERE ###\n",
    "X.dtypes"
   ]
  },
  {
   "cell_type": "code",
   "execution_count": 31,
   "metadata": {
    "id": "gT1YqFZc-uBF"
   },
   "outputs": [
    {
     "data": {
      "text/plain": "array(['claim', 'opinion'], dtype=object)"
     },
     "execution_count": 31,
     "metadata": {},
     "output_type": "execute_result"
    }
   ],
   "source": [
    "# Get unique values in `claim_status`\n",
    "### YOUR CODE HERE ###\n",
    "\n",
    "X['claim_status'].unique()"
   ]
  },
  {
   "cell_type": "code",
   "execution_count": 32,
   "metadata": {
    "id": "uSnObsvy-wpz"
   },
   "outputs": [
    {
     "data": {
      "text/plain": "array(['under review', 'active', 'banned'], dtype=object)"
     },
     "execution_count": 32,
     "metadata": {},
     "output_type": "execute_result"
    }
   ],
   "source": [
    "# Get unique values in `author_ban_status`\n",
    "### YOUR CODE HERE ###\n",
    "X['author_ban_status'].unique()"
   ]
  },
  {
   "cell_type": "markdown",
   "metadata": {
    "id": "PKSSWs39xYWH"
   },
   "source": [
    "As shown above, the `claim_status` and `author_ban_status` features are each of data type `object` currently. In order to work with the implementations of models through `sklearn`, these categorical features will need to be made numeric. One way to do this is through one-hot encoding.\n",
    "\n",
    "Encode categorical features in the training set using an appropriate method."
   ]
  },
  {
   "cell_type": "code",
   "execution_count": 33,
   "metadata": {
    "id": "mlMTSyaTcBct"
   },
   "outputs": [
    {
     "data": {
      "text/plain": "      claim_status author_ban_status\n2545         claim            banned\n6698         claim            active\n34484        claim            active\n29873      opinion            active\n33093      opinion            active",
      "text/html": "<div>\n<style scoped>\n    .dataframe tbody tr th:only-of-type {\n        vertical-align: middle;\n    }\n\n    .dataframe tbody tr th {\n        vertical-align: top;\n    }\n\n    .dataframe thead th {\n        text-align: right;\n    }\n</style>\n<table border=\"1\" class=\"dataframe\">\n  <thead>\n    <tr style=\"text-align: right;\">\n      <th></th>\n      <th>claim_status</th>\n      <th>author_ban_status</th>\n    </tr>\n  </thead>\n  <tbody>\n    <tr>\n      <th>2545</th>\n      <td>claim</td>\n      <td>banned</td>\n    </tr>\n    <tr>\n      <th>6698</th>\n      <td>claim</td>\n      <td>active</td>\n    </tr>\n    <tr>\n      <th>34484</th>\n      <td>claim</td>\n      <td>active</td>\n    </tr>\n    <tr>\n      <th>29873</th>\n      <td>opinion</td>\n      <td>active</td>\n    </tr>\n    <tr>\n      <th>33093</th>\n      <td>opinion</td>\n      <td>active</td>\n    </tr>\n  </tbody>\n</table>\n</div>"
     },
     "execution_count": 33,
     "metadata": {},
     "output_type": "execute_result"
    }
   ],
   "source": [
    "# Select the training features that needs to be encoded\n",
    "### YOUR CODE HERE ###\n",
    "\n",
    "categories = X_train[['claim_status', 'author_ban_status']]\n",
    "# Display first few rows\n",
    "### YOUR CODE HERE ###\n",
    "categories.head()"
   ]
  },
  {
   "cell_type": "code",
   "execution_count": 34,
   "metadata": {
    "id": "lSM5lQioAjex"
   },
   "outputs": [],
   "source": [
    "# Set up an encoder for one-hot encoding the categorical features\n",
    "### YOUR CODE HERE ###\n",
    "X_enc = OneHotEncoder(drop='first', sparse=False)"
   ]
  },
  {
   "cell_type": "code",
   "execution_count": 35,
   "metadata": {
    "id": "PH_KGRJApBM_"
   },
   "outputs": [],
   "source": [
    "# Fit and transform the training features using the encoder\n",
    "### YOUR CODE HERE ###\n",
    "categories_enc = X_enc.fit_transform(categories)"
   ]
  },
  {
   "cell_type": "code",
   "execution_count": 36,
   "metadata": {
    "id": "j57gJjIFpyO_"
   },
   "outputs": [
    {
     "name": "stderr",
     "output_type": "stream",
     "text": [
      "C:\\Users\\Junior\\anaconda3\\lib\\site-packages\\sklearn\\utils\\deprecation.py:87: FutureWarning: Function get_feature_names is deprecated; get_feature_names is deprecated in 1.0 and will be removed in 1.2. Please use get_feature_names_out instead.\n",
      "  warnings.warn(msg, category=FutureWarning)\n"
     ]
    },
    {
     "data": {
      "text/plain": "array(['x0_opinion', 'x1_banned', 'x1_under review'], dtype=object)"
     },
     "execution_count": 36,
     "metadata": {},
     "output_type": "execute_result"
    }
   ],
   "source": [
    "# Get feature names from encoder\n",
    "### YOUR CODE HERE ###\n",
    "X_enc.get_feature_names()"
   ]
  },
  {
   "cell_type": "code",
   "execution_count": 37,
   "metadata": {
    "id": "2vSYk7n7phDI"
   },
   "outputs": [
    {
     "data": {
      "text/plain": "array([[0., 1., 0.],\n       [0., 0., 0.],\n       [0., 0., 0.],\n       ...,\n       [1., 0., 0.],\n       [1., 0., 0.],\n       [0., 1., 0.]])"
     },
     "execution_count": 37,
     "metadata": {},
     "output_type": "execute_result"
    }
   ],
   "source": [
    "# Display first few rows of encoded training features\n",
    "### YOUR CODE HERE ###\n",
    "categories_enc"
   ]
  },
  {
   "cell_type": "code",
   "execution_count": 38,
   "metadata": {
    "id": "jAn10kA9qcUa"
   },
   "outputs": [
    {
     "data": {
      "text/plain": "   claim_status_opinion  author_ban_status_banned  \\\n0                   0.0                       1.0   \n1                   0.0                       0.0   \n2                   0.0                       0.0   \n3                   1.0                       0.0   \n4                   1.0                       0.0   \n\n   author_ban_status_under_review  \n0                             0.0  \n1                             0.0  \n2                             0.0  \n3                             0.0  \n4                             0.0  ",
      "text/html": "<div>\n<style scoped>\n    .dataframe tbody tr th:only-of-type {\n        vertical-align: middle;\n    }\n\n    .dataframe tbody tr th {\n        vertical-align: top;\n    }\n\n    .dataframe thead th {\n        text-align: right;\n    }\n</style>\n<table border=\"1\" class=\"dataframe\">\n  <thead>\n    <tr style=\"text-align: right;\">\n      <th></th>\n      <th>claim_status_opinion</th>\n      <th>author_ban_status_banned</th>\n      <th>author_ban_status_under_review</th>\n    </tr>\n  </thead>\n  <tbody>\n    <tr>\n      <th>0</th>\n      <td>0.0</td>\n      <td>1.0</td>\n      <td>0.0</td>\n    </tr>\n    <tr>\n      <th>1</th>\n      <td>0.0</td>\n      <td>0.0</td>\n      <td>0.0</td>\n    </tr>\n    <tr>\n      <th>2</th>\n      <td>0.0</td>\n      <td>0.0</td>\n      <td>0.0</td>\n    </tr>\n    <tr>\n      <th>3</th>\n      <td>1.0</td>\n      <td>0.0</td>\n      <td>0.0</td>\n    </tr>\n    <tr>\n      <th>4</th>\n      <td>1.0</td>\n      <td>0.0</td>\n      <td>0.0</td>\n    </tr>\n  </tbody>\n</table>\n</div>"
     },
     "execution_count": 38,
     "metadata": {},
     "output_type": "execute_result"
    }
   ],
   "source": [
    "# Place encoded training features (which is currently an array) into a dataframe\n",
    "### YOUR CODE HERE ###\n",
    "X_train_enc_df = pd.DataFrame(data=categories_enc, columns=['claim_status_opinion', 'author_ban_status_banned', 'author_ban_status_under_review'])\n",
    "\n",
    "# Display first few rows\n",
    "### YOUR CODE HERE ###\n",
    "X_train_enc_df.head()"
   ]
  },
  {
   "cell_type": "code",
   "execution_count": 39,
   "metadata": {
    "id": "7pdBRVwnuwc0"
   },
   "outputs": [
    {
     "data": {
      "text/plain": "           #  video_duration_sec  video_view_count  video_share_count  \\\n2545    2611                   6          483975.0             5701.0   \n6698    6857                  37          462731.0            54928.0   \n34484   6173                  32          772031.0           133658.0   \n29873  10982                  56            7123.0              101.0   \n33093  14279                  48            9684.0              215.0   \n\n       video_download_count  video_comment_count  \n2545                  906.0                466.0  \n6698                 1287.0                611.0  \n34484                7052.0               4133.0  \n29873                  14.0                  2.0  \n33093                  13.0                  3.0  ",
      "text/html": "<div>\n<style scoped>\n    .dataframe tbody tr th:only-of-type {\n        vertical-align: middle;\n    }\n\n    .dataframe tbody tr th {\n        vertical-align: top;\n    }\n\n    .dataframe thead th {\n        text-align: right;\n    }\n</style>\n<table border=\"1\" class=\"dataframe\">\n  <thead>\n    <tr style=\"text-align: right;\">\n      <th></th>\n      <th>#</th>\n      <th>video_duration_sec</th>\n      <th>video_view_count</th>\n      <th>video_share_count</th>\n      <th>video_download_count</th>\n      <th>video_comment_count</th>\n    </tr>\n  </thead>\n  <tbody>\n    <tr>\n      <th>2545</th>\n      <td>2611</td>\n      <td>6</td>\n      <td>483975.0</td>\n      <td>5701.0</td>\n      <td>906.0</td>\n      <td>466.0</td>\n    </tr>\n    <tr>\n      <th>6698</th>\n      <td>6857</td>\n      <td>37</td>\n      <td>462731.0</td>\n      <td>54928.0</td>\n      <td>1287.0</td>\n      <td>611.0</td>\n    </tr>\n    <tr>\n      <th>34484</th>\n      <td>6173</td>\n      <td>32</td>\n      <td>772031.0</td>\n      <td>133658.0</td>\n      <td>7052.0</td>\n      <td>4133.0</td>\n    </tr>\n    <tr>\n      <th>29873</th>\n      <td>10982</td>\n      <td>56</td>\n      <td>7123.0</td>\n      <td>101.0</td>\n      <td>14.0</td>\n      <td>2.0</td>\n    </tr>\n    <tr>\n      <th>33093</th>\n      <td>14279</td>\n      <td>48</td>\n      <td>9684.0</td>\n      <td>215.0</td>\n      <td>13.0</td>\n      <td>3.0</td>\n    </tr>\n  </tbody>\n</table>\n</div>"
     },
     "execution_count": 39,
     "metadata": {},
     "output_type": "execute_result"
    }
   ],
   "source": [
    "# Display first few rows of `X_train` with `claim_status` and `author_ban_status` columns dropped (since these features are being transformed to numeric)\n",
    "### YOUR CODE HERE ###\n",
    "X_train.drop(columns=['claim_status', 'author_ban_status']).head()"
   ]
  },
  {
   "cell_type": "code",
   "execution_count": 40,
   "metadata": {
    "id": "qKG1TK-KEfuB"
   },
   "outputs": [
    {
     "data": {
      "text/plain": "       #  video_duration_sec  video_view_count  video_share_count  \\\n0   2611                   6          483975.0             5701.0   \n1   6857                  37          462731.0            54928.0   \n2   6173                  32          772031.0           133658.0   \n3  10982                  56            7123.0              101.0   \n4  14279                  48            9684.0              215.0   \n\n   video_download_count  video_comment_count  claim_status_opinion  \\\n0                 906.0                466.0                   0.0   \n1                1287.0                611.0                   0.0   \n2                7052.0               4133.0                   0.0   \n3                  14.0                  2.0                   1.0   \n4                  13.0                  3.0                   1.0   \n\n   author_ban_status_banned  author_ban_status_under_review  \n0                       1.0                             0.0  \n1                       0.0                             0.0  \n2                       0.0                             0.0  \n3                       0.0                             0.0  \n4                       0.0                             0.0  ",
      "text/html": "<div>\n<style scoped>\n    .dataframe tbody tr th:only-of-type {\n        vertical-align: middle;\n    }\n\n    .dataframe tbody tr th {\n        vertical-align: top;\n    }\n\n    .dataframe thead th {\n        text-align: right;\n    }\n</style>\n<table border=\"1\" class=\"dataframe\">\n  <thead>\n    <tr style=\"text-align: right;\">\n      <th></th>\n      <th>#</th>\n      <th>video_duration_sec</th>\n      <th>video_view_count</th>\n      <th>video_share_count</th>\n      <th>video_download_count</th>\n      <th>video_comment_count</th>\n      <th>claim_status_opinion</th>\n      <th>author_ban_status_banned</th>\n      <th>author_ban_status_under_review</th>\n    </tr>\n  </thead>\n  <tbody>\n    <tr>\n      <th>0</th>\n      <td>2611</td>\n      <td>6</td>\n      <td>483975.0</td>\n      <td>5701.0</td>\n      <td>906.0</td>\n      <td>466.0</td>\n      <td>0.0</td>\n      <td>1.0</td>\n      <td>0.0</td>\n    </tr>\n    <tr>\n      <th>1</th>\n      <td>6857</td>\n      <td>37</td>\n      <td>462731.0</td>\n      <td>54928.0</td>\n      <td>1287.0</td>\n      <td>611.0</td>\n      <td>0.0</td>\n      <td>0.0</td>\n      <td>0.0</td>\n    </tr>\n    <tr>\n      <th>2</th>\n      <td>6173</td>\n      <td>32</td>\n      <td>772031.0</td>\n      <td>133658.0</td>\n      <td>7052.0</td>\n      <td>4133.0</td>\n      <td>0.0</td>\n      <td>0.0</td>\n      <td>0.0</td>\n    </tr>\n    <tr>\n      <th>3</th>\n      <td>10982</td>\n      <td>56</td>\n      <td>7123.0</td>\n      <td>101.0</td>\n      <td>14.0</td>\n      <td>2.0</td>\n      <td>1.0</td>\n      <td>0.0</td>\n      <td>0.0</td>\n    </tr>\n    <tr>\n      <th>4</th>\n      <td>14279</td>\n      <td>48</td>\n      <td>9684.0</td>\n      <td>215.0</td>\n      <td>13.0</td>\n      <td>3.0</td>\n      <td>1.0</td>\n      <td>0.0</td>\n      <td>0.0</td>\n    </tr>\n  </tbody>\n</table>\n</div>"
     },
     "execution_count": 40,
     "metadata": {},
     "output_type": "execute_result"
    }
   ],
   "source": [
    "# Concatenate `X_train` and `X_train_encoded_df` to form the final dataframe for training data (`X_train_final`)\n",
    "# Note: Using `.reset_index(drop=True)` to reset the index in X_train after dropping `claim_status` and `author_ban_status`,\n",
    "# so that the indices align with those in `X_train_encoded_df` and `count_df`\n",
    "### YOUR CODE HERE ###\n",
    "X_train_final = pd.concat([X_train.drop(columns=['claim_status', 'author_ban_status']).reset_index(drop=True), X_train_enc_df], axis=1)\n",
    "\n",
    "# Display first few rows\n",
    "### YOUR CODE HERE ###\n",
    "X_train_final.head()"
   ]
  },
  {
   "cell_type": "markdown",
   "metadata": {
    "id": "9ZHZcDR_fY-D"
   },
   "source": [
    "Check the data type of the outcome variable."
   ]
  },
  {
   "cell_type": "code",
   "execution_count": 41,
   "metadata": {
    "id": "QNu4ndvufeP2"
   },
   "outputs": [
    {
     "data": {
      "text/plain": "dtype('O')"
     },
     "execution_count": 41,
     "metadata": {},
     "output_type": "execute_result"
    }
   ],
   "source": [
    "# Check data type of outcome variable\n",
    "### YOUR CODE HERE ###\n",
    "y_train.dtype"
   ]
  },
  {
   "cell_type": "code",
   "execution_count": 42,
   "metadata": {},
   "outputs": [
    {
     "data": {
      "text/plain": "2545     not verified\n6698     not verified\n34484        verified\n29873        verified\n33093        verified\n6980     not verified\n27715        verified\n4320     not verified\n10707    not verified\n28639        verified\nName: verified_status, dtype: object"
     },
     "execution_count": 42,
     "metadata": {},
     "output_type": "execute_result"
    }
   ],
   "source": [
    "y_train[:10]"
   ]
  },
  {
   "cell_type": "code",
   "execution_count": 43,
   "metadata": {
    "id": "23VVtIeD9fet"
   },
   "outputs": [
    {
     "data": {
      "text/plain": "array(['not verified', 'verified'], dtype=object)"
     },
     "execution_count": 43,
     "metadata": {},
     "output_type": "execute_result"
    }
   ],
   "source": [
    "# Get unique values of outcome variable\n",
    "### YOUR CODE HERE ###\n",
    "y_train.unique()"
   ]
  },
  {
   "cell_type": "markdown",
   "metadata": {
    "id": "YBUb24WDyAiA"
   },
   "source": [
    "A shown above, the outcome variable is of data type `object` currently. One-hot encoding can be used to make this variable numeric.\n",
    "\n",
    "Encode categorical values of the outcome variable the training set using an appropriate method."
   ]
  },
  {
   "cell_type": "code",
   "execution_count": 44,
   "metadata": {
    "id": "xGeLvAbgIBGh"
   },
   "outputs": [],
   "source": [
    "# Set up an encoder for one-hot encoding the categorical outcome variable\n",
    "### YOUR CODE HERE ###\n",
    "y_enc = OneHotEncoder(drop='first', sparse=False)"
   ]
  },
  {
   "cell_type": "code",
   "execution_count": 45,
   "metadata": {
    "id": "qJKcy7sqGeSC"
   },
   "outputs": [
    {
     "data": {
      "text/plain": "array([0., 0., 1., 1., 1., 0., 1., 0., 0., 1.])"
     },
     "execution_count": 45,
     "metadata": {},
     "output_type": "execute_result"
    }
   ],
   "source": [
    "# Encode the training outcome variable\n",
    "# Notes:\n",
    "#   - Adjusting the shape of `y_train` before passing into `.fit_transform()`, since it takes in 2D array\n",
    "#   - Using `.ravel()` to flatten the array returned by `.fit_transform()`, so that it can be used later to train the model\n",
    "### YOUR CODE HERE ###\n",
    "y_train_final = y_enc.fit_transform(y_train.values.reshape(-1,1)).ravel()\n",
    "\n",
    "# Display the encoded training outcome variable\n",
    "### YOUR CODE HERE ###\n",
    "y_train_final[:10]"
   ]
  },
  {
   "cell_type": "markdown",
   "metadata": {
    "id": "iDYyjWssbnBG"
   },
   "source": [
    "### **Task 3d. Model building**"
   ]
  },
  {
   "cell_type": "markdown",
   "metadata": {
    "id": "ty8ieBkDBH4g"
   },
   "source": [
    "Construct a model and fit it to the training set."
   ]
  },
  {
   "cell_type": "code",
   "execution_count": 46,
   "metadata": {
    "id": "sNcke2SNvZrN"
   },
   "outputs": [],
   "source": [
    "# Construct a logistic regression model and fit it to the training set\n",
    "### YOUR CODE HERE ###\n",
    "\n",
    "log_reg = LogisticRegression(random_state=0, max_iter=800).fit(X_train_final, y_train_final)"
   ]
  },
  {
   "cell_type": "markdown",
   "metadata": {
    "id": "cp7ojoBldEYy"
   },
   "source": [
    "<img src=\"images/Execute.png\" width=\"100\" height=\"100\" align=left>\n",
    "\n",
    "## **PACE: Execute**\n",
    "\n",
    "Consider the questions in your PACE Strategy Document to reflect on the Execute stage."
   ]
  },
  {
   "cell_type": "markdown",
   "metadata": {
    "id": "F_l3bkxQdJ3a"
   },
   "source": [
    "### **Taks 4a. Results and evaluation**\n",
    "\n",
    "Evaluate your model."
   ]
  },
  {
   "cell_type": "markdown",
   "metadata": {
    "id": "bxnKPq6dIUOB"
   },
   "source": [
    "Encode categorical features in the testing set using an appropriate method."
   ]
  },
  {
   "cell_type": "code",
   "execution_count": 47,
   "metadata": {
    "id": "x-bNI_2_Lp_2"
   },
   "outputs": [
    {
     "data": {
      "text/plain": "      claim_status author_ban_status\n21061      opinion            active\n31748      opinion            active\n20197        claim            active\n5727         claim            active\n11607      opinion            active\n...            ...               ...\n16750      opinion            active\n20292      opinion            active\n19647      opinion            active\n19516      opinion            active\n8200         claim            banned\n\n[7154 rows x 2 columns]",
      "text/html": "<div>\n<style scoped>\n    .dataframe tbody tr th:only-of-type {\n        vertical-align: middle;\n    }\n\n    .dataframe tbody tr th {\n        vertical-align: top;\n    }\n\n    .dataframe thead th {\n        text-align: right;\n    }\n</style>\n<table border=\"1\" class=\"dataframe\">\n  <thead>\n    <tr style=\"text-align: right;\">\n      <th></th>\n      <th>claim_status</th>\n      <th>author_ban_status</th>\n    </tr>\n  </thead>\n  <tbody>\n    <tr>\n      <th>21061</th>\n      <td>opinion</td>\n      <td>active</td>\n    </tr>\n    <tr>\n      <th>31748</th>\n      <td>opinion</td>\n      <td>active</td>\n    </tr>\n    <tr>\n      <th>20197</th>\n      <td>claim</td>\n      <td>active</td>\n    </tr>\n    <tr>\n      <th>5727</th>\n      <td>claim</td>\n      <td>active</td>\n    </tr>\n    <tr>\n      <th>11607</th>\n      <td>opinion</td>\n      <td>active</td>\n    </tr>\n    <tr>\n      <th>...</th>\n      <td>...</td>\n      <td>...</td>\n    </tr>\n    <tr>\n      <th>16750</th>\n      <td>opinion</td>\n      <td>active</td>\n    </tr>\n    <tr>\n      <th>20292</th>\n      <td>opinion</td>\n      <td>active</td>\n    </tr>\n    <tr>\n      <th>19647</th>\n      <td>opinion</td>\n      <td>active</td>\n    </tr>\n    <tr>\n      <th>19516</th>\n      <td>opinion</td>\n      <td>active</td>\n    </tr>\n    <tr>\n      <th>8200</th>\n      <td>claim</td>\n      <td>banned</td>\n    </tr>\n  </tbody>\n</table>\n<p>7154 rows × 2 columns</p>\n</div>"
     },
     "execution_count": 47,
     "metadata": {},
     "output_type": "execute_result"
    }
   ],
   "source": [
    "# Select the testing features that needs to be encoded\n",
    "### YOUR CODE HERE ###\n",
    "\n",
    "X_test_cats = X_test[['claim_status', 'author_ban_status']]\n",
    "# Display first few rows\n",
    "### YOUR CODE HERE ###\n",
    "X_test_cats"
   ]
  },
  {
   "cell_type": "code",
   "execution_count": 48,
   "metadata": {
    "id": "OWa-7XD-Lp_3"
   },
   "outputs": [
    {
     "data": {
      "text/plain": "array([[1., 0., 0.],\n       [1., 0., 0.],\n       [0., 0., 0.],\n       ...,\n       [1., 0., 0.],\n       [1., 0., 0.],\n       [0., 1., 0.]])"
     },
     "execution_count": 48,
     "metadata": {},
     "output_type": "execute_result"
    }
   ],
   "source": [
    "# Transform the testing features using the encoder\n",
    "### YOUR CODE HERE ###\n",
    "\n",
    "X_test_enc = X_enc.transform(X_test_cats)\n",
    "\n",
    "# Display first few rows of encoded testing features\n",
    "### YOUR CODE HERE ###\n",
    "X_test_enc"
   ]
  },
  {
   "cell_type": "code",
   "execution_count": 49,
   "metadata": {},
   "outputs": [
    {
     "name": "stderr",
     "output_type": "stream",
     "text": [
      "C:\\Users\\Junior\\anaconda3\\lib\\site-packages\\sklearn\\utils\\deprecation.py:87: FutureWarning: Function get_feature_names is deprecated; get_feature_names is deprecated in 1.0 and will be removed in 1.2. Please use get_feature_names_out instead.\n",
      "  warnings.warn(msg, category=FutureWarning)\n"
     ]
    },
    {
     "data": {
      "text/plain": "array(['x0_opinion', 'x1_banned', 'x1_under review'], dtype=object)"
     },
     "execution_count": 49,
     "metadata": {},
     "output_type": "execute_result"
    }
   ],
   "source": [
    "X_enc.get_feature_names()"
   ]
  },
  {
   "cell_type": "code",
   "execution_count": 50,
   "metadata": {
    "id": "Nmuk2nAELp_3"
   },
   "outputs": [
    {
     "data": {
      "text/plain": "   claim_status_opinion  author_ban_status_banned  \\\n0                   1.0                       0.0   \n1                   1.0                       0.0   \n2                   0.0                       0.0   \n3                   0.0                       0.0   \n4                   1.0                       0.0   \n\n   author_ban_status_under_review  \n0                             0.0  \n1                             0.0  \n2                             0.0  \n3                             0.0  \n4                             0.0  ",
      "text/html": "<div>\n<style scoped>\n    .dataframe tbody tr th:only-of-type {\n        vertical-align: middle;\n    }\n\n    .dataframe tbody tr th {\n        vertical-align: top;\n    }\n\n    .dataframe thead th {\n        text-align: right;\n    }\n</style>\n<table border=\"1\" class=\"dataframe\">\n  <thead>\n    <tr style=\"text-align: right;\">\n      <th></th>\n      <th>claim_status_opinion</th>\n      <th>author_ban_status_banned</th>\n      <th>author_ban_status_under_review</th>\n    </tr>\n  </thead>\n  <tbody>\n    <tr>\n      <th>0</th>\n      <td>1.0</td>\n      <td>0.0</td>\n      <td>0.0</td>\n    </tr>\n    <tr>\n      <th>1</th>\n      <td>1.0</td>\n      <td>0.0</td>\n      <td>0.0</td>\n    </tr>\n    <tr>\n      <th>2</th>\n      <td>0.0</td>\n      <td>0.0</td>\n      <td>0.0</td>\n    </tr>\n    <tr>\n      <th>3</th>\n      <td>0.0</td>\n      <td>0.0</td>\n      <td>0.0</td>\n    </tr>\n    <tr>\n      <th>4</th>\n      <td>1.0</td>\n      <td>0.0</td>\n      <td>0.0</td>\n    </tr>\n  </tbody>\n</table>\n</div>"
     },
     "execution_count": 50,
     "metadata": {},
     "output_type": "execute_result"
    }
   ],
   "source": [
    "# Place encoded testing features (which is currently an array) into a dataframe\n",
    "### YOUR CODE HERE ###\n",
    "\n",
    "X_test_enc_df = pd.DataFrame(data=X_test_enc, columns=['claim_status_opinion', 'author_ban_status_banned', 'author_ban_status_under_review'])\n",
    "# Display first few rows\n",
    "### YOUR CODE HERE ###\n",
    "X_test_enc_df.head()"
   ]
  },
  {
   "cell_type": "code",
   "execution_count": 51,
   "metadata": {
    "id": "uPkMT-n17pV5"
   },
   "outputs": [
    {
     "data": {
      "text/plain": "           #  video_duration_sec  video_view_count  video_share_count  \\\n21061  19022                  41            2118.0               57.0   \n31748  14909                  27            5701.0              157.0   \n20197   2903                  31          449767.0            75385.0   \n5727    5866                  19          792813.0            56597.0   \n11607  12087                  54            2044.0               68.0   \n\n       video_download_count  video_comment_count  \n21061                   5.0                  2.0  \n31748                   1.0                  0.0  \n20197                5956.0               1789.0  \n5727                 5146.0               3413.0  \n11607                  19.0                  2.0  ",
      "text/html": "<div>\n<style scoped>\n    .dataframe tbody tr th:only-of-type {\n        vertical-align: middle;\n    }\n\n    .dataframe tbody tr th {\n        vertical-align: top;\n    }\n\n    .dataframe thead th {\n        text-align: right;\n    }\n</style>\n<table border=\"1\" class=\"dataframe\">\n  <thead>\n    <tr style=\"text-align: right;\">\n      <th></th>\n      <th>#</th>\n      <th>video_duration_sec</th>\n      <th>video_view_count</th>\n      <th>video_share_count</th>\n      <th>video_download_count</th>\n      <th>video_comment_count</th>\n    </tr>\n  </thead>\n  <tbody>\n    <tr>\n      <th>21061</th>\n      <td>19022</td>\n      <td>41</td>\n      <td>2118.0</td>\n      <td>57.0</td>\n      <td>5.0</td>\n      <td>2.0</td>\n    </tr>\n    <tr>\n      <th>31748</th>\n      <td>14909</td>\n      <td>27</td>\n      <td>5701.0</td>\n      <td>157.0</td>\n      <td>1.0</td>\n      <td>0.0</td>\n    </tr>\n    <tr>\n      <th>20197</th>\n      <td>2903</td>\n      <td>31</td>\n      <td>449767.0</td>\n      <td>75385.0</td>\n      <td>5956.0</td>\n      <td>1789.0</td>\n    </tr>\n    <tr>\n      <th>5727</th>\n      <td>5866</td>\n      <td>19</td>\n      <td>792813.0</td>\n      <td>56597.0</td>\n      <td>5146.0</td>\n      <td>3413.0</td>\n    </tr>\n    <tr>\n      <th>11607</th>\n      <td>12087</td>\n      <td>54</td>\n      <td>2044.0</td>\n      <td>68.0</td>\n      <td>19.0</td>\n      <td>2.0</td>\n    </tr>\n  </tbody>\n</table>\n</div>"
     },
     "execution_count": 51,
     "metadata": {},
     "output_type": "execute_result"
    }
   ],
   "source": [
    "# Display first few rows of `X_test` with `claim_status` and `author_ban_status` columns dropped (since these features are being transformed to numeric)\n",
    "### YOUR CODE HERE ###\n",
    "X_test.drop(columns=['claim_status', 'author_ban_status']).head()"
   ]
  },
  {
   "cell_type": "code",
   "execution_count": 52,
   "metadata": {
    "id": "uLRVCl2yLp_4"
   },
   "outputs": [
    {
     "data": {
      "text/plain": "       #  video_duration_sec  video_view_count  video_share_count  \\\n0  19022                  41            2118.0               57.0   \n1  14909                  27            5701.0              157.0   \n2   2903                  31          449767.0            75385.0   \n3   5866                  19          792813.0            56597.0   \n4  12087                  54            2044.0               68.0   \n\n   video_download_count  video_comment_count  claim_status_opinion  \\\n0                   5.0                  2.0                   1.0   \n1                   1.0                  0.0                   1.0   \n2                5956.0               1789.0                   0.0   \n3                5146.0               3413.0                   0.0   \n4                  19.0                  2.0                   1.0   \n\n   author_ban_status_banned  author_ban_status_under_review  \n0                       0.0                             0.0  \n1                       0.0                             0.0  \n2                       0.0                             0.0  \n3                       0.0                             0.0  \n4                       0.0                             0.0  ",
      "text/html": "<div>\n<style scoped>\n    .dataframe tbody tr th:only-of-type {\n        vertical-align: middle;\n    }\n\n    .dataframe tbody tr th {\n        vertical-align: top;\n    }\n\n    .dataframe thead th {\n        text-align: right;\n    }\n</style>\n<table border=\"1\" class=\"dataframe\">\n  <thead>\n    <tr style=\"text-align: right;\">\n      <th></th>\n      <th>#</th>\n      <th>video_duration_sec</th>\n      <th>video_view_count</th>\n      <th>video_share_count</th>\n      <th>video_download_count</th>\n      <th>video_comment_count</th>\n      <th>claim_status_opinion</th>\n      <th>author_ban_status_banned</th>\n      <th>author_ban_status_under_review</th>\n    </tr>\n  </thead>\n  <tbody>\n    <tr>\n      <th>0</th>\n      <td>19022</td>\n      <td>41</td>\n      <td>2118.0</td>\n      <td>57.0</td>\n      <td>5.0</td>\n      <td>2.0</td>\n      <td>1.0</td>\n      <td>0.0</td>\n      <td>0.0</td>\n    </tr>\n    <tr>\n      <th>1</th>\n      <td>14909</td>\n      <td>27</td>\n      <td>5701.0</td>\n      <td>157.0</td>\n      <td>1.0</td>\n      <td>0.0</td>\n      <td>1.0</td>\n      <td>0.0</td>\n      <td>0.0</td>\n    </tr>\n    <tr>\n      <th>2</th>\n      <td>2903</td>\n      <td>31</td>\n      <td>449767.0</td>\n      <td>75385.0</td>\n      <td>5956.0</td>\n      <td>1789.0</td>\n      <td>0.0</td>\n      <td>0.0</td>\n      <td>0.0</td>\n    </tr>\n    <tr>\n      <th>3</th>\n      <td>5866</td>\n      <td>19</td>\n      <td>792813.0</td>\n      <td>56597.0</td>\n      <td>5146.0</td>\n      <td>3413.0</td>\n      <td>0.0</td>\n      <td>0.0</td>\n      <td>0.0</td>\n    </tr>\n    <tr>\n      <th>4</th>\n      <td>12087</td>\n      <td>54</td>\n      <td>2044.0</td>\n      <td>68.0</td>\n      <td>19.0</td>\n      <td>2.0</td>\n      <td>1.0</td>\n      <td>0.0</td>\n      <td>0.0</td>\n    </tr>\n  </tbody>\n</table>\n</div>"
     },
     "execution_count": 52,
     "metadata": {},
     "output_type": "execute_result"
    }
   ],
   "source": [
    "# Concatenate `X_test` and `X_test_encoded_df` to form the final dataframe for training data (`X_test_final`)\n",
    "# Note: Using `.reset_index(drop=True)` to reset the index in X_test after dropping `claim_status`, and `author_ban_status`,\n",
    "# so that the indices align with those in `X_test_encoded_df` and `test_count_df`\n",
    "### YOUR CODE HERE ###\n",
    "\n",
    "X_test_final = pd.concat([X_test.drop(columns=['claim_status', 'author_ban_status']).reset_index(drop=True), X_test_enc_df], axis=1)\n",
    "# Display first few rows\n",
    "### YOUR CODE HERE ###\n",
    "X_test_final.head()"
   ]
  },
  {
   "cell_type": "markdown",
   "metadata": {
    "id": "gM9egturW1eX"
   },
   "source": [
    "Test the logistic regression model. Use the model to make predictions on the encoded testing set."
   ]
  },
  {
   "cell_type": "code",
   "execution_count": 53,
   "metadata": {
    "id": "NZQbthy93bWM"
   },
   "outputs": [],
   "source": [
    "# Use the logistic regression model to get predictions on the encoded testing set\n",
    "### YOUR CODE HERE ###\n",
    "y_pred = log_reg.predict(X_test_final)"
   ]
  },
  {
   "cell_type": "markdown",
   "metadata": {
    "id": "HNjDzuqmYU0G"
   },
   "source": [
    "Display the predictions on the encoded testing set."
   ]
  },
  {
   "cell_type": "code",
   "execution_count": 54,
   "metadata": {
    "id": "tyKjLA_gYUYZ"
   },
   "outputs": [
    {
     "data": {
      "text/plain": "array([1., 1., 0., ..., 1., 1., 0.])"
     },
     "execution_count": 54,
     "metadata": {},
     "output_type": "execute_result"
    }
   ],
   "source": [
    "# Display the predictions on the encoded testing set\n",
    "### YOUR CODE HERE ###\n",
    "y_pred"
   ]
  },
  {
   "cell_type": "markdown",
   "metadata": {
    "id": "iXDp4m9dYlN3"
   },
   "source": [
    "Display the true labels of the testing set."
   ]
  },
  {
   "cell_type": "code",
   "execution_count": 55,
   "metadata": {
    "id": "JymZrHVDYdvu"
   },
   "outputs": [
    {
     "data": {
      "text/plain": "21061        verified\n31748        verified\n20197        verified\n5727     not verified\n11607    not verified\n             ...     \n16750    not verified\n20292        verified\n19647        verified\n19516        verified\n8200     not verified\nName: verified_status, Length: 7154, dtype: object"
     },
     "execution_count": 55,
     "metadata": {},
     "output_type": "execute_result"
    }
   ],
   "source": [
    "# Display the true labels of the testing set\n",
    "### YOUR CODE HERE ###\n",
    "y_test"
   ]
  },
  {
   "cell_type": "markdown",
   "metadata": {
    "id": "WM-HHIInem3Z"
   },
   "source": [
    "Encode the true labels of the testing set so it can be compared to the predictions."
   ]
  },
  {
   "cell_type": "code",
   "execution_count": 56,
   "metadata": {
    "id": "KNnYVZnjfJfz"
   },
   "outputs": [
    {
     "data": {
      "text/plain": "array([1., 1., 1., ..., 1., 1., 0.])"
     },
     "execution_count": 56,
     "metadata": {},
     "output_type": "execute_result"
    }
   ],
   "source": [
    "# Encode the testing outcome variable\n",
    "# Notes:\n",
    "#   - Adjusting the shape of `y_test` before passing into `.transform()`, since it takes in 2D array\n",
    "#   - Using `.ravel()` to flatten the array returned by `.transform()`, so that it can be used later to compare with predictions\n",
    "### YOUR CODE HERE ###\n",
    "\n",
    "y_test_final = y_enc.transform(y_test.values.reshape(-1,1)).ravel()\n",
    "\n",
    "# Display the encoded testing outcome variable\n",
    "y_test_final"
   ]
  },
  {
   "cell_type": "markdown",
   "metadata": {
    "id": "IzdbI4A4mmHA"
   },
   "source": [
    "Confirm again that the dimensions of the training and testing sets are in alignment since additional features were added."
   ]
  },
  {
   "cell_type": "code",
   "execution_count": 57,
   "metadata": {
    "id": "WbbI5cSfmmHA"
   },
   "outputs": [
    {
     "name": "stdout",
     "output_type": "stream",
     "text": [
      "(7154, 9)\n",
      "(7154,)\n",
      "(28614, 9)\n",
      "(28614,)\n"
     ]
    }
   ],
   "source": [
    "# Get shape of each training and testing set\n",
    "### YOUR CODE HERE ###\n",
    "print(X_test_final.shape)\n",
    "print(y_test_final.shape)\n",
    "print(X_train_final.shape)\n",
    "print(y_train_final.shape)"
   ]
  },
  {
   "cell_type": "markdown",
   "metadata": {
    "id": "IMQltTaQFnwv"
   },
   "source": [
    "### **Task 4b. Visualize model results**"
   ]
  },
  {
   "cell_type": "markdown",
   "metadata": {
    "id": "VVMG0ubSXQvS"
   },
   "source": [
    "Create a confusion matrix to visualize the results of the logistic regression model."
   ]
  },
  {
   "cell_type": "code",
   "execution_count": 58,
   "metadata": {
    "id": "ZPgiHdlyZCTf"
   },
   "outputs": [
    {
     "data": {
      "text/plain": "<Figure size 1000x200 with 2 Axes>",
      "image/png": "[encoded data removed]"
     },
     "metadata": {},
     "output_type": "display_data"
    }
   ],
   "source": [
    "# Compute values for confusion matrix\n",
    "### YOUR CODE HERE ###\n",
    "log_cm = confusion_matrix(y_test_final, y_pred, labels=log_reg.classes_)\n",
    "\n",
    "# Create display of confusion matrix\n",
    "### YOUR CODE HERE ###\n",
    "log_disp = ConfusionMatrixDisplay(confusion_matrix=log_cm, display_labels=log_reg.classes_)\n",
    "\n",
    "# Plot confusion matrix\n",
    "### YOUR CODE HERE ###\n",
    "log_disp.plot()\n",
    "\n",
    "# Display plot\n",
    "### YOUR CODE HERE ###\n",
    "plt.show()"
   ]
  },
  {
   "cell_type": "markdown",
   "metadata": {
    "id": "I6OmnATfbtNd"
   },
   "source": [
    "Create a classification report that includes precision, recall, f1-score, and accuracy metrics to evaluate the performance of the logistic regression model."
   ]
  },
  {
   "cell_type": "code",
   "execution_count": 59,
   "metadata": {
    "id": "AMxCzRa-bnUe"
   },
   "outputs": [
    {
     "name": "stdout",
     "output_type": "stream",
     "text": [
      "              precision    recall  f1-score   support\n",
      "\n",
      "    verified       0.74      0.47      0.58      3565\n",
      "not verified       0.61      0.84      0.71      3589\n",
      "\n",
      "    accuracy                           0.65      7154\n",
      "   macro avg       0.68      0.65      0.64      7154\n",
      "weighted avg       0.68      0.65      0.64      7154\n",
      "\n"
     ]
    }
   ],
   "source": [
    "# Create a classification report\n",
    "### YOUR CODE HERE ###\n",
    "target_labels = [\"verified\", \"not verified\"]\n",
    "print(classification_report(y_test_final, y_pred, target_names=target_labels))"
   ]
  },
  {
   "cell_type": "markdown",
   "metadata": {
    "id": "IFY_y19EKQoO"
   },
   "source": [
    "### **Task 4c. Interpret model coefficients**"
   ]
  },
  {
   "cell_type": "code",
   "execution_count": 60,
   "metadata": {
    "id": "6TmRk8tz4JpG"
   },
   "outputs": [
    {
     "data": {
      "text/plain": "                     Feature Name  Model Coefficient\n0                               #       3.328151e-05\n1              video_duration_sec      -2.646279e-05\n2                video_view_count      -2.096820e-06\n3               video_share_count       5.623393e-06\n4            video_download_count      -2.126993e-04\n5             video_comment_count       3.867723e-04\n6            claim_status_opinion       9.406239e-07\n7        author_ban_status_banned      -3.774938e-07\n8  author_ban_status_under_review      -2.622265e-07",
      "text/html": "<div>\n<style scoped>\n    .dataframe tbody tr th:only-of-type {\n        vertical-align: middle;\n    }\n\n    .dataframe tbody tr th {\n        vertical-align: top;\n    }\n\n    .dataframe thead th {\n        text-align: right;\n    }\n</style>\n<table border=\"1\" class=\"dataframe\">\n  <thead>\n    <tr style=\"text-align: right;\">\n      <th></th>\n      <th>Feature Name</th>\n      <th>Model Coefficient</th>\n    </tr>\n  </thead>\n  <tbody>\n    <tr>\n      <th>0</th>\n      <td>#</td>\n      <td>3.328151e-05</td>\n    </tr>\n    <tr>\n      <th>1</th>\n      <td>video_duration_sec</td>\n      <td>-2.646279e-05</td>\n    </tr>\n    <tr>\n      <th>2</th>\n      <td>video_view_count</td>\n      <td>-2.096820e-06</td>\n    </tr>\n    <tr>\n      <th>3</th>\n      <td>video_share_count</td>\n      <td>5.623393e-06</td>\n    </tr>\n    <tr>\n      <th>4</th>\n      <td>video_download_count</td>\n      <td>-2.126993e-04</td>\n    </tr>\n    <tr>\n      <th>5</th>\n      <td>video_comment_count</td>\n      <td>3.867723e-04</td>\n    </tr>\n    <tr>\n      <th>6</th>\n      <td>claim_status_opinion</td>\n      <td>9.406239e-07</td>\n    </tr>\n    <tr>\n      <th>7</th>\n      <td>author_ban_status_banned</td>\n      <td>-3.774938e-07</td>\n    </tr>\n    <tr>\n      <th>8</th>\n      <td>author_ban_status_under_review</td>\n      <td>-2.622265e-07</td>\n    </tr>\n  </tbody>\n</table>\n</div>"
     },
     "execution_count": 60,
     "metadata": {},
     "output_type": "execute_result"
    }
   ],
   "source": [
    "# Get the feature names from the model and the model coefficients (which represent log-odds ratios)\n",
    "# Place into a DataFrame for readability\n",
    "### YOUR CODE HERE ###\n",
    "\n",
    "pd.DataFrame(data={\"Feature Name\":log_reg.feature_names_in_, \"Model Coefficient\":log_reg.coef_[0]})"
   ]
  },
  {
   "cell_type": "markdown",
   "metadata": {
    "id": "P6AlDDyhdzmG"
   },
   "source": [
    "### **Task 4d. Conclusion**\n",
    "\n",
    "1. What are the key takeaways from this project?\n",
    "\n",
    "2. What results can be presented from this project?"
   ]
  },
  {
   "cell_type": "markdown",
   "metadata": {
    "id": "BzqJ13WAnt4R"
   },
   "source": [
    "* The dataset contains several variables that are strongly correlated, which could potentially lead to multicollinearity problems when constructing a logistic regression model. Consequently, we made the decision to exclude \"video_like_count\" from the model building process.\n",
    "\n",
    "* According to the logistic regression model, each additional second of the video is linked to a 0.01 increase in the log-odds of the user having a verified status.\n",
    "\n",
    "* The logistic regression model exhibited respectable predictive capability, with a precision of 69% and a recall of 66% (weighted averages). Additionally, it achieved an accuracy of 66%.\n",
    "\n",
    "* We developed a logistic regression model specifically for predicting verified status based on video characteristics. The model demonstrated decent predictive power, with precision and recall rates of 69% and 66%, respectively. The estimated coefficients from the logistic regression indicated that longer videos tend to have higher odds of the user being verified. However, the other video features possessed small estimated coefficients in the model, suggesting a limited association with verified status."
   ]
  },
  {
   "cell_type": "code",
   "execution_count": null,
   "outputs": [],
   "source": [],
   "metadata": {
    "collapsed": false
   }
  }
 ],
 "metadata": {
  "colab": {
   "provenance": []
  },
  "kernelspec": {
   "display_name": "Python 3",
   "language": "python",
   "name": "python3"
  },
  "language_info": {
   "codemirror_mode": {
    "name": "ipython",
    "version": 3
   },
   "file_extension": ".py",
   "mimetype": "text/x-python",
   "name": "python",
   "nbconvert_exporter": "python",
   "pygments_lexer": "ipython3",
   "version": "3.7.6"
  }
 },
 "nbformat": 4,
 "nbformat_minor": 1
}

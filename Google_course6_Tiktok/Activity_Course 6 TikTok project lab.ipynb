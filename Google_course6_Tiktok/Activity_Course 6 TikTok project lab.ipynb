{
 "cells": [
  {
   "cell_type": "markdown",
   "metadata": {
    "id": "DtNBZFHO3M7n"
   },
   "source": [
    "# **TikTok Project**\n",
    "**Course 6 - The Nuts and bolts of machine learning**"
   ]
  },
  {
   "cell_type": "markdown",
   "metadata": {
    "id": "9ttxbfHXzB4e"
   },
   "source": [
    "Recall that you are a data professional at TikTok. Your supervisor was impressed with the work you have done and has requested that you build a machine learning model that can be used to determine whether a video contains a claim or whether it offers an opinion. With a successful prediction model, TikTok can reduce the backlog of user reports and prioritize them more efficiently.\n",
    "\n",
    "A notebook was structured and prepared to help you in this project. A notebook was structured and prepared to help you in this project. Please complete the following questions."
   ]
  },
  {
   "cell_type": "markdown",
   "metadata": {
    "id": "rgSbVJvomcVa"
   },
   "source": [
    "# **Course 6 End-of-course project: Classifying videos using machine learning**\n",
    "\n",
    "In this activity, you will practice using machine learning techniques to predict on a binary outcome variable.\n",
    "<br/>\n",
    "\n",
    "**The purpose** of this model is to increase response time and system efficiency by automating the initial stages of the claims process.\n",
    "\n",
    "**The goal** of this model is to predict whether a TikTok video presents a \"claim\" or presents an \"opinion\".\n",
    "<br/>\n",
    "\n",
    "*This activity has three parts:*\n",
    "\n",
    "**Part 1:** Ethical considerations\n",
    "* Consider the ethical implications of the request\n",
    "\n",
    "* Should the objective of the model be adjusted?\n",
    "\n",
    "**Part 2:** Feature engineering\n",
    "\n",
    "* Perform feature selection, extraction, and transformation to prepare the data for modeling\n",
    "\n",
    "**Part 3:** Modeling\n",
    "\n",
    "* Build the models, evaluate them, and advise on next steps\n",
    "\n",
    "Follow the instructions and answer the questions below to complete the activity. Then, you will complete an Executive Summary using the questions listed on the PACE Strategy Document.\n",
    "\n",
    "Be sure to complete this activity before moving on. The next course item will provide you with a completed exemplar to compare to your own work.\n",
    "\n"
   ]
  },
  {
   "cell_type": "markdown",
   "metadata": {
    "id": "Uj7uL90rosR4"
   },
   "source": [
    "# **Classify videos using machine learning**"
   ]
  },
  {
   "cell_type": "markdown",
   "metadata": {
    "id": "NzDjfCSLf6Jq"
   },
   "source": [
    "<img src=\"images/Pace.png\" width=\"100\" height=\"100\" align=left>\n",
    "\n",
    "# **PACE stages**\n"
   ]
  },
  {
   "cell_type": "markdown",
   "metadata": {
    "id": "-svprBfKpAKf"
   },
   "source": [
    "Throughout these project notebooks, you'll see references to the problem-solving framework PACE. The following notebook components are labeled with the respective PACE stage: Plan, Analyze, Construct, and Execute."
   ]
  },
  {
   "cell_type": "markdown",
   "metadata": {
    "id": "E5g1A74r0ow_"
   },
   "source": [
    "<img src=\"images/Plan.png\" width=\"100\" height=\"100\" align=left>\n",
    "\n",
    "\n",
    "## **PACE: Plan**\n",
    "\n",
    "Consider the questions in your PACE Strategy Document to reflect on the Plan stage.\n",
    "\n",
    "In this stage, consider the following questions:\n",
    "\n",
    "\n",
    "1.   **What are you being asked to do? What metric should I use to evaluate success of my business/organizational objective?**\n",
    "\n",
    "2.   **What are the ethical implications of the model? What are the consequences of your model making errors?**\n",
    "  *   What is the likely effect of the model when it predicts a false negative (i.e., when the model says a video does not contain a claim and it actually does)?\n",
    "\n",
    "  *   What is the likely effect of the model when it predicts a false positive (i.e., when the model says a video does contain a claim and it actually does not)?\n",
    "\n",
    "3.   **How would you proceed?**\n"
   ]
  },
  {
   "cell_type": "markdown",
   "metadata": {
    "id": "JX669CyACLtt"
   },
   "source": [
    "* Split the data into training and testing sets\n",
    "* Fit and train the models\n",
    "* Evaluate the models\n",
    "* Choose a champion model"
   ]
  },
  {
   "cell_type": "markdown",
   "metadata": {
    "id": "e8Vm3QEfGELS"
   },
   "source": [
    "### **Task 1. Imports and data loading**\n",
    "\n",
    "Start by importing packages needed to build machine learning models to achieve the goal of this project."
   ]
  },
  {
   "cell_type": "code",
   "execution_count": 41,
   "metadata": {
    "id": "tCni9wAGphb0"
   },
   "outputs": [],
   "source": [
    "# Import packages for data manipulation\n",
    "### YOUR CODE HERE ###\n",
    "import pandas as pd\n",
    "import numpy as np\n",
    "\n",
    "# Import packages for data visualization\n",
    "### YOUR CODE HERE ###\n",
    "import matplotlib.pyplot as plt\n",
    "import seaborn as sns\n",
    "\n",
    "# Import packages for data preprocessing\n",
    "### YOUR CODE HERE ###\n",
    "from sklearn.feature_extraction.text import CountVectorizer\n",
    "\n",
    "# Import packages for data modeling\n",
    "### YOUR CODE HERE ###\n",
    "from sklearn.model_selection import train_test_split, GridSearchCV\n",
    "from sklearn.metrics import classification_report, accuracy_score, precision_score, recall_score, f1_score, confusion_matrix, ConfusionMatrixDisplay\n",
    "from sklearn.ensemble import RandomForestClassifier\n",
    "from xgboost import XGBClassifier, plot_importance\n"
   ]
  },
  {
   "cell_type": "markdown",
   "metadata": {
    "id": "IeXTZ2tdbALL"
   },
   "source": [
    "Now load the data from the provided csv file into a dataframe.\n",
    "\n",
    "**Note:** As shown in this cell, the dataset has been automatically loaded in for you. You do not need to download the .csv file, or provide more code, in order to access the dataset and proceed with this lab. Please continue with this activity by completing the following instructions."
   ]
  },
  {
   "cell_type": "code",
   "execution_count": 42,
   "metadata": {
    "id": "C9ODhaOppqlw"
   },
   "outputs": [],
   "source": [
    "# Load dataset into dataframe\n",
    "data = pd.read_csv(\"tiktok_dataset.csv\")"
   ]
  },
  {
   "cell_type": "markdown",
   "metadata": {
    "id": "EgPRBjizg1oo"
   },
   "source": [
    "<img src=\"images/Analyze.png\" width=\"100\" height=\"100\" align=left>\n",
    "\n",
    "## **PACE: Analyze**\n",
    "\n",
    "Consider the questions in your PACE Strategy Document to reflect on the Analyze stage."
   ]
  },
  {
   "cell_type": "markdown",
   "metadata": {
    "id": "TYtBhb2zR54G"
   },
   "source": [
    "### **Task 2: Examine data, summary info, and descriptive stats**"
   ]
  },
  {
   "cell_type": "markdown",
   "metadata": {
    "id": "JBHl90JIRuXk"
   },
   "source": [
    "Inspect the first five rows of the dataframe."
   ]
  },
  {
   "cell_type": "code",
   "execution_count": 43,
   "metadata": {
    "id": "2rfk95MLp4a_"
   },
   "outputs": [
    {
     "data": {
      "text/plain": "   # claim_status    video_id  video_duration_sec  \\\n0  1        claim  7017666017                  59   \n1  2        claim  4014381136                  32   \n2  3        claim  9859838091                  31   \n3  4        claim  1866847991                  25   \n4  5        claim  7105231098                  19   \n\n                            video_transcription_text verified_status  \\\n0  someone shared with me that drone deliveries a...    not verified   \n1  someone shared with me that there are more mic...    not verified   \n2  someone shared with me that american industria...    not verified   \n3  someone shared with me that the metro of st. p...    not verified   \n4  someone shared with me that the number of busi...    not verified   \n\n  author_ban_status  video_view_count  video_like_count  video_share_count  \\\n0      under review          343296.0           19425.0              241.0   \n1            active          140877.0           77355.0            19034.0   \n2            active          902185.0           97690.0             2858.0   \n3            active          437506.0          239954.0            34812.0   \n4            active           56167.0           34987.0             4110.0   \n\n   video_download_count  video_comment_count  \n0                   1.0                  0.0  \n1                1161.0                684.0  \n2                 833.0                329.0  \n3                1234.0                584.0  \n4                 547.0                152.0  ",
      "text/html": "<div>\n<style scoped>\n    .dataframe tbody tr th:only-of-type {\n        vertical-align: middle;\n    }\n\n    .dataframe tbody tr th {\n        vertical-align: top;\n    }\n\n    .dataframe thead th {\n        text-align: right;\n    }\n</style>\n<table border=\"1\" class=\"dataframe\">\n  <thead>\n    <tr style=\"text-align: right;\">\n      <th></th>\n      <th>#</th>\n      <th>claim_status</th>\n      <th>video_id</th>\n      <th>video_duration_sec</th>\n      <th>video_transcription_text</th>\n      <th>verified_status</th>\n      <th>author_ban_status</th>\n      <th>video_view_count</th>\n      <th>video_like_count</th>\n      <th>video_share_count</th>\n      <th>video_download_count</th>\n      <th>video_comment_count</th>\n    </tr>\n  </thead>\n  <tbody>\n    <tr>\n      <th>0</th>\n      <td>1</td>\n      <td>claim</td>\n      <td>7017666017</td>\n      <td>59</td>\n      <td>someone shared with me that drone deliveries a...</td>\n      <td>not verified</td>\n      <td>under review</td>\n      <td>343296.0</td>\n      <td>19425.0</td>\n      <td>241.0</td>\n      <td>1.0</td>\n      <td>0.0</td>\n    </tr>\n    <tr>\n      <th>1</th>\n      <td>2</td>\n      <td>claim</td>\n      <td>4014381136</td>\n      <td>32</td>\n      <td>someone shared with me that there are more mic...</td>\n      <td>not verified</td>\n      <td>active</td>\n      <td>140877.0</td>\n      <td>77355.0</td>\n      <td>19034.0</td>\n      <td>1161.0</td>\n      <td>684.0</td>\n    </tr>\n    <tr>\n      <th>2</th>\n      <td>3</td>\n      <td>claim</td>\n      <td>9859838091</td>\n      <td>31</td>\n      <td>someone shared with me that american industria...</td>\n      <td>not verified</td>\n      <td>active</td>\n      <td>902185.0</td>\n      <td>97690.0</td>\n      <td>2858.0</td>\n      <td>833.0</td>\n      <td>329.0</td>\n    </tr>\n    <tr>\n      <th>3</th>\n      <td>4</td>\n      <td>claim</td>\n      <td>1866847991</td>\n      <td>25</td>\n      <td>someone shared with me that the metro of st. p...</td>\n      <td>not verified</td>\n      <td>active</td>\n      <td>437506.0</td>\n      <td>239954.0</td>\n      <td>34812.0</td>\n      <td>1234.0</td>\n      <td>584.0</td>\n    </tr>\n    <tr>\n      <th>4</th>\n      <td>5</td>\n      <td>claim</td>\n      <td>7105231098</td>\n      <td>19</td>\n      <td>someone shared with me that the number of busi...</td>\n      <td>not verified</td>\n      <td>active</td>\n      <td>56167.0</td>\n      <td>34987.0</td>\n      <td>4110.0</td>\n      <td>547.0</td>\n      <td>152.0</td>\n    </tr>\n  </tbody>\n</table>\n</div>"
     },
     "execution_count": 43,
     "metadata": {},
     "output_type": "execute_result"
    }
   ],
   "source": [
    "# Display first few rows\n",
    "### YOUR CODE HERE ###\n",
    "data.head()"
   ]
  },
  {
   "cell_type": "markdown",
   "metadata": {
    "id": "66KOxKCx977b"
   },
   "source": [
    "Get the number of rows and columns in the dataset."
   ]
  },
  {
   "cell_type": "code",
   "execution_count": 44,
   "metadata": {
    "id": "kYwW-G1WqX3R"
   },
   "outputs": [
    {
     "data": {
      "text/plain": "(19382, 12)"
     },
     "execution_count": 44,
     "metadata": {},
     "output_type": "execute_result"
    }
   ],
   "source": [
    "# Get number of rows and columns\n",
    "### YOUR CODE HERE ###\n",
    "data.shape"
   ]
  },
  {
   "cell_type": "markdown",
   "metadata": {
    "id": "aP-NbEGdEio8"
   },
   "source": [
    "Get the data types of the columns."
   ]
  },
  {
   "cell_type": "code",
   "execution_count": 45,
   "metadata": {
    "id": "rbpDgrXfEoVj"
   },
   "outputs": [
    {
     "data": {
      "text/plain": "#                             int64\nclaim_status                 object\nvideo_id                      int64\nvideo_duration_sec            int64\nvideo_transcription_text     object\nverified_status              object\nauthor_ban_status            object\nvideo_view_count            float64\nvideo_like_count            float64\nvideo_share_count           float64\nvideo_download_count        float64\nvideo_comment_count         float64\ndtype: object"
     },
     "execution_count": 45,
     "metadata": {},
     "output_type": "execute_result"
    }
   ],
   "source": [
    "# Get data types of columns\n",
    "### YOUR CODE HERE ###\n",
    "data.dtypes"
   ]
  },
  {
   "cell_type": "markdown",
   "metadata": {
    "id": "URuRVjUZ_Axg"
   },
   "source": [
    "Get basic information about the dataset."
   ]
  },
  {
   "cell_type": "code",
   "execution_count": 46,
   "metadata": {
    "id": "zyyKCGzCp7SS"
   },
   "outputs": [
    {
     "name": "stdout",
     "output_type": "stream",
     "text": [
      "<class 'pandas.core.frame.DataFrame'>\n",
      "RangeIndex: 19382 entries, 0 to 19381\n",
      "Data columns (total 12 columns):\n",
      " #   Column                    Non-Null Count  Dtype  \n",
      "---  ------                    --------------  -----  \n",
      " 0   #                         19382 non-null  int64  \n",
      " 1   claim_status              19084 non-null  object \n",
      " 2   video_id                  19382 non-null  int64  \n",
      " 3   video_duration_sec        19382 non-null  int64  \n",
      " 4   video_transcription_text  19084 non-null  object \n",
      " 5   verified_status           19382 non-null  object \n",
      " 6   author_ban_status         19382 non-null  object \n",
      " 7   video_view_count          19084 non-null  float64\n",
      " 8   video_like_count          19084 non-null  float64\n",
      " 9   video_share_count         19084 non-null  float64\n",
      " 10  video_download_count      19084 non-null  float64\n",
      " 11  video_comment_count       19084 non-null  float64\n",
      "dtypes: float64(5), int64(3), object(4)\n",
      "memory usage: 1.8+ MB\n"
     ]
    }
   ],
   "source": [
    "# Get basic information\n",
    "### YOUR CODE HERE ###\n",
    "data.info()"
   ]
  },
  {
   "cell_type": "markdown",
   "metadata": {
    "id": "0T5Ieb6WB61Q"
   },
   "source": [
    "Generate basic descriptive statistics about the dataset."
   ]
  },
  {
   "cell_type": "code",
   "execution_count": 47,
   "metadata": {
    "id": "HbpuAS2UqY01"
   },
   "outputs": [
    {
     "data": {
      "text/plain": "                  #      video_id  video_duration_sec  video_view_count  \\\ncount  19382.000000  1.938200e+04        19382.000000      19084.000000   \nmean    9691.500000  5.627454e+09           32.421732     254708.558688   \nstd     5595.245794  2.536440e+09           16.229967     322893.280814   \nmin        1.000000  1.234959e+09            5.000000         20.000000   \n25%     4846.250000  3.430417e+09           18.000000       4942.500000   \n50%     9691.500000  5.618664e+09           32.000000       9954.500000   \n75%    14536.750000  7.843960e+09           47.000000     504327.000000   \nmax    19382.000000  9.999873e+09           60.000000     999817.000000   \n\n       video_like_count  video_share_count  video_download_count  \\\ncount      19084.000000       19084.000000          19084.000000   \nmean       84304.636030       16735.248323           1049.429627   \nstd       133420.546814       32036.174350           2004.299894   \nmin            0.000000           0.000000              0.000000   \n25%          810.750000         115.000000              7.000000   \n50%         3403.500000         717.000000             46.000000   \n75%       125020.000000       18222.000000           1156.250000   \nmax       657830.000000      256130.000000          14994.000000   \n\n       video_comment_count  \ncount         19084.000000  \nmean            349.312146  \nstd             799.638865  \nmin               0.000000  \n25%               1.000000  \n50%               9.000000  \n75%             292.000000  \nmax            9599.000000  ",
      "text/html": "<div>\n<style scoped>\n    .dataframe tbody tr th:only-of-type {\n        vertical-align: middle;\n    }\n\n    .dataframe tbody tr th {\n        vertical-align: top;\n    }\n\n    .dataframe thead th {\n        text-align: right;\n    }\n</style>\n<table border=\"1\" class=\"dataframe\">\n  <thead>\n    <tr style=\"text-align: right;\">\n      <th></th>\n      <th>#</th>\n      <th>video_id</th>\n      <th>video_duration_sec</th>\n      <th>video_view_count</th>\n      <th>video_like_count</th>\n      <th>video_share_count</th>\n      <th>video_download_count</th>\n      <th>video_comment_count</th>\n    </tr>\n  </thead>\n  <tbody>\n    <tr>\n      <th>count</th>\n      <td>19382.000000</td>\n      <td>1.938200e+04</td>\n      <td>19382.000000</td>\n      <td>19084.000000</td>\n      <td>19084.000000</td>\n      <td>19084.000000</td>\n      <td>19084.000000</td>\n      <td>19084.000000</td>\n    </tr>\n    <tr>\n      <th>mean</th>\n      <td>9691.500000</td>\n      <td>5.627454e+09</td>\n      <td>32.421732</td>\n      <td>254708.558688</td>\n      <td>84304.636030</td>\n      <td>16735.248323</td>\n      <td>1049.429627</td>\n      <td>349.312146</td>\n    </tr>\n    <tr>\n      <th>std</th>\n      <td>5595.245794</td>\n      <td>2.536440e+09</td>\n      <td>16.229967</td>\n      <td>322893.280814</td>\n      <td>133420.546814</td>\n      <td>32036.174350</td>\n      <td>2004.299894</td>\n      <td>799.638865</td>\n    </tr>\n    <tr>\n      <th>min</th>\n      <td>1.000000</td>\n      <td>1.234959e+09</td>\n      <td>5.000000</td>\n      <td>20.000000</td>\n      <td>0.000000</td>\n      <td>0.000000</td>\n      <td>0.000000</td>\n      <td>0.000000</td>\n    </tr>\n    <tr>\n      <th>25%</th>\n      <td>4846.250000</td>\n      <td>3.430417e+09</td>\n      <td>18.000000</td>\n      <td>4942.500000</td>\n      <td>810.750000</td>\n      <td>115.000000</td>\n      <td>7.000000</td>\n      <td>1.000000</td>\n    </tr>\n    <tr>\n      <th>50%</th>\n      <td>9691.500000</td>\n      <td>5.618664e+09</td>\n      <td>32.000000</td>\n      <td>9954.500000</td>\n      <td>3403.500000</td>\n      <td>717.000000</td>\n      <td>46.000000</td>\n      <td>9.000000</td>\n    </tr>\n    <tr>\n      <th>75%</th>\n      <td>14536.750000</td>\n      <td>7.843960e+09</td>\n      <td>47.000000</td>\n      <td>504327.000000</td>\n      <td>125020.000000</td>\n      <td>18222.000000</td>\n      <td>1156.250000</td>\n      <td>292.000000</td>\n    </tr>\n    <tr>\n      <th>max</th>\n      <td>19382.000000</td>\n      <td>9.999873e+09</td>\n      <td>60.000000</td>\n      <td>999817.000000</td>\n      <td>657830.000000</td>\n      <td>256130.000000</td>\n      <td>14994.000000</td>\n      <td>9599.000000</td>\n    </tr>\n  </tbody>\n</table>\n</div>"
     },
     "execution_count": 47,
     "metadata": {},
     "output_type": "execute_result"
    }
   ],
   "source": [
    "# Generate basic descriptive stats\n",
    "### YOUR CODE HERE ###\n",
    "data.describe()"
   ]
  },
  {
   "cell_type": "markdown",
   "metadata": {
    "id": "9OpeNQDdyIT6"
   },
   "source": [
    "Check for and handle missing values."
   ]
  },
  {
   "cell_type": "code",
   "execution_count": 48,
   "metadata": {
    "id": "BrunHcfa7xnT"
   },
   "outputs": [
    {
     "data": {
      "text/plain": "#                             0\nclaim_status                298\nvideo_id                      0\nvideo_duration_sec            0\nvideo_transcription_text    298\nverified_status               0\nauthor_ban_status             0\nvideo_view_count            298\nvideo_like_count            298\nvideo_share_count           298\nvideo_download_count        298\nvideo_comment_count         298\ndtype: int64"
     },
     "execution_count": 48,
     "metadata": {},
     "output_type": "execute_result"
    }
   ],
   "source": [
    "# Check for missing values\n",
    "### YOUR CODE HERE ###\n",
    "data.isnull().sum()"
   ]
  },
  {
   "cell_type": "code",
   "execution_count": 49,
   "metadata": {
    "id": "SHSj1Hma914I"
   },
   "outputs": [],
   "source": [
    "# Drop rows with missing values\n",
    "### YOUR CODE HERE ###\n",
    "data.dropna(axis=0, inplace=True)"
   ]
  },
  {
   "cell_type": "code",
   "execution_count": 50,
   "metadata": {
    "id": "ZYUF3xap9_Fa"
   },
   "outputs": [
    {
     "data": {
      "text/plain": "   # claim_status    video_id  video_duration_sec  \\\n0  1        claim  7017666017                  59   \n1  2        claim  4014381136                  32   \n2  3        claim  9859838091                  31   \n3  4        claim  1866847991                  25   \n4  5        claim  7105231098                  19   \n\n                            video_transcription_text verified_status  \\\n0  someone shared with me that drone deliveries a...    not verified   \n1  someone shared with me that there are more mic...    not verified   \n2  someone shared with me that american industria...    not verified   \n3  someone shared with me that the metro of st. p...    not verified   \n4  someone shared with me that the number of busi...    not verified   \n\n  author_ban_status  video_view_count  video_like_count  video_share_count  \\\n0      under review          343296.0           19425.0              241.0   \n1            active          140877.0           77355.0            19034.0   \n2            active          902185.0           97690.0             2858.0   \n3            active          437506.0          239954.0            34812.0   \n4            active           56167.0           34987.0             4110.0   \n\n   video_download_count  video_comment_count  \n0                   1.0                  0.0  \n1                1161.0                684.0  \n2                 833.0                329.0  \n3                1234.0                584.0  \n4                 547.0                152.0  ",
      "text/html": "<div>\n<style scoped>\n    .dataframe tbody tr th:only-of-type {\n        vertical-align: middle;\n    }\n\n    .dataframe tbody tr th {\n        vertical-align: top;\n    }\n\n    .dataframe thead th {\n        text-align: right;\n    }\n</style>\n<table border=\"1\" class=\"dataframe\">\n  <thead>\n    <tr style=\"text-align: right;\">\n      <th></th>\n      <th>#</th>\n      <th>claim_status</th>\n      <th>video_id</th>\n      <th>video_duration_sec</th>\n      <th>video_transcription_text</th>\n      <th>verified_status</th>\n      <th>author_ban_status</th>\n      <th>video_view_count</th>\n      <th>video_like_count</th>\n      <th>video_share_count</th>\n      <th>video_download_count</th>\n      <th>video_comment_count</th>\n    </tr>\n  </thead>\n  <tbody>\n    <tr>\n      <th>0</th>\n      <td>1</td>\n      <td>claim</td>\n      <td>7017666017</td>\n      <td>59</td>\n      <td>someone shared with me that drone deliveries a...</td>\n      <td>not verified</td>\n      <td>under review</td>\n      <td>343296.0</td>\n      <td>19425.0</td>\n      <td>241.0</td>\n      <td>1.0</td>\n      <td>0.0</td>\n    </tr>\n    <tr>\n      <th>1</th>\n      <td>2</td>\n      <td>claim</td>\n      <td>4014381136</td>\n      <td>32</td>\n      <td>someone shared with me that there are more mic...</td>\n      <td>not verified</td>\n      <td>active</td>\n      <td>140877.0</td>\n      <td>77355.0</td>\n      <td>19034.0</td>\n      <td>1161.0</td>\n      <td>684.0</td>\n    </tr>\n    <tr>\n      <th>2</th>\n      <td>3</td>\n      <td>claim</td>\n      <td>9859838091</td>\n      <td>31</td>\n      <td>someone shared with me that american industria...</td>\n      <td>not verified</td>\n      <td>active</td>\n      <td>902185.0</td>\n      <td>97690.0</td>\n      <td>2858.0</td>\n      <td>833.0</td>\n      <td>329.0</td>\n    </tr>\n    <tr>\n      <th>3</th>\n      <td>4</td>\n      <td>claim</td>\n      <td>1866847991</td>\n      <td>25</td>\n      <td>someone shared with me that the metro of st. p...</td>\n      <td>not verified</td>\n      <td>active</td>\n      <td>437506.0</td>\n      <td>239954.0</td>\n      <td>34812.0</td>\n      <td>1234.0</td>\n      <td>584.0</td>\n    </tr>\n    <tr>\n      <th>4</th>\n      <td>5</td>\n      <td>claim</td>\n      <td>7105231098</td>\n      <td>19</td>\n      <td>someone shared with me that the number of busi...</td>\n      <td>not verified</td>\n      <td>active</td>\n      <td>56167.0</td>\n      <td>34987.0</td>\n      <td>4110.0</td>\n      <td>547.0</td>\n      <td>152.0</td>\n    </tr>\n  </tbody>\n</table>\n</div>"
     },
     "execution_count": 50,
     "metadata": {},
     "output_type": "execute_result"
    }
   ],
   "source": [
    "\n",
    "# Display first few rows after handling missing values\n",
    "### YOUR CODE HERE ###\n",
    "data.head()"
   ]
  },
  {
   "cell_type": "markdown",
   "metadata": {
    "id": "XcfffpANyNiu"
   },
   "source": [
    "Check for and handle duplicates."
   ]
  },
  {
   "cell_type": "code",
   "execution_count": 51,
   "metadata": {
    "id": "IKaGnWIsiHpH"
   },
   "outputs": [
    {
     "data": {
      "text/plain": "0"
     },
     "execution_count": 51,
     "metadata": {},
     "output_type": "execute_result"
    }
   ],
   "source": [
    "# Check for duplicates\n",
    "### YOUR CODE HERE ###\n",
    "data.duplicated().sum()"
   ]
  },
  {
   "cell_type": "markdown",
   "metadata": {
    "id": "k-HcHpGc5Hn7"
   },
   "source": [
    "Check for and handle outliers."
   ]
  },
  {
   "cell_type": "code",
   "execution_count": 52,
   "metadata": {
    "id": "bZS2-0qEPbN6"
   },
   "outputs": [],
   "source": [
    "### YOUR CODE HERE ###\n",
    "# Tree models are robust to outliers, so it is not necessary\n"
   ]
  },
  {
   "cell_type": "markdown",
   "metadata": {
    "id": "Ecg5b3Jwfyxa"
   },
   "source": [
    "Check class balance."
   ]
  },
  {
   "cell_type": "code",
   "execution_count": 53,
   "metadata": {
    "id": "dQauKR11fyxb"
   },
   "outputs": [
    {
     "data": {
      "text/plain": "claim      0.503458\nopinion    0.496542\nName: claim_status, dtype: float64"
     },
     "execution_count": 53,
     "metadata": {},
     "output_type": "execute_result"
    }
   ],
   "source": [
    "# Check class balance\n",
    "### YOUR CODE HERE ###\n",
    "data.claim_status.value_counts(normalize=True)"
   ]
  },
  {
   "cell_type": "markdown",
   "metadata": {
    "id": "kD8TsZ8jqri0"
   },
   "source": [
    "<img src=\"images/Construct.png\" width=\"100\" height=\"100\" align=left>\n",
    "\n",
    "## **PACE: Construct**\n",
    "Consider the questions in your PACE Strategy Document to reflect on the Construct stage."
   ]
  },
  {
   "cell_type": "markdown",
   "metadata": {
    "id": "8i0spBspquCr"
   },
   "source": [
    "### **Task 3: Feature engineering**"
   ]
  },
  {
   "cell_type": "markdown",
   "metadata": {
    "id": "hb_u1c6_T1i-"
   },
   "source": [
    "Extract the length of each `video_transcription_text` and add this as a column to the dataframe, so that it can be used as a potential feature in the model."
   ]
  },
  {
   "cell_type": "code",
   "execution_count": 54,
   "metadata": {
    "id": "8Yr9hhhVHeYY"
   },
   "outputs": [],
   "source": [
    "# Extract the length of each `video_transcription_text` and add this as a column to the dataframe\n",
    "### YOUR CODE HERE ###\n",
    "data['text_length'] = data['video_transcription_text'].apply(lambda x: len(x))"
   ]
  },
  {
   "cell_type": "markdown",
   "metadata": {
    "id": "puP-V85lq06h"
   },
   "source": [
    "Calculate the average text_length for claims and opinions."
   ]
  },
  {
   "cell_type": "code",
   "execution_count": 55,
   "metadata": {
    "id": "Vzg0J8UEJ1wx"
   },
   "outputs": [
    {
     "data": {
      "text/plain": "              text_length\nclaim_status             \nclaim           95.376978\nopinion         82.722562",
      "text/html": "<div>\n<style scoped>\n    .dataframe tbody tr th:only-of-type {\n        vertical-align: middle;\n    }\n\n    .dataframe tbody tr th {\n        vertical-align: top;\n    }\n\n    .dataframe thead th {\n        text-align: right;\n    }\n</style>\n<table border=\"1\" class=\"dataframe\">\n  <thead>\n    <tr style=\"text-align: right;\">\n      <th></th>\n      <th>text_length</th>\n    </tr>\n    <tr>\n      <th>claim_status</th>\n      <th></th>\n    </tr>\n  </thead>\n  <tbody>\n    <tr>\n      <th>claim</th>\n      <td>95.376978</td>\n    </tr>\n    <tr>\n      <th>opinion</th>\n      <td>82.722562</td>\n    </tr>\n  </tbody>\n</table>\n</div>"
     },
     "execution_count": 55,
     "metadata": {},
     "output_type": "execute_result"
    }
   ],
   "source": [
    "# Display first few rows of dataframe after adding new column\n",
    "### YOUR CODE HERE ###\n",
    "avg_text_len = data[['claim_status', 'text_length']].groupby('claim_status').mean()\n",
    "avg_text_len"
   ]
  },
  {
   "cell_type": "markdown",
   "metadata": {
    "id": "LGu7ipi4AJmP"
   },
   "source": [
    "Visualize the distribution of `video_transcription_text` length for claims and opinions."
   ]
  },
  {
   "cell_type": "code",
   "execution_count": 56,
   "metadata": {
    "id": "MSq136S3TIYe"
   },
   "outputs": [
    {
     "data": {
      "text/plain": "<Figure size 640x480 with 1 Axes>",
      "image/png": "[encoded data removed]"
     },
     "metadata": {},
     "output_type": "display_data"
    }
   ],
   "source": [
    "# Visualize the distribution of `video_transcription_text` length for claims and opinions\n",
    "# Create two histograms in one plot\n",
    "### YOUR CODE HERE ###\n",
    "sns.histplot(data, stat=\"count\", multiple=\"dodge\", x=\"text_length\",\n",
    "             kde=False, palette=\"pastel\", hue=\"claim_status\",\n",
    "             element=\"bars\", legend=True)\n",
    "plt.xlabel('Video Transcript Length')\n",
    "plt.ylabel('Count')\n",
    "plt.title('Distribution of Video Transcript Length for Claims and Opinions')\n",
    "plt.show()"
   ]
  },
  {
   "cell_type": "markdown",
   "metadata": {
    "id": "giuSryvUsk2J"
   },
   "source": [
    "Create a heatmap to visualize how correlated variables are. Consider which variables you're interested in examining correlations between."
   ]
  },
  {
   "cell_type": "code",
   "execution_count": 57,
   "metadata": {
    "id": "8Ti_MFF7tekR"
   },
   "outputs": [
    {
     "data": {
      "text/plain": "<AxesSubplot:>"
     },
     "execution_count": 57,
     "metadata": {},
     "output_type": "execute_result"
    },
    {
     "data": {
      "text/plain": "<Figure size 640x480 with 2 Axes>",
      "image/png": "[encoded data removed]"
     },
     "metadata": {},
     "output_type": "display_data"
    }
   ],
   "source": [
    "# Create a heatmap to visualize how correlated variables are\n",
    "### YOUR CODE HERE ###\n",
    "corr = data.corr()\n",
    "sns.heatmap(corr, vmax=.3, center=0, linewidths=.5,cbar_kws={'shrink': 0.5})"
   ]
  },
  {
   "cell_type": "markdown",
   "metadata": {
    "id": "zyQgcrDI00bT"
   },
   "source": [
    "One of the model assumptions for logistic regression is no severe multicollinearity among the features. Take this into consideration as you examine the heatmap and choose which features to proceed with."
   ]
  },
  {
   "cell_type": "markdown",
   "metadata": {
    "id": "3n1eikFh8akS"
   },
   "source": [
    "<img src=\"images/Construct.png\" width=\"100\" height=\"100\" align=left>\n",
    "\n",
    "## **PACE: Construct**\n",
    "Consider the questions in your PACE Strategy Document to reflect on the Construct stage."
   ]
  },
  {
   "cell_type": "markdown",
   "metadata": {
    "id": "5VZowX9rhU1o"
   },
   "source": [
    "### **Task 3. Feature engineering**"
   ]
  },
  {
   "cell_type": "markdown",
   "metadata": {
    "id": "WhocrccZBcwx"
   },
   "source": [
    "Select the outcome variable."
   ]
  },
  {
   "cell_type": "markdown",
   "metadata": {
    "id": "qdb3JshxMnD1"
   },
   "source": [
    "**Feature selection and transformation**"
   ]
  },
  {
   "cell_type": "markdown",
   "metadata": {
    "id": "WPxEovpUBZfk"
   },
   "source": [
    "Encode target and catgorical variables."
   ]
  },
  {
   "cell_type": "code",
   "execution_count": 58,
   "metadata": {
    "id": "iJ5C6M5zCP3k"
   },
   "outputs": [
    {
     "data": {
      "text/plain": "   claim_status  video_duration_sec  \\\n0             1                  59   \n1             1                  32   \n2             1                  31   \n3             1                  25   \n4             1                  19   \n\n                            video_transcription_text  video_view_count  \\\n0  someone shared with me that drone deliveries a...          343296.0   \n1  someone shared with me that there are more mic...          140877.0   \n2  someone shared with me that american industria...          902185.0   \n3  someone shared with me that the metro of st. p...          437506.0   \n4  someone shared with me that the number of busi...           56167.0   \n\n   video_like_count  video_share_count  video_download_count  \\\n0           19425.0              241.0                   1.0   \n1           77355.0            19034.0                1161.0   \n2           97690.0             2858.0                 833.0   \n3          239954.0            34812.0                1234.0   \n4           34987.0             4110.0                 547.0   \n\n   video_comment_count  text_length  verified_status_verified  \\\n0                  0.0           97                         0   \n1                684.0          107                         0   \n2                329.0          137                         0   \n3                584.0          131                         0   \n4                152.0          128                         0   \n\n   author_ban_status_banned  author_ban_status_under review  \n0                         0                               1  \n1                         0                               0  \n2                         0                               0  \n3                         0                               0  \n4                         0                               0  ",
      "text/html": "<div>\n<style scoped>\n    .dataframe tbody tr th:only-of-type {\n        vertical-align: middle;\n    }\n\n    .dataframe tbody tr th {\n        vertical-align: top;\n    }\n\n    .dataframe thead th {\n        text-align: right;\n    }\n</style>\n<table border=\"1\" class=\"dataframe\">\n  <thead>\n    <tr style=\"text-align: right;\">\n      <th></th>\n      <th>claim_status</th>\n      <th>video_duration_sec</th>\n      <th>video_transcription_text</th>\n      <th>video_view_count</th>\n      <th>video_like_count</th>\n      <th>video_share_count</th>\n      <th>video_download_count</th>\n      <th>video_comment_count</th>\n      <th>text_length</th>\n      <th>verified_status_verified</th>\n      <th>author_ban_status_banned</th>\n      <th>author_ban_status_under review</th>\n    </tr>\n  </thead>\n  <tbody>\n    <tr>\n      <th>0</th>\n      <td>1</td>\n      <td>59</td>\n      <td>someone shared with me that drone deliveries a...</td>\n      <td>343296.0</td>\n      <td>19425.0</td>\n      <td>241.0</td>\n      <td>1.0</td>\n      <td>0.0</td>\n      <td>97</td>\n      <td>0</td>\n      <td>0</td>\n      <td>1</td>\n    </tr>\n    <tr>\n      <th>1</th>\n      <td>1</td>\n      <td>32</td>\n      <td>someone shared with me that there are more mic...</td>\n      <td>140877.0</td>\n      <td>77355.0</td>\n      <td>19034.0</td>\n      <td>1161.0</td>\n      <td>684.0</td>\n      <td>107</td>\n      <td>0</td>\n      <td>0</td>\n      <td>0</td>\n    </tr>\n    <tr>\n      <th>2</th>\n      <td>1</td>\n      <td>31</td>\n      <td>someone shared with me that american industria...</td>\n      <td>902185.0</td>\n      <td>97690.0</td>\n      <td>2858.0</td>\n      <td>833.0</td>\n      <td>329.0</td>\n      <td>137</td>\n      <td>0</td>\n      <td>0</td>\n      <td>0</td>\n    </tr>\n    <tr>\n      <th>3</th>\n      <td>1</td>\n      <td>25</td>\n      <td>someone shared with me that the metro of st. p...</td>\n      <td>437506.0</td>\n      <td>239954.0</td>\n      <td>34812.0</td>\n      <td>1234.0</td>\n      <td>584.0</td>\n      <td>131</td>\n      <td>0</td>\n      <td>0</td>\n      <td>0</td>\n    </tr>\n    <tr>\n      <th>4</th>\n      <td>1</td>\n      <td>19</td>\n      <td>someone shared with me that the number of busi...</td>\n      <td>56167.0</td>\n      <td>34987.0</td>\n      <td>4110.0</td>\n      <td>547.0</td>\n      <td>152.0</td>\n      <td>128</td>\n      <td>0</td>\n      <td>0</td>\n      <td>0</td>\n    </tr>\n  </tbody>\n</table>\n</div>"
     },
     "execution_count": 58,
     "metadata": {},
     "output_type": "execute_result"
    }
   ],
   "source": [
    "### YOUR CODE HERE ###\n",
    "df_dum = data.drop(columns=['#', 'video_id'], axis=1)\n",
    "df_dum['claim_status'] = np.where(df_dum['claim_status'] == 'claim', 1, 0)\n",
    "df_dum = pd.get_dummies(df_dum, columns=['verified_status', 'author_ban_status'], drop_first=True)\n",
    "# Display first few rows\n",
    "### YOUR CODE HERE ###\n",
    "df_dum.head()"
   ]
  },
  {
   "cell_type": "markdown",
   "metadata": {
    "id": "zZR2BdQxZQjN"
   },
   "source": [
    "### **Task 4. Split the data**\n"
   ]
  },
  {
   "cell_type": "markdown",
   "metadata": {
    "id": "5tNw9_y9jmY1"
   },
   "source": [
    "Assign target variable."
   ]
  },
  {
   "cell_type": "code",
   "execution_count": 59,
   "metadata": {
    "id": "jKgrew0V6o_3"
   },
   "outputs": [
    {
     "data": {
      "text/plain": "0    1\n1    1\n2    1\n3    1\n4    1\nName: claim_status, dtype: int32"
     },
     "execution_count": 59,
     "metadata": {},
     "output_type": "execute_result"
    }
   ],
   "source": [
    "### YOUR CODE HERE ###\n",
    "y = df_dum['claim_status']\n",
    "y[:5]"
   ]
  },
  {
   "cell_type": "markdown",
   "metadata": {
    "id": "5VlklzoujrAR"
   },
   "source": [
    "Isolate the features."
   ]
  },
  {
   "cell_type": "code",
   "execution_count": 60,
   "outputs": [
    {
     "data": {
      "text/plain": "   video_duration_sec                           video_transcription_text  \\\n0                  59  someone shared with me that drone deliveries a...   \n1                  32  someone shared with me that there are more mic...   \n2                  31  someone shared with me that american industria...   \n3                  25  someone shared with me that the metro of st. p...   \n4                  19  someone shared with me that the number of busi...   \n\n   video_view_count  video_like_count  video_share_count  \\\n0          343296.0           19425.0              241.0   \n1          140877.0           77355.0            19034.0   \n2          902185.0           97690.0             2858.0   \n3          437506.0          239954.0            34812.0   \n4           56167.0           34987.0             4110.0   \n\n   video_download_count  video_comment_count  text_length  \\\n0                   1.0                  0.0           97   \n1                1161.0                684.0          107   \n2                 833.0                329.0          137   \n3                1234.0                584.0          131   \n4                 547.0                152.0          128   \n\n   verified_status_verified  author_ban_status_banned  \\\n0                         0                         0   \n1                         0                         0   \n2                         0                         0   \n3                         0                         0   \n4                         0                         0   \n\n   author_ban_status_under review  \n0                               1  \n1                               0  \n2                               0  \n3                               0  \n4                               0  ",
      "text/html": "<div>\n<style scoped>\n    .dataframe tbody tr th:only-of-type {\n        vertical-align: middle;\n    }\n\n    .dataframe tbody tr th {\n        vertical-align: top;\n    }\n\n    .dataframe thead th {\n        text-align: right;\n    }\n</style>\n<table border=\"1\" class=\"dataframe\">\n  <thead>\n    <tr style=\"text-align: right;\">\n      <th></th>\n      <th>video_duration_sec</th>\n      <th>video_transcription_text</th>\n      <th>video_view_count</th>\n      <th>video_like_count</th>\n      <th>video_share_count</th>\n      <th>video_download_count</th>\n      <th>video_comment_count</th>\n      <th>text_length</th>\n      <th>verified_status_verified</th>\n      <th>author_ban_status_banned</th>\n      <th>author_ban_status_under review</th>\n    </tr>\n  </thead>\n  <tbody>\n    <tr>\n      <th>0</th>\n      <td>59</td>\n      <td>someone shared with me that drone deliveries a...</td>\n      <td>343296.0</td>\n      <td>19425.0</td>\n      <td>241.0</td>\n      <td>1.0</td>\n      <td>0.0</td>\n      <td>97</td>\n      <td>0</td>\n      <td>0</td>\n      <td>1</td>\n    </tr>\n    <tr>\n      <th>1</th>\n      <td>32</td>\n      <td>someone shared with me that there are more mic...</td>\n      <td>140877.0</td>\n      <td>77355.0</td>\n      <td>19034.0</td>\n      <td>1161.0</td>\n      <td>684.0</td>\n      <td>107</td>\n      <td>0</td>\n      <td>0</td>\n      <td>0</td>\n    </tr>\n    <tr>\n      <th>2</th>\n      <td>31</td>\n      <td>someone shared with me that american industria...</td>\n      <td>902185.0</td>\n      <td>97690.0</td>\n      <td>2858.0</td>\n      <td>833.0</td>\n      <td>329.0</td>\n      <td>137</td>\n      <td>0</td>\n      <td>0</td>\n      <td>0</td>\n    </tr>\n    <tr>\n      <th>3</th>\n      <td>25</td>\n      <td>someone shared with me that the metro of st. p...</td>\n      <td>437506.0</td>\n      <td>239954.0</td>\n      <td>34812.0</td>\n      <td>1234.0</td>\n      <td>584.0</td>\n      <td>131</td>\n      <td>0</td>\n      <td>0</td>\n      <td>0</td>\n    </tr>\n    <tr>\n      <th>4</th>\n      <td>19</td>\n      <td>someone shared with me that the number of busi...</td>\n      <td>56167.0</td>\n      <td>34987.0</td>\n      <td>4110.0</td>\n      <td>547.0</td>\n      <td>152.0</td>\n      <td>128</td>\n      <td>0</td>\n      <td>0</td>\n      <td>0</td>\n    </tr>\n  </tbody>\n</table>\n</div>"
     },
     "execution_count": 60,
     "metadata": {},
     "output_type": "execute_result"
    }
   ],
   "source": [
    "#Isolate features\n",
    "### YOUR CODE HERE ###\n",
    "X = df_dum.drop(columns=['claim_status'], axis=1)\n",
    "# Display first few rows of features dataframe\n",
    "### YOUR CODE HERE ###\n",
    "X.head()"
   ],
   "metadata": {
    "collapsed": false
   }
  },
  {
   "cell_type": "markdown",
   "source": [
    "## Tokenizing text column"
   ],
   "metadata": {
    "collapsed": false
   }
  },
  {
   "cell_type": "code",
   "execution_count": 61,
   "outputs": [
    {
     "data": {
      "text/plain": "CountVectorizer(max_features=15, ngram_range=(2, 3), stop_words='english')",
      "text/html": "<style>#sk-container-id-4 {color: black;}#sk-container-id-4 pre{padding: 0;}#sk-container-id-4 div.sk-toggleable {background-color: white;}#sk-container-id-4 label.sk-toggleable__label {cursor: pointer;display: block;width: 100%;margin-bottom: 0;padding: 0.3em;box-sizing: border-box;text-align: center;}#sk-container-id-4 label.sk-toggleable__label-arrow:before {content: \"▸\";float: left;margin-right: 0.25em;color: #696969;}#sk-container-id-4 label.sk-toggleable__label-arrow:hover:before {color: black;}#sk-container-id-4 div.sk-estimator:hover label.sk-toggleable__label-arrow:before {color: black;}#sk-container-id-4 div.sk-toggleable__content {max-height: 0;max-width: 0;overflow: hidden;text-align: left;background-color: #f0f8ff;}#sk-container-id-4 div.sk-toggleable__content pre {margin: 0.2em;color: black;border-radius: 0.25em;background-color: #f0f8ff;}#sk-container-id-4 input.sk-toggleable__control:checked~div.sk-toggleable__content {max-height: 200px;max-width: 100%;overflow: auto;}#sk-container-id-4 input.sk-toggleable__control:checked~label.sk-toggleable__label-arrow:before {content: \"▾\";}#sk-container-id-4 div.sk-estimator input.sk-toggleable__control:checked~label.sk-toggleable__label {background-color: #d4ebff;}#sk-container-id-4 div.sk-label input.sk-toggleable__control:checked~label.sk-toggleable__label {background-color: #d4ebff;}#sk-container-id-4 input.sk-hidden--visually {border: 0;clip: rect(1px 1px 1px 1px);clip: rect(1px, 1px, 1px, 1px);height: 1px;margin: -1px;overflow: hidden;padding: 0;position: absolute;width: 1px;}#sk-container-id-4 div.sk-estimator {font-family: monospace;background-color: #f0f8ff;border: 1px dotted black;border-radius: 0.25em;box-sizing: border-box;margin-bottom: 0.5em;}#sk-container-id-4 div.sk-estimator:hover {background-color: #d4ebff;}#sk-container-id-4 div.sk-parallel-item::after {content: \"\";width: 100%;border-bottom: 1px solid gray;flex-grow: 1;}#sk-container-id-4 div.sk-label:hover label.sk-toggleable__label {background-color: #d4ebff;}#sk-container-id-4 div.sk-serial::before {content: \"\";position: absolute;border-left: 1px solid gray;box-sizing: border-box;top: 0;bottom: 0;left: 50%;z-index: 0;}#sk-container-id-4 div.sk-serial {display: flex;flex-direction: column;align-items: center;background-color: white;padding-right: 0.2em;padding-left: 0.2em;position: relative;}#sk-container-id-4 div.sk-item {position: relative;z-index: 1;}#sk-container-id-4 div.sk-parallel {display: flex;align-items: stretch;justify-content: center;background-color: white;position: relative;}#sk-container-id-4 div.sk-item::before, #sk-container-id-4 div.sk-parallel-item::before {content: \"\";position: absolute;border-left: 1px solid gray;box-sizing: border-box;top: 0;bottom: 0;left: 50%;z-index: -1;}#sk-container-id-4 div.sk-parallel-item {display: flex;flex-direction: column;z-index: 1;position: relative;background-color: white;}#sk-container-id-4 div.sk-parallel-item:first-child::after {align-self: flex-end;width: 50%;}#sk-container-id-4 div.sk-parallel-item:last-child::after {align-self: flex-start;width: 50%;}#sk-container-id-4 div.sk-parallel-item:only-child::after {width: 0;}#sk-container-id-4 div.sk-dashed-wrapped {border: 1px dashed gray;margin: 0 0.4em 0.5em 0.4em;box-sizing: border-box;padding-bottom: 0.4em;background-color: white;}#sk-container-id-4 div.sk-label label {font-family: monospace;font-weight: bold;display: inline-block;line-height: 1.2em;}#sk-container-id-4 div.sk-label-container {text-align: center;}#sk-container-id-4 div.sk-container {/* jupyter's `normalize.less` sets `[hidden] { display: none; }` but bootstrap.min.css set `[hidden] { display: none !important; }` so we also need the `!important` here to be able to override the default hidden behavior on the sphinx rendered scikit-learn.org. See: https://github.com/scikit-learn/scikit-learn/issues/21755 */display: inline-block !important;position: relative;}#sk-container-id-4 div.sk-text-repr-fallback {display: none;}</style><div id=\"sk-container-id-4\" class=\"sk-top-container\"><div class=\"sk-text-repr-fallback\"><pre>CountVectorizer(max_features=15, ngram_range=(2, 3), stop_words=&#x27;english&#x27;)</pre><b>In a Jupyter environment, please rerun this cell to show the HTML representation or trust the notebook. <br />On GitHub, the HTML representation is unable to render, please try loading this page with nbviewer.org.</b></div><div class=\"sk-container\" hidden><div class=\"sk-item\"><div class=\"sk-estimator sk-toggleable\"><input class=\"sk-toggleable__control sk-hidden--visually\" id=\"sk-estimator-id-8\" type=\"checkbox\" checked><label for=\"sk-estimator-id-8\" class=\"sk-toggleable__label sk-toggleable__label-arrow\">CountVectorizer</label><div class=\"sk-toggleable__content\"><pre>CountVectorizer(max_features=15, ngram_range=(2, 3), stop_words=&#x27;english&#x27;)</pre></div></div></div></div></div>"
     },
     "execution_count": 61,
     "metadata": {},
     "output_type": "execute_result"
    }
   ],
   "source": [
    "count_vec = CountVectorizer(ngram_range=(2, 3),\n",
    "                            max_features=15,\n",
    "                            stop_words='english')\n",
    "count_vec"
   ],
   "metadata": {
    "collapsed": false
   }
  },
  {
   "cell_type": "code",
   "execution_count": 62,
   "outputs": [
    {
     "data": {
      "text/plain": "array([[0, 0, 0, 0, 0, 0, 0, 0, 0, 0, 0, 0, 0, 0, 0],\n       [0, 0, 0, 0, 0, 0, 0, 0, 0, 0, 0, 0, 0, 0, 0],\n       [0, 0, 0, 0, 0, 0, 0, 0, 0, 0, 0, 0, 0, 0, 0],\n       [0, 0, 0, 0, 0, 0, 0, 0, 0, 0, 0, 0, 0, 0, 0],\n       [0, 0, 0, 0, 0, 0, 0, 0, 0, 0, 0, 0, 0, 0, 0]], dtype=int64)"
     },
     "execution_count": 62,
     "metadata": {},
     "output_type": "execute_result"
    }
   ],
   "source": [
    "count_data = count_vec.fit_transform(X['video_transcription_text']).toarray()\n",
    "count_data[:5]"
   ],
   "metadata": {
    "collapsed": false
   }
  },
  {
   "cell_type": "code",
   "execution_count": 63,
   "outputs": [
    {
     "data": {
      "text/plain": "   colleague discovered  colleague learned  colleague read  discussion board  \\\n0                     0                  0               0                 0   \n1                     0                  0               0                 0   \n2                     0                  0               0                 0   \n3                     0                  0               0                 0   \n4                     0                  0               0                 0   \n\n   friend learned  friend read  internet forum  learned media  learned news  \\\n0               0            0               0              0             0   \n1               0            0               0              0             0   \n2               0            0               0              0             0   \n3               0            0               0              0             0   \n4               0            0               0              0             0   \n\n   media claim  news claim  point view  read media  social media  \\\n0            0           0           0           0             0   \n1            0           0           0           0             0   \n2            0           0           0           0             0   \n3            0           0           0           0             0   \n4            0           0           0           0             0   \n\n   willing wager  \n0              0  \n1              0  \n2              0  \n3              0  \n4              0  ",
      "text/html": "<div>\n<style scoped>\n    .dataframe tbody tr th:only-of-type {\n        vertical-align: middle;\n    }\n\n    .dataframe tbody tr th {\n        vertical-align: top;\n    }\n\n    .dataframe thead th {\n        text-align: right;\n    }\n</style>\n<table border=\"1\" class=\"dataframe\">\n  <thead>\n    <tr style=\"text-align: right;\">\n      <th></th>\n      <th>colleague discovered</th>\n      <th>colleague learned</th>\n      <th>colleague read</th>\n      <th>discussion board</th>\n      <th>friend learned</th>\n      <th>friend read</th>\n      <th>internet forum</th>\n      <th>learned media</th>\n      <th>learned news</th>\n      <th>media claim</th>\n      <th>news claim</th>\n      <th>point view</th>\n      <th>read media</th>\n      <th>social media</th>\n      <th>willing wager</th>\n    </tr>\n  </thead>\n  <tbody>\n    <tr>\n      <th>0</th>\n      <td>0</td>\n      <td>0</td>\n      <td>0</td>\n      <td>0</td>\n      <td>0</td>\n      <td>0</td>\n      <td>0</td>\n      <td>0</td>\n      <td>0</td>\n      <td>0</td>\n      <td>0</td>\n      <td>0</td>\n      <td>0</td>\n      <td>0</td>\n      <td>0</td>\n    </tr>\n    <tr>\n      <th>1</th>\n      <td>0</td>\n      <td>0</td>\n      <td>0</td>\n      <td>0</td>\n      <td>0</td>\n      <td>0</td>\n      <td>0</td>\n      <td>0</td>\n      <td>0</td>\n      <td>0</td>\n      <td>0</td>\n      <td>0</td>\n      <td>0</td>\n      <td>0</td>\n      <td>0</td>\n    </tr>\n    <tr>\n      <th>2</th>\n      <td>0</td>\n      <td>0</td>\n      <td>0</td>\n      <td>0</td>\n      <td>0</td>\n      <td>0</td>\n      <td>0</td>\n      <td>0</td>\n      <td>0</td>\n      <td>0</td>\n      <td>0</td>\n      <td>0</td>\n      <td>0</td>\n      <td>0</td>\n      <td>0</td>\n    </tr>\n    <tr>\n      <th>3</th>\n      <td>0</td>\n      <td>0</td>\n      <td>0</td>\n      <td>0</td>\n      <td>0</td>\n      <td>0</td>\n      <td>0</td>\n      <td>0</td>\n      <td>0</td>\n      <td>0</td>\n      <td>0</td>\n      <td>0</td>\n      <td>0</td>\n      <td>0</td>\n      <td>0</td>\n    </tr>\n    <tr>\n      <th>4</th>\n      <td>0</td>\n      <td>0</td>\n      <td>0</td>\n      <td>0</td>\n      <td>0</td>\n      <td>0</td>\n      <td>0</td>\n      <td>0</td>\n      <td>0</td>\n      <td>0</td>\n      <td>0</td>\n      <td>0</td>\n      <td>0</td>\n      <td>0</td>\n      <td>0</td>\n    </tr>\n  </tbody>\n</table>\n</div>"
     },
     "execution_count": 63,
     "metadata": {},
     "output_type": "execute_result"
    }
   ],
   "source": [
    "count_df = pd.DataFrame(count_data, columns=count_vec.get_feature_names_out())\n",
    "count_df.head()"
   ],
   "metadata": {
    "collapsed": false
   }
  },
  {
   "cell_type": "code",
   "execution_count": 64,
   "outputs": [
    {
     "data": {
      "text/plain": "   video_duration_sec  video_view_count  video_like_count  video_share_count  \\\n0                  59          343296.0           19425.0              241.0   \n1                  32          140877.0           77355.0            19034.0   \n2                  31          902185.0           97690.0             2858.0   \n3                  25          437506.0          239954.0            34812.0   \n4                  19           56167.0           34987.0             4110.0   \n\n   video_download_count  video_comment_count  text_length  \\\n0                   1.0                  0.0           97   \n1                1161.0                684.0          107   \n2                 833.0                329.0          137   \n3                1234.0                584.0          131   \n4                 547.0                152.0          128   \n\n   verified_status_verified  author_ban_status_banned  \\\n0                         0                         0   \n1                         0                         0   \n2                         0                         0   \n3                         0                         0   \n4                         0                         0   \n\n   author_ban_status_under review  ...  friend read  internet forum  \\\n0                               1  ...            0               0   \n1                               0  ...            0               0   \n2                               0  ...            0               0   \n3                               0  ...            0               0   \n4                               0  ...            0               0   \n\n   learned media  learned news  media claim  news claim  point view  \\\n0              0             0            0           0           0   \n1              0             0            0           0           0   \n2              0             0            0           0           0   \n3              0             0            0           0           0   \n4              0             0            0           0           0   \n\n   read media  social media  willing wager  \n0           0             0              0  \n1           0             0              0  \n2           0             0              0  \n3           0             0              0  \n4           0             0              0  \n\n[5 rows x 25 columns]",
      "text/html": "<div>\n<style scoped>\n    .dataframe tbody tr th:only-of-type {\n        vertical-align: middle;\n    }\n\n    .dataframe tbody tr th {\n        vertical-align: top;\n    }\n\n    .dataframe thead th {\n        text-align: right;\n    }\n</style>\n<table border=\"1\" class=\"dataframe\">\n  <thead>\n    <tr style=\"text-align: right;\">\n      <th></th>\n      <th>video_duration_sec</th>\n      <th>video_view_count</th>\n      <th>video_like_count</th>\n      <th>video_share_count</th>\n      <th>video_download_count</th>\n      <th>video_comment_count</th>\n      <th>text_length</th>\n      <th>verified_status_verified</th>\n      <th>author_ban_status_banned</th>\n      <th>author_ban_status_under review</th>\n      <th>...</th>\n      <th>friend read</th>\n      <th>internet forum</th>\n      <th>learned media</th>\n      <th>learned news</th>\n      <th>media claim</th>\n      <th>news claim</th>\n      <th>point view</th>\n      <th>read media</th>\n      <th>social media</th>\n      <th>willing wager</th>\n    </tr>\n  </thead>\n  <tbody>\n    <tr>\n      <th>0</th>\n      <td>59</td>\n      <td>343296.0</td>\n      <td>19425.0</td>\n      <td>241.0</td>\n      <td>1.0</td>\n      <td>0.0</td>\n      <td>97</td>\n      <td>0</td>\n      <td>0</td>\n      <td>1</td>\n      <td>...</td>\n      <td>0</td>\n      <td>0</td>\n      <td>0</td>\n      <td>0</td>\n      <td>0</td>\n      <td>0</td>\n      <td>0</td>\n      <td>0</td>\n      <td>0</td>\n      <td>0</td>\n    </tr>\n    <tr>\n      <th>1</th>\n      <td>32</td>\n      <td>140877.0</td>\n      <td>77355.0</td>\n      <td>19034.0</td>\n      <td>1161.0</td>\n      <td>684.0</td>\n      <td>107</td>\n      <td>0</td>\n      <td>0</td>\n      <td>0</td>\n      <td>...</td>\n      <td>0</td>\n      <td>0</td>\n      <td>0</td>\n      <td>0</td>\n      <td>0</td>\n      <td>0</td>\n      <td>0</td>\n      <td>0</td>\n      <td>0</td>\n      <td>0</td>\n    </tr>\n    <tr>\n      <th>2</th>\n      <td>31</td>\n      <td>902185.0</td>\n      <td>97690.0</td>\n      <td>2858.0</td>\n      <td>833.0</td>\n      <td>329.0</td>\n      <td>137</td>\n      <td>0</td>\n      <td>0</td>\n      <td>0</td>\n      <td>...</td>\n      <td>0</td>\n      <td>0</td>\n      <td>0</td>\n      <td>0</td>\n      <td>0</td>\n      <td>0</td>\n      <td>0</td>\n      <td>0</td>\n      <td>0</td>\n      <td>0</td>\n    </tr>\n    <tr>\n      <th>3</th>\n      <td>25</td>\n      <td>437506.0</td>\n      <td>239954.0</td>\n      <td>34812.0</td>\n      <td>1234.0</td>\n      <td>584.0</td>\n      <td>131</td>\n      <td>0</td>\n      <td>0</td>\n      <td>0</td>\n      <td>...</td>\n      <td>0</td>\n      <td>0</td>\n      <td>0</td>\n      <td>0</td>\n      <td>0</td>\n      <td>0</td>\n      <td>0</td>\n      <td>0</td>\n      <td>0</td>\n      <td>0</td>\n    </tr>\n    <tr>\n      <th>4</th>\n      <td>19</td>\n      <td>56167.0</td>\n      <td>34987.0</td>\n      <td>4110.0</td>\n      <td>547.0</td>\n      <td>152.0</td>\n      <td>128</td>\n      <td>0</td>\n      <td>0</td>\n      <td>0</td>\n      <td>...</td>\n      <td>0</td>\n      <td>0</td>\n      <td>0</td>\n      <td>0</td>\n      <td>0</td>\n      <td>0</td>\n      <td>0</td>\n      <td>0</td>\n      <td>0</td>\n      <td>0</td>\n    </tr>\n  </tbody>\n</table>\n<p>5 rows × 25 columns</p>\n</div>"
     },
     "execution_count": 64,
     "metadata": {},
     "output_type": "execute_result"
    }
   ],
   "source": [
    "X_final = pd.concat([X.drop(columns=['video_transcription_text']).reset_index(drop=True), count_df], axis=1)\n",
    "X_final.head()"
   ],
   "metadata": {
    "collapsed": false
   }
  },
  {
   "cell_type": "markdown",
   "source": [
    "#### **Task 5: Create train/validate/test sets**"
   ],
   "metadata": {
    "collapsed": false
   }
  },
  {
   "cell_type": "markdown",
   "source": [
    "Split data into training and testing sets, 80/20."
   ],
   "metadata": {
    "collapsed": false
   }
  },
  {
   "cell_type": "code",
   "execution_count": 65,
   "outputs": [],
   "source": [
    "### YOUR CODE HERE ###\n",
    "X_train, X_test, y_train, y_test = train_test_split(X_final, y, test_size=0.2, random_state=0)"
   ],
   "metadata": {
    "collapsed": false
   }
  },
  {
   "cell_type": "markdown",
   "source": [
    "Split the training set into training and validation sets, 75/25, to result in a final ratio of 60/20/20 for train/validate/test sets."
   ],
   "metadata": {
    "collapsed": false
   }
  },
  {
   "cell_type": "code",
   "execution_count": 66,
   "outputs": [],
   "source": [
    "### YOUR CODE HERE ###\n",
    "X_tr, X_val, y_tr, y_val = train_test_split(X_train, y_train, test_size=0.25, random_state=0)"
   ],
   "metadata": {
    "collapsed": false
   }
  },
  {
   "cell_type": "markdown",
   "source": [
    "Confirm that the dimensions of the training, validation, and testing sets are in alignment."
   ],
   "metadata": {
    "collapsed": false
   }
  },
  {
   "cell_type": "code",
   "execution_count": 67,
   "outputs": [
    {
     "name": "stdout",
     "output_type": "stream",
     "text": [
      "(15267, 25) (3817, 25) (3817, 25) (15267,) (3817,) (3817,)\n"
     ]
    }
   ],
   "source": [
    "\n",
    "### YOUR CODE HERE ###\n",
    "print(X_train.shape, X_val.shape, X_test.shape, y_train.shape, y_val.shape, y_test.shape)"
   ],
   "metadata": {
    "collapsed": false
   }
  },
  {
   "cell_type": "markdown",
   "metadata": {
    "id": "3_es-Jh1atUz"
   },
   "source": [
    "### **Task 6. Build models**\n"
   ]
  },
  {
   "cell_type": "markdown",
   "metadata": {
    "id": "HdBwwccoP0SU"
   },
   "source": [
    "### **Build a random forest model**"
   ]
  },
  {
   "cell_type": "markdown",
   "metadata": {
    "id": "ty8ieBkDBH4g"
   },
   "source": [
    "Fit a random forest model to the training set. Use cross-validation to tune the hyperparameters and select the model that performs best on recall."
   ]
  },
  {
   "cell_type": "code",
   "execution_count": 68,
   "metadata": {
    "id": "sNcke2SNvZrN"
   },
   "outputs": [],
   "source": [
    "# Instantiate the random forest classifier\n",
    "### YOUR CODE HERE ###\n",
    "rf = RandomForestClassifier()\n",
    "# Create a dictionary of hyperparameters to tune\n",
    "### YOUR CODE HERE ###\n",
    "params = {\n",
    "    'max_depth': [5, 7, None],\n",
    "    'max_features': [0.3, 0.6],\n",
    "    'max_samples': [0.7],\n",
    "    'min_samples_leaf': [1,2],\n",
    "    'min_samples_split': [2,3],\n",
    "    'n_estimators': [75,100,200],\n",
    "}\n",
    "\n",
    "# Define a dictionary of scoring metrics to capture\n",
    "### YOUR CODE HERE ###\n",
    "scoring = ['accuracy', 'precision', 'recall', 'f1']\n",
    "# Instantiate the GridSearchCV object\n",
    "### YOUR CODE HERE ###\n",
    "rf_cv = GridSearchCV(rf, param_grid=params, scoring=scoring, cv=5, refit='recall', n_jobs=-1)"
   ]
  },
  {
   "cell_type": "code",
   "execution_count": 69,
   "metadata": {
    "id": "ZG3B_POzPh1s"
   },
   "outputs": [
    {
     "name": "stdout",
     "output_type": "stream",
     "text": [
      "Wall time: 1min 25s\n"
     ]
    },
    {
     "data": {
      "text/plain": "GridSearchCV(cv=5, estimator=RandomForestClassifier(), n_jobs=-1,\n             param_grid={'max_depth': [5, 7, None], 'max_features': [0.3, 0.6],\n                         'max_samples': [0.7], 'min_samples_leaf': [1, 2],\n                         'min_samples_split': [2, 3],\n                         'n_estimators': [75, 100, 200]},\n             refit='recall', scoring=['accuracy', 'precision', 'recall', 'f1'])",
      "text/html": "<style>#sk-container-id-5 {color: black;}#sk-container-id-5 pre{padding: 0;}#sk-container-id-5 div.sk-toggleable {background-color: white;}#sk-container-id-5 label.sk-toggleable__label {cursor: pointer;display: block;width: 100%;margin-bottom: 0;padding: 0.3em;box-sizing: border-box;text-align: center;}#sk-container-id-5 label.sk-toggleable__label-arrow:before {content: \"▸\";float: left;margin-right: 0.25em;color: #696969;}#sk-container-id-5 label.sk-toggleable__label-arrow:hover:before {color: black;}#sk-container-id-5 div.sk-estimator:hover label.sk-toggleable__label-arrow:before {color: black;}#sk-container-id-5 div.sk-toggleable__content {max-height: 0;max-width: 0;overflow: hidden;text-align: left;background-color: #f0f8ff;}#sk-container-id-5 div.sk-toggleable__content pre {margin: 0.2em;color: black;border-radius: 0.25em;background-color: #f0f8ff;}#sk-container-id-5 input.sk-toggleable__control:checked~div.sk-toggleable__content {max-height: 200px;max-width: 100%;overflow: auto;}#sk-container-id-5 input.sk-toggleable__control:checked~label.sk-toggleable__label-arrow:before {content: \"▾\";}#sk-container-id-5 div.sk-estimator input.sk-toggleable__control:checked~label.sk-toggleable__label {background-color: #d4ebff;}#sk-container-id-5 div.sk-label input.sk-toggleable__control:checked~label.sk-toggleable__label {background-color: #d4ebff;}#sk-container-id-5 input.sk-hidden--visually {border: 0;clip: rect(1px 1px 1px 1px);clip: rect(1px, 1px, 1px, 1px);height: 1px;margin: -1px;overflow: hidden;padding: 0;position: absolute;width: 1px;}#sk-container-id-5 div.sk-estimator {font-family: monospace;background-color: #f0f8ff;border: 1px dotted black;border-radius: 0.25em;box-sizing: border-box;margin-bottom: 0.5em;}#sk-container-id-5 div.sk-estimator:hover {background-color: #d4ebff;}#sk-container-id-5 div.sk-parallel-item::after {content: \"\";width: 100%;border-bottom: 1px solid gray;flex-grow: 1;}#sk-container-id-5 div.sk-label:hover label.sk-toggleable__label {background-color: #d4ebff;}#sk-container-id-5 div.sk-serial::before {content: \"\";position: absolute;border-left: 1px solid gray;box-sizing: border-box;top: 0;bottom: 0;left: 50%;z-index: 0;}#sk-container-id-5 div.sk-serial {display: flex;flex-direction: column;align-items: center;background-color: white;padding-right: 0.2em;padding-left: 0.2em;position: relative;}#sk-container-id-5 div.sk-item {position: relative;z-index: 1;}#sk-container-id-5 div.sk-parallel {display: flex;align-items: stretch;justify-content: center;background-color: white;position: relative;}#sk-container-id-5 div.sk-item::before, #sk-container-id-5 div.sk-parallel-item::before {content: \"\";position: absolute;border-left: 1px solid gray;box-sizing: border-box;top: 0;bottom: 0;left: 50%;z-index: -1;}#sk-container-id-5 div.sk-parallel-item {display: flex;flex-direction: column;z-index: 1;position: relative;background-color: white;}#sk-container-id-5 div.sk-parallel-item:first-child::after {align-self: flex-end;width: 50%;}#sk-container-id-5 div.sk-parallel-item:last-child::after {align-self: flex-start;width: 50%;}#sk-container-id-5 div.sk-parallel-item:only-child::after {width: 0;}#sk-container-id-5 div.sk-dashed-wrapped {border: 1px dashed gray;margin: 0 0.4em 0.5em 0.4em;box-sizing: border-box;padding-bottom: 0.4em;background-color: white;}#sk-container-id-5 div.sk-label label {font-family: monospace;font-weight: bold;display: inline-block;line-height: 1.2em;}#sk-container-id-5 div.sk-label-container {text-align: center;}#sk-container-id-5 div.sk-container {/* jupyter's `normalize.less` sets `[hidden] { display: none; }` but bootstrap.min.css set `[hidden] { display: none !important; }` so we also need the `!important` here to be able to override the default hidden behavior on the sphinx rendered scikit-learn.org. See: https://github.com/scikit-learn/scikit-learn/issues/21755 */display: inline-block !important;position: relative;}#sk-container-id-5 div.sk-text-repr-fallback {display: none;}</style><div id=\"sk-container-id-5\" class=\"sk-top-container\"><div class=\"sk-text-repr-fallback\"><pre>GridSearchCV(cv=5, estimator=RandomForestClassifier(), n_jobs=-1,\n             param_grid={&#x27;max_depth&#x27;: [5, 7, None], &#x27;max_features&#x27;: [0.3, 0.6],\n                         &#x27;max_samples&#x27;: [0.7], &#x27;min_samples_leaf&#x27;: [1, 2],\n                         &#x27;min_samples_split&#x27;: [2, 3],\n                         &#x27;n_estimators&#x27;: [75, 100, 200]},\n             refit=&#x27;recall&#x27;, scoring=[&#x27;accuracy&#x27;, &#x27;precision&#x27;, &#x27;recall&#x27;, &#x27;f1&#x27;])</pre><b>In a Jupyter environment, please rerun this cell to show the HTML representation or trust the notebook. <br />On GitHub, the HTML representation is unable to render, please try loading this page with nbviewer.org.</b></div><div class=\"sk-container\" hidden><div class=\"sk-item sk-dashed-wrapped\"><div class=\"sk-label-container\"><div class=\"sk-label sk-toggleable\"><input class=\"sk-toggleable__control sk-hidden--visually\" id=\"sk-estimator-id-9\" type=\"checkbox\" ><label for=\"sk-estimator-id-9\" class=\"sk-toggleable__label sk-toggleable__label-arrow\">GridSearchCV</label><div class=\"sk-toggleable__content\"><pre>GridSearchCV(cv=5, estimator=RandomForestClassifier(), n_jobs=-1,\n             param_grid={&#x27;max_depth&#x27;: [5, 7, None], &#x27;max_features&#x27;: [0.3, 0.6],\n                         &#x27;max_samples&#x27;: [0.7], &#x27;min_samples_leaf&#x27;: [1, 2],\n                         &#x27;min_samples_split&#x27;: [2, 3],\n                         &#x27;n_estimators&#x27;: [75, 100, 200]},\n             refit=&#x27;recall&#x27;, scoring=[&#x27;accuracy&#x27;, &#x27;precision&#x27;, &#x27;recall&#x27;, &#x27;f1&#x27;])</pre></div></div></div><div class=\"sk-parallel\"><div class=\"sk-parallel-item\"><div class=\"sk-item\"><div class=\"sk-label-container\"><div class=\"sk-label sk-toggleable\"><input class=\"sk-toggleable__control sk-hidden--visually\" id=\"sk-estimator-id-10\" type=\"checkbox\" ><label for=\"sk-estimator-id-10\" class=\"sk-toggleable__label sk-toggleable__label-arrow\">estimator: RandomForestClassifier</label><div class=\"sk-toggleable__content\"><pre>RandomForestClassifier()</pre></div></div></div><div class=\"sk-serial\"><div class=\"sk-item\"><div class=\"sk-estimator sk-toggleable\"><input class=\"sk-toggleable__control sk-hidden--visually\" id=\"sk-estimator-id-11\" type=\"checkbox\" ><label for=\"sk-estimator-id-11\" class=\"sk-toggleable__label sk-toggleable__label-arrow\">RandomForestClassifier</label><div class=\"sk-toggleable__content\"><pre>RandomForestClassifier()</pre></div></div></div></div></div></div></div></div></div></div>"
     },
     "execution_count": 69,
     "metadata": {},
     "output_type": "execute_result"
    }
   ],
   "source": [
    "%%time\n",
    "# Examine best recall score\n",
    "### YOUR CODE HERE ###\n",
    "rf_cv.fit(X_train, y_train)"
   ]
  },
  {
   "cell_type": "code",
   "execution_count": 70,
   "outputs": [
    {
     "data": {
      "text/plain": "0.9955953512268343"
     },
     "execution_count": 70,
     "metadata": {},
     "output_type": "execute_result"
    }
   ],
   "source": [
    "rf_cv.best_score_"
   ],
   "metadata": {
    "collapsed": false
   }
  },
  {
   "cell_type": "code",
   "execution_count": 71,
   "metadata": {
    "id": "-qzIDhk-Pq62"
   },
   "outputs": [
    {
     "data": {
      "text/plain": "{'max_depth': None,\n 'max_features': 0.3,\n 'max_samples': 0.7,\n 'min_samples_leaf': 1,\n 'min_samples_split': 3,\n 'n_estimators': 75}"
     },
     "execution_count": 71,
     "metadata": {},
     "output_type": "execute_result"
    }
   ],
   "source": [
    "# Examine best parameters\n",
    "### YOUR CODE HERE ###\n",
    "rf_cv.best_params_"
   ]
  },
  {
   "cell_type": "code",
   "execution_count": 72,
   "outputs": [
    {
     "data": {
      "text/plain": "   Accuracy  Precision    Recall      F1\n0   0.99869        1.0  0.997403  0.9987",
      "text/html": "<div>\n<style scoped>\n    .dataframe tbody tr th:only-of-type {\n        vertical-align: middle;\n    }\n\n    .dataframe tbody tr th {\n        vertical-align: top;\n    }\n\n    .dataframe thead th {\n        text-align: right;\n    }\n</style>\n<table border=\"1\" class=\"dataframe\">\n  <thead>\n    <tr style=\"text-align: right;\">\n      <th></th>\n      <th>Accuracy</th>\n      <th>Precision</th>\n      <th>Recall</th>\n      <th>F1</th>\n    </tr>\n  </thead>\n  <tbody>\n    <tr>\n      <th>0</th>\n      <td>0.99869</td>\n      <td>1.0</td>\n      <td>0.997403</td>\n      <td>0.9987</td>\n    </tr>\n  </tbody>\n</table>\n</div>"
     },
     "execution_count": 72,
     "metadata": {},
     "output_type": "execute_result"
    }
   ],
   "source": [
    "  # Get all the results from the CV and put them in a df\n",
    "### YOUR CODE HERE ###\n",
    "rf_y_pred = rf_cv.best_estimator_.predict(X_val)\n",
    "rf_accuracy = accuracy_score(y_val,rf_y_pred)\n",
    "rf_precision = precision_score(y_val, rf_y_pred)\n",
    "rf_recall = recall_score(y_val, rf_y_pred)\n",
    "rf_f1 = f1_score(y_val, rf_y_pred)\n",
    "\n",
    "rf_frame = {'Accuracy':rf_accuracy, 'Precision':rf_precision, 'Recall':rf_recall, 'F1':rf_f1}\n",
    "  # Isolate the row of the df with the max(mean precision score)\n",
    "### YOUR CODE HERE ###\n",
    "rf_scores = pd.DataFrame(rf_frame, index=[0])\n",
    "rf_scores"
   ],
   "metadata": {
    "collapsed": false
   }
  },
  {
   "cell_type": "markdown",
   "metadata": {
    "id": "Sk2udvx9v3wt"
   },
   "source": [
    "**Question:** How well is your model performing? Consider average recall score and precision score."
   ]
  },
  {
   "cell_type": "markdown",
   "source": [
    "The Random Forest model performed exceptionally well with an accuracy of 99% and an F1 score of 99%."
   ],
   "metadata": {
    "collapsed": false
   }
  },
  {
   "cell_type": "markdown",
   "metadata": {
    "id": "JbdcI-94QNYL"
   },
   "source": [
    "### **Build an XGBoost model**"
   ]
  },
  {
   "cell_type": "code",
   "execution_count": 73,
   "metadata": {
    "id": "A8vLZ_x_QPpF"
   },
   "outputs": [],
   "source": [
    "# Instantiate the XGBoost classifier\n",
    "### YOUR CODE HERE ###\n",
    "xgb = XGBClassifier(objective='binary:logistic', random_state=0)\n",
    "# Create a dictionary of hyperparameters to tune\n",
    "### YOUR CODE HERE ###\n",
    "xgb_params = {'max_depth': [4,8,12],\n",
    "             'min_child_weight': [3, 5],\n",
    "             'learning_rate': [0.01, 0.1],\n",
    "             'n_estimators': [300, 500]\n",
    "             }\n",
    "# Define a dictionary of scoring metrics to capture\n",
    "### YOUR CODE HERE ###\n",
    "scoring = ['accuracy', 'precision', 'recall', 'f1']\n",
    "# Instantiate the GridSearchCV object\n",
    "### YOUR CODE HERE ###\n",
    "xgb_cv = GridSearchCV(xgb, param_grid=xgb_params, scoring=scoring, cv=5, refit='recall',n_jobs=-1)"
   ]
  },
  {
   "cell_type": "code",
   "execution_count": 74,
   "outputs": [
    {
     "name": "stdout",
     "output_type": "stream",
     "text": [
      "Wall time: 1min 24s\n"
     ]
    },
    {
     "data": {
      "text/plain": "GridSearchCV(cv=5,\n             estimator=XGBClassifier(base_score=None, booster=None,\n                                     callbacks=None, colsample_bylevel=None,\n                                     colsample_bynode=None,\n                                     colsample_bytree=None,\n                                     early_stopping_rounds=None,\n                                     enable_categorical=False, eval_metric=None,\n                                     feature_types=None, gamma=None,\n                                     gpu_id=None, grow_policy=None,\n                                     importance_type=None,\n                                     interaction_constraints=None,\n                                     learning_rate=None,...\n                                     max_delta_step=None, max_depth=None,\n                                     max_leaves=None, min_child_weight=None,\n                                     missing=nan, monotone_constraints=None,\n                                     n_estimators=100, n_jobs=None,\n                                     num_parallel_tree=None, predictor=None,\n                                     random_state=0, ...),\n             n_jobs=-1,\n             param_grid={'learning_rate': [0.01, 0.1], 'max_depth': [4, 8, 12],\n                         'min_child_weight': [3, 5],\n                         'n_estimators': [300, 500]},\n             refit='recall', scoring=['accuracy', 'precision', 'recall', 'f1'])",
      "text/html": "<style>#sk-container-id-6 {color: black;}#sk-container-id-6 pre{padding: 0;}#sk-container-id-6 div.sk-toggleable {background-color: white;}#sk-container-id-6 label.sk-toggleable__label {cursor: pointer;display: block;width: 100%;margin-bottom: 0;padding: 0.3em;box-sizing: border-box;text-align: center;}#sk-container-id-6 label.sk-toggleable__label-arrow:before {content: \"▸\";float: left;margin-right: 0.25em;color: #696969;}#sk-container-id-6 label.sk-toggleable__label-arrow:hover:before {color: black;}#sk-container-id-6 div.sk-estimator:hover label.sk-toggleable__label-arrow:before {color: black;}#sk-container-id-6 div.sk-toggleable__content {max-height: 0;max-width: 0;overflow: hidden;text-align: left;background-color: #f0f8ff;}#sk-container-id-6 div.sk-toggleable__content pre {margin: 0.2em;color: black;border-radius: 0.25em;background-color: #f0f8ff;}#sk-container-id-6 input.sk-toggleable__control:checked~div.sk-toggleable__content {max-height: 200px;max-width: 100%;overflow: auto;}#sk-container-id-6 input.sk-toggleable__control:checked~label.sk-toggleable__label-arrow:before {content: \"▾\";}#sk-container-id-6 div.sk-estimator input.sk-toggleable__control:checked~label.sk-toggleable__label {background-color: #d4ebff;}#sk-container-id-6 div.sk-label input.sk-toggleable__control:checked~label.sk-toggleable__label {background-color: #d4ebff;}#sk-container-id-6 input.sk-hidden--visually {border: 0;clip: rect(1px 1px 1px 1px);clip: rect(1px, 1px, 1px, 1px);height: 1px;margin: -1px;overflow: hidden;padding: 0;position: absolute;width: 1px;}#sk-container-id-6 div.sk-estimator {font-family: monospace;background-color: #f0f8ff;border: 1px dotted black;border-radius: 0.25em;box-sizing: border-box;margin-bottom: 0.5em;}#sk-container-id-6 div.sk-estimator:hover {background-color: #d4ebff;}#sk-container-id-6 div.sk-parallel-item::after {content: \"\";width: 100%;border-bottom: 1px solid gray;flex-grow: 1;}#sk-container-id-6 div.sk-label:hover label.sk-toggleable__label {background-color: #d4ebff;}#sk-container-id-6 div.sk-serial::before {content: \"\";position: absolute;border-left: 1px solid gray;box-sizing: border-box;top: 0;bottom: 0;left: 50%;z-index: 0;}#sk-container-id-6 div.sk-serial {display: flex;flex-direction: column;align-items: center;background-color: white;padding-right: 0.2em;padding-left: 0.2em;position: relative;}#sk-container-id-6 div.sk-item {position: relative;z-index: 1;}#sk-container-id-6 div.sk-parallel {display: flex;align-items: stretch;justify-content: center;background-color: white;position: relative;}#sk-container-id-6 div.sk-item::before, #sk-container-id-6 div.sk-parallel-item::before {content: \"\";position: absolute;border-left: 1px solid gray;box-sizing: border-box;top: 0;bottom: 0;left: 50%;z-index: -1;}#sk-container-id-6 div.sk-parallel-item {display: flex;flex-direction: column;z-index: 1;position: relative;background-color: white;}#sk-container-id-6 div.sk-parallel-item:first-child::after {align-self: flex-end;width: 50%;}#sk-container-id-6 div.sk-parallel-item:last-child::after {align-self: flex-start;width: 50%;}#sk-container-id-6 div.sk-parallel-item:only-child::after {width: 0;}#sk-container-id-6 div.sk-dashed-wrapped {border: 1px dashed gray;margin: 0 0.4em 0.5em 0.4em;box-sizing: border-box;padding-bottom: 0.4em;background-color: white;}#sk-container-id-6 div.sk-label label {font-family: monospace;font-weight: bold;display: inline-block;line-height: 1.2em;}#sk-container-id-6 div.sk-label-container {text-align: center;}#sk-container-id-6 div.sk-container {/* jupyter's `normalize.less` sets `[hidden] { display: none; }` but bootstrap.min.css set `[hidden] { display: none !important; }` so we also need the `!important` here to be able to override the default hidden behavior on the sphinx rendered scikit-learn.org. See: https://github.com/scikit-learn/scikit-learn/issues/21755 */display: inline-block !important;position: relative;}#sk-container-id-6 div.sk-text-repr-fallback {display: none;}</style><div id=\"sk-container-id-6\" class=\"sk-top-container\"><div class=\"sk-text-repr-fallback\"><pre>GridSearchCV(cv=5,\n             estimator=XGBClassifier(base_score=None, booster=None,\n                                     callbacks=None, colsample_bylevel=None,\n                                     colsample_bynode=None,\n                                     colsample_bytree=None,\n                                     early_stopping_rounds=None,\n                                     enable_categorical=False, eval_metric=None,\n                                     feature_types=None, gamma=None,\n                                     gpu_id=None, grow_policy=None,\n                                     importance_type=None,\n                                     interaction_constraints=None,\n                                     learning_rate=None,...\n                                     max_delta_step=None, max_depth=None,\n                                     max_leaves=None, min_child_weight=None,\n                                     missing=nan, monotone_constraints=None,\n                                     n_estimators=100, n_jobs=None,\n                                     num_parallel_tree=None, predictor=None,\n                                     random_state=0, ...),\n             n_jobs=-1,\n             param_grid={&#x27;learning_rate&#x27;: [0.01, 0.1], &#x27;max_depth&#x27;: [4, 8, 12],\n                         &#x27;min_child_weight&#x27;: [3, 5],\n                         &#x27;n_estimators&#x27;: [300, 500]},\n             refit=&#x27;recall&#x27;, scoring=[&#x27;accuracy&#x27;, &#x27;precision&#x27;, &#x27;recall&#x27;, &#x27;f1&#x27;])</pre><b>In a Jupyter environment, please rerun this cell to show the HTML representation or trust the notebook. <br />On GitHub, the HTML representation is unable to render, please try loading this page with nbviewer.org.</b></div><div class=\"sk-container\" hidden><div class=\"sk-item sk-dashed-wrapped\"><div class=\"sk-label-container\"><div class=\"sk-label sk-toggleable\"><input class=\"sk-toggleable__control sk-hidden--visually\" id=\"sk-estimator-id-12\" type=\"checkbox\" ><label for=\"sk-estimator-id-12\" class=\"sk-toggleable__label sk-toggleable__label-arrow\">GridSearchCV</label><div class=\"sk-toggleable__content\"><pre>GridSearchCV(cv=5,\n             estimator=XGBClassifier(base_score=None, booster=None,\n                                     callbacks=None, colsample_bylevel=None,\n                                     colsample_bynode=None,\n                                     colsample_bytree=None,\n                                     early_stopping_rounds=None,\n                                     enable_categorical=False, eval_metric=None,\n                                     feature_types=None, gamma=None,\n                                     gpu_id=None, grow_policy=None,\n                                     importance_type=None,\n                                     interaction_constraints=None,\n                                     learning_rate=None,...\n                                     max_delta_step=None, max_depth=None,\n                                     max_leaves=None, min_child_weight=None,\n                                     missing=nan, monotone_constraints=None,\n                                     n_estimators=100, n_jobs=None,\n                                     num_parallel_tree=None, predictor=None,\n                                     random_state=0, ...),\n             n_jobs=-1,\n             param_grid={&#x27;learning_rate&#x27;: [0.01, 0.1], &#x27;max_depth&#x27;: [4, 8, 12],\n                         &#x27;min_child_weight&#x27;: [3, 5],\n                         &#x27;n_estimators&#x27;: [300, 500]},\n             refit=&#x27;recall&#x27;, scoring=[&#x27;accuracy&#x27;, &#x27;precision&#x27;, &#x27;recall&#x27;, &#x27;f1&#x27;])</pre></div></div></div><div class=\"sk-parallel\"><div class=\"sk-parallel-item\"><div class=\"sk-item\"><div class=\"sk-label-container\"><div class=\"sk-label sk-toggleable\"><input class=\"sk-toggleable__control sk-hidden--visually\" id=\"sk-estimator-id-13\" type=\"checkbox\" ><label for=\"sk-estimator-id-13\" class=\"sk-toggleable__label sk-toggleable__label-arrow\">estimator: XGBClassifier</label><div class=\"sk-toggleable__content\"><pre>XGBClassifier(base_score=None, booster=None, callbacks=None,\n              colsample_bylevel=None, colsample_bynode=None,\n              colsample_bytree=None, early_stopping_rounds=None,\n              enable_categorical=False, eval_metric=None, feature_types=None,\n              gamma=None, gpu_id=None, grow_policy=None, importance_type=None,\n              interaction_constraints=None, learning_rate=None, max_bin=None,\n              max_cat_threshold=None, max_cat_to_onehot=None,\n              max_delta_step=None, max_depth=None, max_leaves=None,\n              min_child_weight=None, missing=nan, monotone_constraints=None,\n              n_estimators=100, n_jobs=None, num_parallel_tree=None,\n              predictor=None, random_state=0, ...)</pre></div></div></div><div class=\"sk-serial\"><div class=\"sk-item\"><div class=\"sk-estimator sk-toggleable\"><input class=\"sk-toggleable__control sk-hidden--visually\" id=\"sk-estimator-id-14\" type=\"checkbox\" ><label for=\"sk-estimator-id-14\" class=\"sk-toggleable__label sk-toggleable__label-arrow\">XGBClassifier</label><div class=\"sk-toggleable__content\"><pre>XGBClassifier(base_score=None, booster=None, callbacks=None,\n              colsample_bylevel=None, colsample_bynode=None,\n              colsample_bytree=None, early_stopping_rounds=None,\n              enable_categorical=False, eval_metric=None, feature_types=None,\n              gamma=None, gpu_id=None, grow_policy=None, importance_type=None,\n              interaction_constraints=None, learning_rate=None, max_bin=None,\n              max_cat_threshold=None, max_cat_to_onehot=None,\n              max_delta_step=None, max_depth=None, max_leaves=None,\n              min_child_weight=None, missing=nan, monotone_constraints=None,\n              n_estimators=100, n_jobs=None, num_parallel_tree=None,\n              predictor=None, random_state=0, ...)</pre></div></div></div></div></div></div></div></div></div></div>"
     },
     "execution_count": 74,
     "metadata": {},
     "output_type": "execute_result"
    }
   ],
   "source": [
    "%%time\n",
    "xgb_cv.fit(X_train, y_train)"
   ],
   "metadata": {
    "collapsed": false
   }
  },
  {
   "cell_type": "markdown",
   "metadata": {
    "id": "_HGsWfEOeWPm"
   },
   "source": [
    "<img src=\"images/Execute.png\" width=\"100\" height=\"100\" align=left>\n",
    "\n",
    "## **PACE: Execute**\n",
    "Consider the questions in your PACE Strategy Document to reflect on the Execute stage."
   ]
  },
  {
   "cell_type": "code",
   "execution_count": 75,
   "outputs": [
    {
     "data": {
      "text/plain": "   Accuarcy  Precision    Recall       F1\n0  0.999738        1.0  0.999481  0.99974",
      "text/html": "<div>\n<style scoped>\n    .dataframe tbody tr th:only-of-type {\n        vertical-align: middle;\n    }\n\n    .dataframe tbody tr th {\n        vertical-align: top;\n    }\n\n    .dataframe thead th {\n        text-align: right;\n    }\n</style>\n<table border=\"1\" class=\"dataframe\">\n  <thead>\n    <tr style=\"text-align: right;\">\n      <th></th>\n      <th>Accuarcy</th>\n      <th>Precision</th>\n      <th>Recall</th>\n      <th>F1</th>\n    </tr>\n  </thead>\n  <tbody>\n    <tr>\n      <th>0</th>\n      <td>0.999738</td>\n      <td>1.0</td>\n      <td>0.999481</td>\n      <td>0.99974</td>\n    </tr>\n  </tbody>\n</table>\n</div>"
     },
     "execution_count": 75,
     "metadata": {},
     "output_type": "execute_result"
    }
   ],
   "source": [
    "  # Get all the results from the CV and put them in a df\n",
    "### YOUR CODE HERE ###\n",
    "xgb_y_pred = xgb_cv.best_estimator_.predict(X_val)\n",
    "xgb_accuracy = accuracy_score(y_val, xgb_y_pred)\n",
    "xgb_precision = precision_score(y_val, xgb_y_pred)\n",
    "xgb_recall = recall_score(y_val, xgb_y_pred)\n",
    "xgb_f1 = f1_score(y_val, xgb_y_pred)\n",
    "xgb_frame = {'Accuarcy':xgb_accuracy, 'Precision':xgb_precision, 'Recall':xgb_recall, 'F1':xgb_f1}\n",
    "xgb_scores = pd.DataFrame(xgb_frame, index=[0])\n",
    "xgb_scores"
   ],
   "metadata": {
    "collapsed": false
   }
  },
  {
   "cell_type": "markdown",
   "source": [
    "**Question:** How well does your model perform? Consider recall score and precision score.\n"
   ],
   "metadata": {
    "collapsed": false
   }
  },
  {
   "cell_type": "markdown",
   "source": [
    "The XGB model performed just as well the Random Forest model with an accuracy of 99% and Fq score of 99%."
   ],
   "metadata": {
    "collapsed": false
   }
  },
  {
   "cell_type": "markdown",
   "metadata": {
    "id": "GyepBhCTa1Yx"
   },
   "source": [
    "### **Task 7. Evaluate model**\n",
    "\n",
    "Evaluate models against validation criteria."
   ]
  },
  {
   "cell_type": "markdown",
   "metadata": {
    "id": "vlAQZSQrRg9l"
   },
   "source": [
    "#### **Random forest**"
   ]
  },
  {
   "cell_type": "code",
   "execution_count": 76,
   "metadata": {
    "id": "mdTCEa_cRH8f"
   },
   "outputs": [
    {
     "data": {
      "text/plain": "array([1, 0, 1, 1, 1])"
     },
     "execution_count": 76,
     "metadata": {},
     "output_type": "execute_result"
    }
   ],
   "source": [
    "# Use the random forest \"best estimator\" model to get predictions on the encoded testing set\n",
    "### YOUR CODE HERE ###\n",
    "rf_y_pred = rf_cv.best_estimator_.predict(X_val)\n",
    "rf_y_pred[:5]"
   ]
  },
  {
   "cell_type": "markdown",
   "metadata": {
    "id": "rGbqgRDFRVZi"
   },
   "source": [
    "Create a confusion matrix to visualize the results of the classification model."
   ]
  },
  {
   "cell_type": "code",
   "execution_count": 77,
   "metadata": {
    "id": "_YJeJuzvRYPf"
   },
   "outputs": [
    {
     "data": {
      "text/plain": "<Figure size 640x480 with 2 Axes>",
      "image/png": "[encoded data removed]"
     },
     "metadata": {},
     "output_type": "display_data"
    }
   ],
   "source": [
    "# Create a confusion matrix to visualize the results of the classification model\n",
    "\n",
    "# Compute values for confusion matrix\n",
    "### YOUR CODE HERE ###\n",
    "rf_cm = confusion_matrix(y_val, rf_y_pred)\n",
    "\n",
    "# Create display of confusion matrix\n",
    "### YOUR CODE HERE ###\n",
    "rf_disp = ConfusionMatrixDisplay(confusion_matrix=rf_cm, display_labels=None)\n",
    "\n",
    "# Plot confusion matrix\n",
    "### YOUR CODE HERE ###\n",
    "rf_disp.plot()\n",
    "\n",
    "# Display plot\n",
    "### YOUR CODE HERE ###\n",
    "plt.show()"
   ]
  },
  {
   "cell_type": "markdown",
   "metadata": {
    "id": "C2dugw11RiIK"
   },
   "source": [
    "Create a classification report that includes precision, recall, f1-score, and accuracy metrics to evaluate the performance of the model."
   ]
  },
  {
   "cell_type": "code",
   "execution_count": 78,
   "metadata": {
    "id": "kB8e7wfhRrAl"
   },
   "outputs": [
    {
     "name": "stdout",
     "output_type": "stream",
     "text": [
      "              precision    recall  f1-score   support\n",
      "\n",
      "     opinion       1.00      1.00      1.00      1892\n",
      "       claim       1.00      1.00      1.00      1925\n",
      "\n",
      "    accuracy                           1.00      3817\n",
      "   macro avg       1.00      1.00      1.00      3817\n",
      "weighted avg       1.00      1.00      1.00      3817\n",
      "\n"
     ]
    }
   ],
   "source": [
    "# Create a classification report\n",
    "# Create classification report for random forest model\n",
    "### YOUR CODE HERE ###\n",
    "target_labels = ['opinion', 'claim']\n",
    "print(classification_report(y_val, rf_y_pred, target_names=target_labels))"
   ]
  },
  {
   "cell_type": "markdown",
   "metadata": {
    "id": "4PrZTQEXwrX6"
   },
   "source": [
    "**Question:** What does your classification report show? What does the confusion matrix indicate?"
   ]
  },
  {
   "cell_type": "markdown",
   "metadata": {
    "id": "hc8hASOOR0AU"
   },
   "source": [
    "#### **XGBoost**"
   ]
  },
  {
   "cell_type": "code",
   "execution_count": 79,
   "outputs": [
    {
     "data": {
      "text/plain": "0.990543118009127"
     },
     "execution_count": 79,
     "metadata": {},
     "output_type": "execute_result"
    }
   ],
   "source": [
    "xgb_cv.best_score_"
   ],
   "metadata": {
    "collapsed": false
   }
  },
  {
   "cell_type": "code",
   "execution_count": 80,
   "outputs": [
    {
     "data": {
      "text/plain": "array([1, 0, 1, ..., 1, 1, 1])"
     },
     "execution_count": 80,
     "metadata": {},
     "output_type": "execute_result"
    }
   ],
   "source": [
    "#Evaluate XGBoost model\n",
    "### YOUR CODE HERE ###\n",
    "xgb_y_pred = xgb_cv.best_estimator_.predict(X_val)\n",
    "xgb_y_pred"
   ],
   "metadata": {
    "collapsed": false
   }
  },
  {
   "cell_type": "code",
   "execution_count": 81,
   "metadata": {
    "id": "O9qpraX-SAjy"
   },
   "outputs": [
    {
     "data": {
      "text/plain": "<Figure size 640x480 with 2 Axes>",
      "image/png": "[encoded data removed]"
     },
     "metadata": {},
     "output_type": "display_data"
    }
   ],
   "source": [
    "# Compute values for confusion matrix\n",
    "### YOUR CODE HERE ###\n",
    "xgb_cm = confusion_matrix(y_val, xgb_y_pred)\n",
    "# Create display of confusion matrix\n",
    "### YOUR CODE HERE ###\n",
    "xgb_disp = ConfusionMatrixDisplay(confusion_matrix=xgb_cm, display_labels=None)\n",
    "# Plot confusion matrix\n",
    "### YOUR CODE HERE ###\n",
    "xgb_disp.plot()\n",
    "# Display plot\n",
    "### YOUR CODE HERE ###\n",
    "plt.show()"
   ]
  },
  {
   "cell_type": "code",
   "execution_count": 82,
   "metadata": {
    "id": "JcVuGMztSHx4"
   },
   "outputs": [
    {
     "name": "stdout",
     "output_type": "stream",
     "text": [
      "              precision    recall  f1-score   support\n",
      "\n",
      "     opinion       1.00      1.00      1.00      1892\n",
      "       claim       1.00      1.00      1.00      1925\n",
      "\n",
      "    accuracy                           1.00      3817\n",
      "   macro avg       1.00      1.00      1.00      3817\n",
      "weighted avg       1.00      1.00      1.00      3817\n",
      "\n"
     ]
    }
   ],
   "source": [
    "# Create a classification report\n",
    "### YOUR CODE HERE ###\n",
    "target_labels = ['opinion', 'claim']\n",
    "print(classification_report(y_val, xgb_y_pred, target_names=target_labels))"
   ]
  },
  {
   "cell_type": "markdown",
   "metadata": {
    "id": "vvP4OljkwX0-"
   },
   "source": [
    "**Question:** Describe your XGBoost model results. How does your XGBoost model compare to your random forest model?"
   ]
  },
  {
   "cell_type": "markdown",
   "metadata": {
    "id": "RhYr1O9jSN7O"
   },
   "source": [
    "### **Use champion model to predict on test data**"
   ]
  },
  {
   "cell_type": "code",
   "execution_count": 83,
   "metadata": {
    "id": "VJj1uNRqSQpG"
   },
   "outputs": [],
   "source": [
    "### YOUR CODE HERE ###\n",
    "champ_y_pred = rf_cv.best_estimator_.predict(X_test)"
   ]
  },
  {
   "cell_type": "code",
   "execution_count": 84,
   "metadata": {
    "id": "5lpL5ebDSQ5d"
   },
   "outputs": [
    {
     "data": {
      "text/plain": "<Figure size 640x480 with 2 Axes>",
      "image/png": "[encoded data removed]"
     },
     "metadata": {},
     "output_type": "display_data"
    }
   ],
   "source": [
    "# Compute values for confusion matrix\n",
    "### YOUR CODE HERE ###\n",
    "\n",
    "champ_cm = confusion_matrix(y_test, champ_y_pred)\n",
    "\n",
    "# Create display of confusion matrix\n",
    "### YOUR CODE HERE ###\n",
    "champ_disp = ConfusionMatrixDisplay(confusion_matrix=champ_cm, display_labels=None)\n",
    "\n",
    "# Plot confusion matrix\n",
    "### YOUR CODE HERE ###\n",
    "champ_disp.plot()\n",
    "\n",
    "# Display plot\n",
    "### YOUR CODE HERE ###\n",
    "plt.title('Random Forest Champion Model')\n",
    "plt.show()"
   ]
  },
  {
   "cell_type": "markdown",
   "metadata": {
    "id": "2vpvCa5rSVqR"
   },
   "source": [
    "#### **Feature importances of champion model**\n"
   ]
  },
  {
   "cell_type": "code",
   "execution_count": 52,
   "metadata": {
    "id": "MNtafEjgSYYt"
   },
   "outputs": [
    {
     "data": {
      "text/plain": "<Figure size 640x480 with 1 Axes>",
      "image/png": "[encoded data removed]"
     },
     "metadata": {},
     "output_type": "display_data"
    }
   ],
   "source": [
    "### YOUR CODE HERE ###\n",
    "importances = rf_cv.best_estimator_.feature_importances_\n",
    "rf_importances = pd.Series(importances, index=X_test.columns)\n",
    "\n",
    "fig, ax = plt.subplots()\n",
    "rf_importances.plot.bar(ax=ax)\n",
    "ax.set_title('Feature importances')\n",
    "ax.set_ylabel('Mean decrease in impurity')\n",
    "fig.tight_layout()"
   ]
  },
  {
   "cell_type": "markdown",
   "metadata": {
    "id": "w2-2V5tAwxlz"
   },
   "source": [
    "**Question:** Describe your most predictive features. Were your results surprising?"
   ]
  },
  {
   "cell_type": "markdown",
   "metadata": {
    "id": "ill21hQ4ej9-"
   },
   "source": [
    "### **Task 8. Conclusion**\n",
    "\n",
    "In this step use the results of the models above to formulate a conclusion. Consider the following questions:\n",
    "\n",
    "1. **Would you recommend using this model? Why or why not?**\n",
    "\n",
    "2. **What was your model doing? Can you explain how it was making predictions?**\n",
    "\n",
    "3. **Are there new features that you can engineer that might improve model performance?**\n",
    "\n",
    "4. **What features would you want to have that would likely improve the performance of your model?**\n",
    "\n",
    "Remember, sometimes your data simply will not be predictive of your chosen target. This is common. Machine learning is a powerful tool, but it is not magic. If your data does not contain predictive signal, even the most complex algorithm will not be able to deliver consistent and accurate predictions. Do not be afraid to draw this conclusion.\n"
   ]
  },
  {
   "cell_type": "markdown",
   "metadata": {
    "id": "BfD0kv7qE3lw"
   },
   "source": [
    "1. Yes I would recommend using this model because it performed consistently well with almost perfect scores and classified the target variable of 'Claim' or 'Opinion' with high accuracy and precision.\n",
    "2. The models most influential features were related to the engagement levels of each video and is classifying based on the views, likes, shares, downloads and comments associated with the video.\n",
    "3. I think it would unnecessary since the model is almost 100% accurate.\n",
    "4. Again I think it would not be necessary since the model is so accurate."
   ]
  }
 ],
 "metadata": {
  "colab": {
   "provenance": [],
   "toc_visible": true
  },
  "kernelspec": {
   "display_name": "Python 3 (ipykernel)",
   "language": "python",
   "name": "python3"
  },
  "language_info": {
   "codemirror_mode": {
    "name": "ipython",
    "version": 3
   },
   "file_extension": ".py",
   "mimetype": "text/x-python",
   "name": "python",
   "nbconvert_exporter": "python",
   "pygments_lexer": "ipython3",
   "version": "3.11.3"
  }
 },
 "nbformat": 4,
 "nbformat_minor": 1
}
